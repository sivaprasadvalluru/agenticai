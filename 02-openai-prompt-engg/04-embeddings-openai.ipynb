{
 "cells": [
  {
   "cell_type": "code",
   "execution_count": 2,
   "metadata": {
    "executionInfo": {
     "elapsed": 2538,
     "status": "ok",
     "timestamp": 1738167744470,
     "user": {
      "displayName": "Deepesh DUBEY",
      "userId": "13163920898119352336"
     },
     "user_tz": -330
    },
    "id": "vz_l9hQVDKkl"
   },
   "outputs": [],
   "source": [
    "import openai\n",
    "from google.colab import userdata\n",
    "\n",
    "# Set OpenAI API key\n",
    "import os\n",
    "os.environ[\"OPENAI_API_KEY\"] = userdata.get('OPENAI_API_KEY')"
   ]
  },
  {
   "cell_type": "code",
   "execution_count": null,
   "metadata": {
    "colab": {
     "base_uri": "https://localhost:8080/"
    },
    "executionInfo": {
     "elapsed": 3314,
     "status": "ok",
     "timestamp": 1738167771676,
     "user": {
      "displayName": "Deepesh DUBEY",
      "userId": "13163920898119352336"
     },
     "user_tz": -330
    },
    "id": "69I0MzgM22QC",
    "outputId": "8913477a-35fd-40cc-bd1a-3759e400f27b"
   },
   "outputs": [],
   "source": [
    "pip install openai\n"
   ]
  },
  {
   "cell_type": "code",
   "execution_count": 4,
   "metadata": {
    "executionInfo": {
     "elapsed": 2564,
     "status": "ok",
     "timestamp": 1738167778328,
     "user": {
      "displayName": "Deepesh DUBEY",
      "userId": "13163920898119352336"
     },
     "user_tz": -330
    },
    "id": "EbdTk2f23FgK"
   },
   "outputs": [],
   "source": [
    "import openai\n",
    "from google.colab import userdata\n",
    "\n",
    "# Set OpenAI API key\n",
    "import os\n",
    "os.environ[\"OPENAI_API_KEY\"] = userdata.get('OPENAI_API_KEY')"
   ]
  },
  {
   "cell_type": "code",
   "execution_count": null,
   "metadata": {
    "colab": {
     "base_uri": "https://localhost:8080/"
    },
    "executionInfo": {
     "elapsed": 1894,
     "status": "ok",
     "timestamp": 1738167800007,
     "user": {
      "displayName": "Deepesh DUBEY",
      "userId": "13163920898119352336"
     },
     "user_tz": -330
    },
    "id": "GFWGEHaD29L0",
    "outputId": "58479cf1-f4f2-4ea8-8107-94997d3a5443"
   },
   "outputs": [],
   "source": [
    "from openai import OpenAI\n",
    "import numpy as np\n",
    "\n",
    "client = OpenAI()\n",
    "\n",
    "text1 = \"sunny day\"\n",
    "text2 = \"bright weather\"\n",
    "\n",
    "def get_embedding(text, model=\"text-embedding-ada-002\"):\n",
    "    response = client.embeddings.create(input=text, model=model)\n",
    "    return response.data[0].embedding\n",
    "\n",
    "def cosine_similarity(vec1, vec2):\n",
    "    return np.dot(vec1, vec2) / (np.linalg.norm(vec1) * np.linalg.norm(vec2))\n",
    "\n",
    "embedding1 = get_embedding(text1)\n",
    "embedding2 = get_embedding(text2)\n",
    "\n",
    "similarity = cosine_similarity(embedding1, embedding2)\n",
    "\n",
    "print(f\"Cosine similaritIES between '{text1}' and '{text2}': {similarity:.4f}\")\n"
   ]
  }
 ],
 "metadata": {
  "colab": {
   "provenance": []
  },
  "kernelspec": {
   "display_name": "Python 3",
   "name": "python3"
  },
  "language_info": {
   "name": "python"
  }
 },
 "nbformat": 4,
 "nbformat_minor": 0
}
