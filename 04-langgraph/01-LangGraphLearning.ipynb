{
 "cells": [
  {
   "cell_type": "markdown",
   "metadata": {
    "id": "XRT_tisd4NnV"
   },
   "source": [
    "# Building the simplest Graph\n",
    "\n",
    "We start with a graph with two nodes connected by one edge.\n"
   ]
  },
  {
   "cell_type": "code",
   "execution_count": null,
   "metadata": {
    "id": "DibFooEn4NnX"
   },
   "outputs": [],
   "source": [
    "pip install langgraph langchain_community langchain langchain_openai langchain_experimental python-dotenv pyowm setuptools httpx==0.27.2"
   ]
  },
  {
   "cell_type": "markdown",
   "metadata": {
    "id": "jCXDwd9t4NnY"
   },
   "source": [
    "Nodes act like functions that can be called as needed. In our case Node 1 is our starting point and Node 2 is our finish point."
   ]
  },
  {
   "cell_type": "code",
   "execution_count": 1,
   "metadata": {
    "id": "DPVvzgv14NnZ"
   },
   "outputs": [],
   "source": [
    "def function_1(input_1):\n",
    "    return input_1 + \" Hi \"\n",
    "\n",
    "def function_2(input_2):\n",
    "    return input_2 + \"there\""
   ]
  },
  {
   "cell_type": "code",
   "execution_count": 2,
   "metadata": {
    "colab": {
     "base_uri": "https://localhost:8080/",
     "height": 350
    },
    "executionInfo": {
     "elapsed": 3056,
     "status": "ok",
     "timestamp": 1733498707089,
     "user": {
      "displayName": "SivaPrasad Valluru",
      "userId": "03440549206981602615"
     },
     "user_tz": -330
    },
    "id": "CJvLo-Fe4NnZ",
    "outputId": "16dcafee-4763-422d-aa57-bf558afbc9f5"
   },
   "outputs": [
    {
     "data": {
      "image/png": "[encoded data removed]",
      "text/plain": [
       "<IPython.core.display.Image object>"
      ]
     },
     "metadata": {},
     "output_type": "display_data"
    }
   ],
   "source": [
    "from langgraph.graph import Graph\n",
    "from IPython.display import Image, display\n",
    "\n",
    "# Define a Langchain graph\n",
    "workflow = Graph()\n",
    "\n",
    "workflow.add_node(\"node_1\", function_1)\n",
    "workflow.add_node(\"node_2\", function_2)\n",
    "\n",
    "workflow.add_edge('node_1', 'node_2')\n",
    "\n",
    "workflow.set_entry_point(\"node_1\")\n",
    "workflow.set_finish_point(\"node_2\")\n",
    "\n",
    "app = workflow.compile()\n",
    "\n",
    "\n",
    "display(Image(app.get_graph().draw_mermaid_png()))\n"
   ]
  },
  {
   "cell_type": "code",
   "execution_count": 3,
   "metadata": {
    "id": "FMsOh0Xq4NnZ"
   },
   "outputs": [
    {
     "data": {
      "text/plain": [
       "'Hello Hi there'"
      ]
     },
     "execution_count": 3,
     "metadata": {},
     "output_type": "execute_result"
    }
   ],
   "source": [
    "app.invoke(\"Hello\")"
   ]
  },
  {
   "cell_type": "code",
   "execution_count": 4,
   "metadata": {
    "id": "1nKov0oH4Nna"
   },
   "outputs": [
    {
     "name": "stdout",
     "output_type": "stream",
     "text": [
      "Output from node 'node_1':\n",
      "---\n",
      "Hello Hi \n",
      "\n",
      "---\n",
      "\n",
      "Output from node 'node_2':\n",
      "---\n",
      "Hello Hi there\n",
      "\n",
      "---\n",
      "\n"
     ]
    }
   ],
   "source": [
    "input = 'Hello'\n",
    "for output in app.stream(input):\n",
    "    # stream() yields dictionaries with output keyed by node name\n",
    "    for key, value in output.items():\n",
    "        print(f\"Output from node '{key}':\")\n",
    "        print(\"---\")\n",
    "        print(value)\n",
    "    print(\"\\n---\\n\")"
   ]
  },
  {
   "cell_type": "markdown",
   "metadata": {
    "id": "pG58dz464Nna"
   },
   "source": [
    "### As you can see, we can run the nodes as functions and return some values from them.\n",
    "\n"
   ]
  },
  {
   "cell_type": "markdown",
   "metadata": {
    "id": "W_ZmBvQ44Nna"
   },
   "source": [
    "# Adding LLM Call\n",
    "\n",
    "Now, let's make the first node as an \"Agent\" that can call Open AI models. We can use langchain to make this call easy for us."
   ]
  },
  {
   "cell_type": "code",
   "execution_count": 6,
   "metadata": {
    "id": "mK3heWggaq8r"
   },
   "outputs": [
    {
     "data": {
      "text/plain": [
       "True"
      ]
     },
     "execution_count": 6,
     "metadata": {},
     "output_type": "execute_result"
    }
   ],
   "source": [
    "from dotenv import load_dotenv\n",
    "load_dotenv()"
   ]
  },
  {
   "cell_type": "markdown",
   "metadata": {
    "id": "R69nkWvr4Nnb"
   },
   "source": [
    "A usual call to ChatOpenAI model in LangChain is done as below:\n",
    "\n",
    "First set your API keys for OpenAI"
   ]
  },
  {
   "cell_type": "code",
   "execution_count": 7,
   "metadata": {
    "colab": {
     "base_uri": "https://localhost:8080/"
    },
    "executionInfo": {
     "elapsed": 3027,
     "status": "ok",
     "timestamp": 1733498712473,
     "user": {
      "displayName": "SivaPrasad Valluru",
      "userId": "03440549206981602615"
     },
     "user_tz": -330
    },
    "id": "kVxtkOta4Nnc",
    "outputId": "a6c37721-f3db-4d36-82ff-90859b379a6e"
   },
   "outputs": [
    {
     "data": {
      "text/plain": [
       "AIMessage(content='Hello! How can I assist you today?', additional_kwargs={'refusal': None}, response_metadata={'token_usage': {'completion_tokens': 9, 'prompt_tokens': 9, 'total_tokens': 18, 'completion_tokens_details': {'accepted_prediction_tokens': 0, 'audio_tokens': 0, 'reasoning_tokens': 0, 'rejected_prediction_tokens': 0}, 'prompt_tokens_details': {'audio_tokens': 0, 'cached_tokens': 0}}, 'model_name': 'gpt-4o-mini-2024-07-18', 'system_fingerprint': 'fp_34a54ae93c', 'id': 'chatcmpl-BlFkFQdZ9zZgJ40oK5vN1w9sx9Xmr', 'service_tier': 'default', 'finish_reason': 'stop', 'logprobs': None}, id='run--3e240b12-3dfd-4fd4-ad69-a21ab630cff4-0', usage_metadata={'input_tokens': 9, 'output_tokens': 9, 'total_tokens': 18, 'input_token_details': {'audio': 0, 'cache_read': 0}, 'output_token_details': {'audio': 0, 'reasoning': 0}})"
      ]
     },
     "execution_count": 7,
     "metadata": {},
     "output_type": "execute_result"
    }
   ],
   "source": [
    "from langchain_openai import ChatOpenAI\n",
    "\n",
    "# Set the model as ChatOpenAI\n",
    "model = ChatOpenAI(model=\"gpt-4o-mini\")\n",
    "\n",
    "#Call the model with a user message\n",
    "model.invoke('Hey there')"
   ]
  },
  {
   "cell_type": "markdown",
   "metadata": {
    "id": "sCk1wp254Nnc"
   },
   "source": [
    "Cool! Keeping that in mind, let's change the function 1 above so that we can send the user question to the model. Then we will send this response to function 2, which will add a short string and return to the user."
   ]
  },
  {
   "cell_type": "code",
   "execution_count": 8,
   "metadata": {
    "id": "1ngJ7Bzx4Nnc"
   },
   "outputs": [],
   "source": [
    "def function_1(input_1):\n",
    "    response = model.invoke(input_1)\n",
    "    return response.content\n",
    "\n",
    "def function_2(input_2):\n",
    "    return \"Agent Says: \" + input_2"
   ]
  },
  {
   "cell_type": "code",
   "execution_count": 9,
   "metadata": {
    "colab": {
     "base_uri": "https://localhost:8080/",
     "height": 350
    },
    "executionInfo": {
     "elapsed": 563,
     "status": "ok",
     "timestamp": 1733498716668,
     "user": {
      "displayName": "SivaPrasad Valluru",
      "userId": "03440549206981602615"
     },
     "user_tz": -330
    },
    "id": "CfaKNkTe4Nnc",
    "outputId": "54b0d428-e536-44c5-fbd1-e593a2d0ec4c"
   },
   "outputs": [
    {
     "data": {
      "image/png": "[encoded data removed]",
      "text/plain": [
       "<IPython.core.display.Image object>"
      ]
     },
     "metadata": {},
     "output_type": "display_data"
    }
   ],
   "source": [
    "from IPython.display import Image, display\n",
    "\n",
    "# Define a Langchain graph\n",
    "workflow = Graph()\n",
    "\n",
    "#calling node 1 as agent\n",
    "workflow.add_node(\"agent\", function_1)\n",
    "workflow.add_node(\"node_2\", function_2)\n",
    "\n",
    "workflow.add_edge('agent', 'node_2')\n",
    "\n",
    "workflow.set_entry_point(\"agent\")\n",
    "workflow.set_finish_point(\"node_2\")\n",
    "\n",
    "app = workflow.compile()\n",
    "display(Image(app.get_graph().draw_mermaid_png()))\n"
   ]
  },
  {
   "cell_type": "code",
   "execution_count": 10,
   "metadata": {
    "id": "wIGi010R4Nnc"
   },
   "outputs": [
    {
     "data": {
      "text/plain": [
       "'Agent Says: Hello! How can I assist you today?'"
      ]
     },
     "execution_count": 10,
     "metadata": {},
     "output_type": "execute_result"
    }
   ],
   "source": [
    "app.invoke(\"Hey there\")"
   ]
  },
  {
   "cell_type": "code",
   "execution_count": 11,
   "metadata": {
    "id": "s4afgZVs4Nnd"
   },
   "outputs": [
    {
     "name": "stdout",
     "output_type": "stream",
     "text": [
      "Output from node 'agent':\n",
      "---\n",
      "Hello! How can I assist you today?\n",
      "\n",
      "---\n",
      "\n",
      "Output from node 'node_2':\n",
      "---\n",
      "Agent Says: Hello! How can I assist you today?\n",
      "\n",
      "---\n",
      "\n"
     ]
    }
   ],
   "source": [
    "input = 'Hey there'\n",
    "for output in app.stream(input):\n",
    "    # stream() yields dictionaries with output keyed by node name\n",
    "    for key, value in output.items():\n",
    "        print(f\"Output from node '{key}':\")\n",
    "        print(\"---\")\n",
    "        print(value)\n",
    "    print(\"\\n---\\n\")"
   ]
  },
  {
   "cell_type": "markdown",
   "metadata": {
    "id": "8SgNHzyo4Nnd"
   },
   "source": [
    "# First functional Agent App - City Temperature\n",
    "\n",
    "### Step 1: Parse the city mentioned\n",
    "Let's extract the city that a user mentions in a query"
   ]
  },
  {
   "cell_type": "code",
   "execution_count": 12,
   "metadata": {
    "id": "l2joyseV4Nnd"
   },
   "outputs": [],
   "source": [
    "def function_1(input_1):\n",
    "    complete_query = \"Your task is to provide only the city name based on the user query. \\\n",
    "        Nothing more, just the city name mentioned. Following is the user query: \" + input_1\n",
    "    response = model.invoke(complete_query)\n",
    "    return response.content\n",
    "\n",
    "def function_2(input_2):\n",
    "    return \"Agent Says: \" + input_2"
   ]
  },
  {
   "cell_type": "code",
   "execution_count": 13,
   "metadata": {
    "id": "MFtTE9PT4Nnd"
   },
   "outputs": [
    {
     "data": {
      "image/png": "[encoded data removed]",
      "text/plain": [
       "<IPython.core.display.Image object>"
      ]
     },
     "metadata": {},
     "output_type": "display_data"
    }
   ],
   "source": [
    "from IPython.display import Image, display\n",
    "\n",
    "# Define a Langchain graph\n",
    "workflow = Graph()\n",
    "\n",
    "#calling node 1 as agent\n",
    "workflow.add_node(\"agent\", function_1)\n",
    "workflow.add_node(\"node_2\", function_2)\n",
    "\n",
    "workflow.add_edge('agent', 'node_2')\n",
    "\n",
    "workflow.set_entry_point(\"agent\")\n",
    "workflow.set_finish_point(\"node_2\")\n",
    "\n",
    "app = workflow.compile()\n",
    "display(Image(app.get_graph().draw_mermaid_png()))\n"
   ]
  },
  {
   "cell_type": "code",
   "execution_count": 14,
   "metadata": {
    "id": "jtt0AyaI4Nnd"
   },
   "outputs": [
    {
     "data": {
      "text/plain": [
       "'Agent Says: Las Vegas'"
      ]
     },
     "execution_count": 14,
     "metadata": {},
     "output_type": "execute_result"
    }
   ],
   "source": [
    "app.invoke(\"What's the temperature in Las Vegas\")"
   ]
  },
  {
   "cell_type": "markdown",
   "metadata": {
    "id": "4O5RYxaH4Nnd"
   },
   "source": [
    "### Step 2: Adding a weather API call\n",
    "\n",
    "What if we want the function 2 to take the city name and give us the weather for that city.\n",
    "\n",
    "Well we know that Open Weather Map is [integrated](https://python.langchain.com/docs/integrations/tools/openweathermap) into LangChain\n",
    "\n",
    "We need to install pyown, create an API key on the website of Open Weather Map (which takes a few hours to activate) and then run the cells below to get weather of a given city."
   ]
  },
  {
   "cell_type": "code",
   "execution_count": 17,
   "metadata": {
    "colab": {
     "base_uri": "https://localhost:8080/"
    },
    "executionInfo": {
     "elapsed": 347,
     "status": "ok",
     "timestamp": 1733498720688,
     "user": {
      "displayName": "SivaPrasad Valluru",
      "userId": "03440549206981602615"
     },
     "user_tz": -330
    },
    "id": "QHpLz9Qn4Nnd",
    "outputId": "4694d4a2-1dde-4ae1-9b4d-9daeffda37a8"
   },
   "outputs": [
    {
     "name": "stdout",
     "output_type": "stream",
     "text": [
      "cba894c60724a02c986ab11fbc25da09\n"
     ]
    }
   ],
   "source": [
    "from langchain_community.utilities import OpenWeatherMapAPIWrapper\n",
    "import os\n",
    "print(os.environ[\"OPENWEATHERMAP_API_KEY\"])\n",
    "weather = OpenWeatherMapAPIWrapper()\n"
   ]
  },
  {
   "cell_type": "code",
   "execution_count": 18,
   "metadata": {
    "id": "odMC8__O4Nnd"
   },
   "outputs": [
    {
     "name": "stdout",
     "output_type": "stream",
     "text": [
      "In Bangalore, the current weather is as follows:\n",
      "Detailed status: overcast clouds\n",
      "Wind speed: 7.43 m/s, direction: 263°\n",
      "Humidity: 65%\n",
      "Temperature: \n",
      "  - Current: 26.18°C\n",
      "  - High: 26.18°C\n",
      "  - Low: 26.18°C\n",
      "  - Feels like: 26.18°C\n",
      "Rain: {}\n",
      "Heat index: None\n",
      "Cloud cover: 87%\n"
     ]
    }
   ],
   "source": [
    "weather_data = weather.run(\"Bangalore\")\n",
    "print(weather_data)"
   ]
  },
  {
   "cell_type": "markdown",
   "metadata": {
    "id": "2m8mO3D84Nnd"
   },
   "source": [
    "Now, let's integrate this into function 2 and call the function two as a \"tool\" or \"weather_agent\" instead of \"node_2\" in our workflow."
   ]
  },
  {
   "cell_type": "code",
   "execution_count": 19,
   "metadata": {
    "id": "EeSF4Eew4Nne"
   },
   "outputs": [],
   "source": [
    "def function_1(input_1):\n",
    "    complete_query = \"Your task is to provide only the city name based on the user query. \\\n",
    "        Nothing more, just the city name mentioned. Following is the user query: \" + input_1\n",
    "    response = model.invoke(complete_query)\n",
    "    return response.content\n",
    "\n",
    "def function_2(input_2):\n",
    "    weather_data = weather.run(input_2)\n",
    "    return weather_data"
   ]
  },
  {
   "cell_type": "code",
   "execution_count": 20,
   "metadata": {
    "id": "pFq5Lk0a4Nne"
   },
   "outputs": [
    {
     "data": {
      "image/png": "[encoded data removed]",
      "text/plain": [
       "<IPython.core.display.Image object>"
      ]
     },
     "metadata": {},
     "output_type": "display_data"
    }
   ],
   "source": [
    "from langgraph.graph import Graph\n",
    "\n",
    "workflow = Graph()\n",
    "\n",
    "#calling node 1 as agent\n",
    "workflow.add_node(\"agent\", function_1)\n",
    "workflow.add_node(\"tool\", function_2)\n",
    "\n",
    "workflow.add_edge('agent', 'tool')\n",
    "\n",
    "workflow.set_entry_point(\"agent\")\n",
    "workflow.set_finish_point(\"tool\")\n",
    "\n",
    "app = workflow.compile()\n",
    "display(Image(app.get_graph().draw_mermaid_png()))"
   ]
  },
  {
   "cell_type": "code",
   "execution_count": 21,
   "metadata": {
    "id": "aV__WxPt4Nne"
   },
   "outputs": [
    {
     "data": {
      "text/plain": [
       "'In Hyderabad, the current weather is as follows:\\nDetailed status: overcast clouds\\nWind speed: 7.27 m/s, direction: 262°\\nHumidity: 48%\\nTemperature: \\n  - Current: 31.31°C\\n  - High: 31.31°C\\n  - Low: 31.31°C\\n  - Feels like: 32.73°C\\nRain: {}\\nHeat index: None\\nCloud cover: 88%'"
      ]
     },
     "execution_count": 21,
     "metadata": {},
     "output_type": "execute_result"
    }
   ],
   "source": [
    "app.invoke(\"What's the temperature in Hyderabad\")"
   ]
  },
  {
   "cell_type": "code",
   "execution_count": 22,
   "metadata": {
    "id": "N8cx7k8R4Nne"
   },
   "outputs": [
    {
     "name": "stdout",
     "output_type": "stream",
     "text": [
      "Output from node 'agent':\n",
      "---\n",
      "Bangalore\n",
      "\n",
      "---\n",
      "\n",
      "Output from node 'tool':\n",
      "---\n",
      "In Bangalore, the current weather is as follows:\n",
      "Detailed status: overcast clouds\n",
      "Wind speed: 7.43 m/s, direction: 263°\n",
      "Humidity: 65%\n",
      "Temperature: \n",
      "  - Current: 26.18°C\n",
      "  - High: 26.18°C\n",
      "  - Low: 26.18°C\n",
      "  - Feels like: 26.18°C\n",
      "Rain: {}\n",
      "Heat index: None\n",
      "Cloud cover: 87%\n",
      "\n",
      "---\n",
      "\n"
     ]
    }
   ],
   "source": [
    "input = \"What's the temperature in Bangalore\"\n",
    "for output in app.stream(input):\n",
    "    # stream() yields dictionaries with output keyed by node name\n",
    "    for key, value in output.items():\n",
    "        print(f\"Output from node '{key}':\")\n",
    "        print(\"---\")\n",
    "        print(value)\n",
    "    print(\"\\n---\\n\")"
   ]
  },
  {
   "cell_type": "markdown",
   "metadata": {
    "id": "BfDzT6LI4Nne"
   },
   "source": [
    "### Step 3 Adding another LLM Call to filter results\n",
    "\n",
    "What if we only want the temperature? But current setup gives us the full weather report.\n",
    "\n",
    "Well we can make another LLM call to filter data"
   ]
  },
  {
   "cell_type": "code",
   "execution_count": 23,
   "metadata": {
    "id": "GCJP2Asz4Nne"
   },
   "outputs": [],
   "source": [
    "def function_3(input_3):\n",
    "    complete_query = \"\"\"Your task is to provide info concisely based on the\n",
    "     user query. Following is the user query: \"\"\" + input_3\n",
    "    response = model.invoke(complete_query)\n",
    "    return response.content"
   ]
  },
  {
   "cell_type": "markdown",
   "metadata": {
    "id": "ydv0aHXs4Nne"
   },
   "source": [
    "But the issue is the user input is not available from node 2.\n",
    "\n",
    "Can we pass user input all along from first node to the last?\n",
    "\n",
    "Yes, we can use a dictionary and pass it between nodes (we could also use just a list, but dict makes it a bit easier)"
   ]
  },
  {
   "cell_type": "code",
   "execution_count": 24,
   "metadata": {
    "id": "ghfve0xE4Nne"
   },
   "outputs": [],
   "source": [
    "# assign AgentState as an empty dict\n",
    "AgentState = {}\n",
    "\n",
    "# messages key will be assigned as an empty array.\n",
    "# We will append new messages as we pass along nodes.\n",
    "AgentState[\"messages\"] = []"
   ]
  },
  {
   "cell_type": "code",
   "execution_count": 25,
   "metadata": {
    "id": "IkqZkTBe4Nne"
   },
   "outputs": [
    {
     "data": {
      "text/plain": [
       "{'messages': []}"
      ]
     },
     "execution_count": 25,
     "metadata": {},
     "output_type": "execute_result"
    }
   ],
   "source": [
    "AgentState"
   ]
  },
  {
   "cell_type": "markdown",
   "metadata": {
    "id": "N6WqnFjh4Nnh"
   },
   "source": [
    "Our goal is to have this state filled as:\n",
    "{'messages': [HumanMessage, AIMessage, ...]]}\n",
    "\n",
    "Also now we need to modify our functions to pass info along the new AgentState"
   ]
  },
  {
   "cell_type": "code",
   "execution_count": 26,
   "metadata": {
    "id": "MLk4BXGh4Nnh"
   },
   "outputs": [],
   "source": [
    "def function_1(state):\n",
    "    messages = state['messages']\n",
    "    user_input = messages[-1]\n",
    "    complete_query = \"Your task is to provide only the city name based on the user query. \\\n",
    "                    Nothing more, just the city name mentioned. Following is the user query: \" + user_input\n",
    "    response = model.invoke(complete_query)\n",
    "    state['messages'].append(response.content) # appending AIMessage response to the AgentState\n",
    "    return state\n",
    "\n",
    "def function_2(state):\n",
    "    messages = state['messages']\n",
    "    agent_response = messages[-1]\n",
    "    weather = OpenWeatherMapAPIWrapper()\n",
    "    weather_data = weather.run(agent_response)\n",
    "    state['messages'].append(weather_data)\n",
    "    return state\n",
    "\n",
    "def function_3(state):\n",
    "    messages = state['messages']\n",
    "    user_input = messages[0]\n",
    "    available_info = messages[-1]\n",
    "    agent2_query = \"\"\"Your task is to provide info concisely based on the\n",
    "             user query and the available information from the internet.\n",
    "            Following is the user query: \"\"\" + user_input + \" Available information: \" + available_info\n",
    "    response = model.invoke(agent2_query)\n",
    "    return response.content\n"
   ]
  },
  {
   "cell_type": "code",
   "execution_count": 27,
   "metadata": {
    "id": "wnvW9cuD4Nni"
   },
   "outputs": [
    {
     "data": {
      "image/png": "[encoded data removed]",
      "text/plain": [
       "<IPython.core.display.Image object>"
      ]
     },
     "metadata": {},
     "output_type": "display_data"
    }
   ],
   "source": [
    "from langgraph.graph import Graph\n",
    "\n",
    "workflow = Graph()\n",
    "\n",
    "\n",
    "workflow.add_node(\"agent\", function_1)\n",
    "workflow.add_node(\"tool\", function_2)\n",
    "workflow.add_node(\"responder\", function_3)\n",
    "\n",
    "workflow.add_edge('agent', 'tool')\n",
    "workflow.add_edge('tool', 'responder')\n",
    "\n",
    "workflow.set_entry_point(\"agent\")\n",
    "workflow.set_finish_point(\"responder\")\n",
    "\n",
    "app = workflow.compile()\n",
    "display(Image(app.get_graph().draw_mermaid_png()))"
   ]
  },
  {
   "cell_type": "code",
   "execution_count": 28,
   "metadata": {
    "id": "bNKIVgbJ4Nni"
   },
   "outputs": [
    {
     "data": {
      "text/plain": [
       "'The current humidity in Bangalore is 65%.'"
      ]
     },
     "execution_count": 28,
     "metadata": {},
     "output_type": "execute_result"
    }
   ],
   "source": [
    "inputs = {\"messages\": [\"what is the humidity in Bangalore\"]}\n",
    "app.invoke(inputs)"
   ]
  },
  {
   "cell_type": "code",
   "execution_count": 29,
   "metadata": {
    "id": "Hb0raqf04Nni"
   },
   "outputs": [
    {
     "name": "stdout",
     "output_type": "stream",
     "text": [
      "Output from node 'agent':\n",
      "---\n",
      "{'messages': ['what is the humidity in Bangalore', 'Bangalore']}\n",
      "\n",
      "---\n",
      "\n",
      "Output from node 'tool':\n",
      "---\n",
      "{'messages': ['what is the humidity in Bangalore', 'Bangalore', 'In Bangalore, the current weather is as follows:\\nDetailed status: overcast clouds\\nWind speed: 7.43 m/s, direction: 263°\\nHumidity: 65%\\nTemperature: \\n  - Current: 26.18°C\\n  - High: 26.18°C\\n  - Low: 26.18°C\\n  - Feels like: 26.18°C\\nRain: {}\\nHeat index: None\\nCloud cover: 87%']}\n",
      "\n",
      "---\n",
      "\n",
      "Output from node 'responder':\n",
      "---\n",
      "The current humidity in Bangalore is 65%.\n",
      "\n",
      "---\n",
      "\n"
     ]
    }
   ],
   "source": [
    "input = {\"messages\": [\"what is the humidity in Bangalore\"]}\n",
    "for output in app.stream(input):\n",
    "    # stream() yields dictionaries with output keyed by node name\n",
    "    for key, value in output.items():\n",
    "        print(f\"Output from node '{key}':\")\n",
    "        print(\"---\")\n",
    "        print(value)\n",
    "    print(\"\\n---\\n\")"
   ]
  },
  {
   "cell_type": "markdown",
   "metadata": {
    "id": "kynFFbps4Nni"
   },
   "source": [
    "As we notice that there is a lot of appending to the array going on, we can make it a bit easier with the following:\n",
    "\n",
    "```bash\n",
    "from typing import TypedDict, Annotated, Sequence\n",
    "import operator\n",
    "from langchain_core.messages import BaseMessage\n",
    "\n",
    "\n",
    "class AgentState(TypedDict):\n",
    "    messages: Annotated[list, operator.add]\n"
   ]
  },
  {
   "cell_type": "code",
   "execution_count": 30,
   "metadata": {},
   "outputs": [],
   "source": [
    "from typing import TypedDict, Annotated, Sequence\n",
    "import operator\n",
    "from langchain_core.messages import BaseMessage\n",
    "\n",
    "\n",
    "class AgentState(TypedDict):\n",
    "    messages: Annotated[list, operator.add]"
   ]
  },
  {
   "cell_type": "code",
   "execution_count": 31,
   "metadata": {},
   "outputs": [],
   "source": [
    "def function_1(state):\n",
    "    messages = state['messages']\n",
    "    user_input = messages[-1]\n",
    "    complete_query = \"Your task is to provide only the city name based on the user query. \\\n",
    "                    Nothing more, just the city name mentioned. Following is the user query: \" + user_input\n",
    "    response = model.invoke(complete_query)\n",
    "    #state['messages'].append(response.content) # appending AIMessage response to the AgentState\n",
    "    return {\"messages\":[response.content]}\n",
    "\n",
    "def function_2(state):\n",
    "    messages = state['messages']\n",
    "    agent_response = messages[-1]\n",
    "    weather = OpenWeatherMapAPIWrapper()\n",
    "    weather_data = weather.run(agent_response)\n",
    "   # state['messages'].append(weather_data)\n",
    "    return {\"messages\": [weather_data]}\n",
    "\n",
    "def function_3(state):\n",
    "    messages = state['messages']\n",
    "    user_input = messages[0]\n",
    "    available_info = messages[-1]\n",
    "    agent2_query = \"\"\"Your task is to provide info concisely based on the\n",
    "             user query and the available information from the internet.\n",
    "            Following is the user query: \"\"\" + user_input + \" Available information: \" + available_info\n",
    "    response = model.invoke(agent2_query)\n",
    "    return {\"messages\":[response.content]}\n"
   ]
  },
  {
   "cell_type": "code",
   "execution_count": 32,
   "metadata": {},
   "outputs": [
    {
     "data": {
      "image/png": "[encoded data removed]",
      "text/plain": [
       "<IPython.core.display.Image object>"
      ]
     },
     "metadata": {},
     "output_type": "display_data"
    }
   ],
   "source": [
    "from langgraph.graph import StateGraph\n",
    "\n",
    "workflow = StateGraph(state_schema=AgentState )\n",
    "\n",
    "workflow.add_node(\"agent\", function_1)\n",
    "workflow.add_node(\"tool\", function_2)\n",
    "workflow.add_node(\"responder\", function_3)\n",
    "\n",
    "workflow.add_edge('agent', 'tool')\n",
    "workflow.add_edge('tool', 'responder')\n",
    "\n",
    "workflow.set_entry_point(\"agent\")\n",
    "workflow.set_finish_point(\"responder\")\n",
    "\n",
    "app = workflow.compile()\n",
    "display(Image(app.get_graph().draw_mermaid_png()))"
   ]
  },
  {
   "cell_type": "markdown",
   "metadata": {},
   "source": [
    "Instead of using operator.add , we can use add_messages as below"
   ]
  },
  {
   "cell_type": "code",
   "execution_count": 33,
   "metadata": {},
   "outputs": [],
   "source": [
    "from typing import TypedDict, Annotated, Sequence\n",
    "import operator\n",
    "from langchain_core.messages import BaseMessage\n",
    "from langgraph.graph.message import add_messages\n",
    "\n",
    "\n",
    "class AgentState(TypedDict):\n",
    "     # Messages have the type \"list\". The `add_messages` function\n",
    "    # in the annotation defines how this state key should be updated\n",
    "    # (in this case, it appends messages to the list, rather than overwriting them)\n",
    "    messages: Annotated[list, add_messages]\n",
    "   # messages: Annotated[Sequence[BaseMessage], operator.add]"
   ]
  },
  {
   "cell_type": "markdown",
   "metadata": {},
   "source": [
    "**Understanding about add_messages**"
   ]
  },
  {
   "cell_type": "code",
   "execution_count": 34,
   "metadata": {},
   "outputs": [
    {
     "data": {
      "text/plain": [
       "[AIMessage(content='Hello! How can I assist you?', additional_kwargs={}, response_metadata={}, name='Model', id='191daf2d-bea2-469f-85c9-96b45b8a775c'),\n",
       " HumanMessage(content=\"I'm looking for information on marine biology.\", additional_kwargs={}, response_metadata={}, name='Siva', id='f66766eb-4b84-4b23-b59c-5d5334a2247c'),\n",
       " AIMessage(content='Sure, I can help with that. What specifically are you interested in?', additional_kwargs={}, response_metadata={}, name='Model', id='6965ab03-2b97-446e-85f8-c4a101576842')]"
      ]
     },
     "execution_count": 34,
     "metadata": {},
     "output_type": "execute_result"
    }
   ],
   "source": [
    "from langgraph.graph.message import add_messages\n",
    "from langchain_core.messages import AIMessage, HumanMessage\n",
    "\n",
    "# Initial state\n",
    "initial_messages = [AIMessage(content=\"Hello! How can I assist you?\", name=\"Model\"),\n",
    "                    HumanMessage(content=\"I'm looking for information on marine biology.\", name=\"Siva\")\n",
    "                   ]\n",
    "\n",
    "# New message to add\n",
    "new_message = AIMessage(content=\"Sure, I can help with that. What specifically are you interested in?\", name=\"Model\")\n",
    "\n",
    "# Test\n",
    "add_messages(initial_messages , new_message)"
   ]
  },
  {
   "cell_type": "markdown",
   "metadata": {},
   "source": [
    "**Re-writing**\n",
    "\n",
    "If we pass a message with the same ID as an existing one in our messages list, it will get overwritten!"
   ]
  },
  {
   "cell_type": "code",
   "execution_count": 35,
   "metadata": {},
   "outputs": [
    {
     "data": {
      "text/plain": [
       "[AIMessage(content='Hello! How can I assist you?', additional_kwargs={}, response_metadata={}, name='Model', id='1'),\n",
       " HumanMessage(content=\"I'm looking for information on whales, specifically\", additional_kwargs={}, response_metadata={}, name='Siva', id='2')]"
      ]
     },
     "execution_count": 35,
     "metadata": {},
     "output_type": "execute_result"
    }
   ],
   "source": [
    "# Initial state\n",
    "initial_messages = [AIMessage(content=\"Hello! How can I assist you?\", name=\"Model\", id=\"1\"),\n",
    "                    HumanMessage(content=\"I'm looking for information on marine biology.\", name=\"Siva\", id=\"2\")\n",
    "                   ]\n",
    "\n",
    "# New message to add\n",
    "new_message = HumanMessage(content=\"I'm looking for information on whales, specifically\", name=\"Siva\", id=\"2\")\n",
    "\n",
    "# Test\n",
    "add_messages(initial_messages , new_message)"
   ]
  },
  {
   "cell_type": "markdown",
   "metadata": {},
   "source": [
    "**Removal**\n",
    "\n",
    "add_messages also enables message removal.\n",
    "\n",
    "For this, we simply use RemoveMessage from langchain_core."
   ]
  },
  {
   "cell_type": "code",
   "execution_count": 36,
   "metadata": {},
   "outputs": [
    {
     "name": "stdout",
     "output_type": "stream",
     "text": [
      "[RemoveMessage(content='', additional_kwargs={}, response_metadata={}, id='1'), RemoveMessage(content='', additional_kwargs={}, response_metadata={}, id='2')]\n"
     ]
    }
   ],
   "source": [
    "from langchain_core.messages import RemoveMessage\n",
    "\n",
    "# Message list\n",
    "messages = [AIMessage(\"Hi.\", name=\"Bot\", id=\"1\")]\n",
    "messages.append(HumanMessage(\"Hi.\", name=\"Siva\", id=\"2\"))\n",
    "messages.append(AIMessage(\"So you said you were researching ocean mammals?\", name=\"Bot\", id=\"3\"))\n",
    "messages.append(HumanMessage(\"Yes, I know about whales. But what others should I learn about?\", name=\"Siva\", id=\"4\"))\n",
    "\n",
    "# Isolate messages to delete\n",
    "delete_messages = [RemoveMessage(id=m.id) for m in messages[:-2]]\n",
    "print(delete_messages)"
   ]
  },
  {
   "cell_type": "code",
   "execution_count": 37,
   "metadata": {},
   "outputs": [
    {
     "data": {
      "text/plain": [
       "[AIMessage(content='So you said you were researching ocean mammals?', additional_kwargs={}, response_metadata={}, name='Bot', id='3'),\n",
       " HumanMessage(content='Yes, I know about whales. But what others should I learn about?', additional_kwargs={}, response_metadata={}, name='Siva', id='4')]"
      ]
     },
     "execution_count": 37,
     "metadata": {},
     "output_type": "execute_result"
    }
   ],
   "source": [
    "add_messages(messages , delete_messages)"
   ]
  },
  {
   "cell_type": "markdown",
   "metadata": {
    "id": "-XJ24IwN4Nni"
   },
   "source": [
    "\n",
    "##### We also realize that our app is not capable of answering simple questions like \"how are you?\""
   ]
  },
  {
   "cell_type": "code",
   "execution_count": 38,
   "metadata": {
    "id": "EX7Kg8Vb4Nni"
   },
   "outputs": [
    {
     "ename": "NotFoundError",
     "evalue": "Unable to find the resource",
     "output_type": "error",
     "traceback": [
      "\u001b[31m---------------------------------------------------------------------------\u001b[39m",
      "\u001b[31mNotFoundError\u001b[39m                             Traceback (most recent call last)",
      "\u001b[36mCell\u001b[39m\u001b[36m \u001b[39m\u001b[32mIn[38]\u001b[39m\u001b[32m, line 2\u001b[39m\n\u001b[32m      1\u001b[39m inputs = {\u001b[33m\"\u001b[39m\u001b[33mmessages\u001b[39m\u001b[33m\"\u001b[39m: [\u001b[33m\"\u001b[39m\u001b[33mhow are you?\u001b[39m\u001b[33m\"\u001b[39m]}\n\u001b[32m----> \u001b[39m\u001b[32m2\u001b[39m \u001b[43mapp\u001b[49m\u001b[43m.\u001b[49m\u001b[43minvoke\u001b[49m\u001b[43m(\u001b[49m\u001b[43minputs\u001b[49m\u001b[43m)\u001b[49m\n",
      "\u001b[36mFile \u001b[39m\u001b[32mc:\\2026\\agenticai\\.venv\\Lib\\site-packages\\langgraph\\pregel\\__init__.py:2719\u001b[39m, in \u001b[36mPregel.invoke\u001b[39m\u001b[34m(self, input, config, stream_mode, output_keys, interrupt_before, interrupt_after, checkpoint_during, debug, **kwargs)\u001b[39m\n\u001b[32m   2716\u001b[39m chunks: \u001b[38;5;28mlist\u001b[39m[Union[\u001b[38;5;28mdict\u001b[39m[\u001b[38;5;28mstr\u001b[39m, Any], Any]] = []\n\u001b[32m   2717\u001b[39m interrupts: \u001b[38;5;28mlist\u001b[39m[Interrupt] = []\n\u001b[32m-> \u001b[39m\u001b[32m2719\u001b[39m \u001b[43m\u001b[49m\u001b[38;5;28;43;01mfor\u001b[39;49;00m\u001b[43m \u001b[49m\u001b[43mchunk\u001b[49m\u001b[43m \u001b[49m\u001b[38;5;129;43;01min\u001b[39;49;00m\u001b[43m \u001b[49m\u001b[38;5;28;43mself\u001b[39;49m\u001b[43m.\u001b[49m\u001b[43mstream\u001b[49m\u001b[43m(\u001b[49m\n\u001b[32m   2720\u001b[39m \u001b[43m    \u001b[49m\u001b[38;5;28;43minput\u001b[39;49m\u001b[43m,\u001b[49m\n\u001b[32m   2721\u001b[39m \u001b[43m    \u001b[49m\u001b[43mconfig\u001b[49m\u001b[43m,\u001b[49m\n\u001b[32m   2722\u001b[39m \u001b[43m    \u001b[49m\u001b[43mstream_mode\u001b[49m\u001b[43m=\u001b[49m\u001b[43mstream_mode\u001b[49m\u001b[43m,\u001b[49m\n\u001b[32m   2723\u001b[39m \u001b[43m    \u001b[49m\u001b[43moutput_keys\u001b[49m\u001b[43m=\u001b[49m\u001b[43moutput_keys\u001b[49m\u001b[43m,\u001b[49m\n\u001b[32m   2724\u001b[39m \u001b[43m    \u001b[49m\u001b[43minterrupt_before\u001b[49m\u001b[43m=\u001b[49m\u001b[43minterrupt_before\u001b[49m\u001b[43m,\u001b[49m\n\u001b[32m   2725\u001b[39m \u001b[43m    \u001b[49m\u001b[43minterrupt_after\u001b[49m\u001b[43m=\u001b[49m\u001b[43minterrupt_after\u001b[49m\u001b[43m,\u001b[49m\n\u001b[32m   2726\u001b[39m \u001b[43m    \u001b[49m\u001b[43mcheckpoint_during\u001b[49m\u001b[43m=\u001b[49m\u001b[43mcheckpoint_during\u001b[49m\u001b[43m,\u001b[49m\n\u001b[32m   2727\u001b[39m \u001b[43m    \u001b[49m\u001b[43mdebug\u001b[49m\u001b[43m=\u001b[49m\u001b[43mdebug\u001b[49m\u001b[43m,\u001b[49m\n\u001b[32m   2728\u001b[39m \u001b[43m    \u001b[49m\u001b[43m*\u001b[49m\u001b[43m*\u001b[49m\u001b[43mkwargs\u001b[49m\u001b[43m,\u001b[49m\n\u001b[32m   2729\u001b[39m \u001b[43m\u001b[49m\u001b[43m)\u001b[49m\u001b[43m:\u001b[49m\n\u001b[32m   2730\u001b[39m \u001b[43m    \u001b[49m\u001b[38;5;28;43;01mif\u001b[39;49;00m\u001b[43m \u001b[49m\u001b[43mstream_mode\u001b[49m\u001b[43m \u001b[49m\u001b[43m==\u001b[49m\u001b[43m \u001b[49m\u001b[33;43m\"\u001b[39;49m\u001b[33;43mvalues\u001b[39;49m\u001b[33;43m\"\u001b[39;49m\u001b[43m:\u001b[49m\n\u001b[32m   2731\u001b[39m \u001b[43m        \u001b[49m\u001b[38;5;28;43;01mif\u001b[39;49;00m\u001b[43m \u001b[49m\u001b[43m(\u001b[49m\n\u001b[32m   2732\u001b[39m \u001b[43m            \u001b[49m\u001b[38;5;28;43misinstance\u001b[39;49m\u001b[43m(\u001b[49m\u001b[43mchunk\u001b[49m\u001b[43m,\u001b[49m\u001b[43m \u001b[49m\u001b[38;5;28;43mdict\u001b[39;49m\u001b[43m)\u001b[49m\n\u001b[32m   2733\u001b[39m \u001b[43m            \u001b[49m\u001b[38;5;129;43;01mand\u001b[39;49;00m\u001b[43m \u001b[49m\u001b[43m(\u001b[49m\u001b[43mints\u001b[49m\u001b[43m \u001b[49m\u001b[43m:=\u001b[49m\u001b[43m \u001b[49m\u001b[43mchunk\u001b[49m\u001b[43m.\u001b[49m\u001b[43mget\u001b[49m\u001b[43m(\u001b[49m\u001b[43mINTERRUPT\u001b[49m\u001b[43m)\u001b[49m\u001b[43m)\u001b[49m\u001b[43m \u001b[49m\u001b[38;5;129;43;01mis\u001b[39;49;00m\u001b[43m \u001b[49m\u001b[38;5;129;43;01mnot\u001b[39;49;00m\u001b[43m \u001b[49m\u001b[38;5;28;43;01mNone\u001b[39;49;00m\n\u001b[32m   2734\u001b[39m \u001b[43m        \u001b[49m\u001b[43m)\u001b[49m\u001b[43m:\u001b[49m\n",
      "\u001b[36mFile \u001b[39m\u001b[32mc:\\2026\\agenticai\\.venv\\Lib\\site-packages\\langgraph\\pregel\\__init__.py:2436\u001b[39m, in \u001b[36mPregel.stream\u001b[39m\u001b[34m(self, input, config, stream_mode, output_keys, interrupt_before, interrupt_after, checkpoint_during, debug, subgraphs)\u001b[39m\n\u001b[32m   2434\u001b[39m         \u001b[38;5;28;01mfor\u001b[39;00m task \u001b[38;5;129;01min\u001b[39;00m loop.match_cached_writes():\n\u001b[32m   2435\u001b[39m             loop.output_writes(task.id, task.writes, cached=\u001b[38;5;28;01mTrue\u001b[39;00m)\n\u001b[32m-> \u001b[39m\u001b[32m2436\u001b[39m \u001b[43m        \u001b[49m\u001b[38;5;28;43;01mfor\u001b[39;49;00m\u001b[43m \u001b[49m\u001b[43m_\u001b[49m\u001b[43m \u001b[49m\u001b[38;5;129;43;01min\u001b[39;49;00m\u001b[43m \u001b[49m\u001b[43mrunner\u001b[49m\u001b[43m.\u001b[49m\u001b[43mtick\u001b[49m\u001b[43m(\u001b[49m\n\u001b[32m   2437\u001b[39m \u001b[43m            \u001b[49m\u001b[43m[\u001b[49m\u001b[43mt\u001b[49m\u001b[43m \u001b[49m\u001b[38;5;28;43;01mfor\u001b[39;49;00m\u001b[43m \u001b[49m\u001b[43mt\u001b[49m\u001b[43m \u001b[49m\u001b[38;5;129;43;01min\u001b[39;49;00m\u001b[43m \u001b[49m\u001b[43mloop\u001b[49m\u001b[43m.\u001b[49m\u001b[43mtasks\u001b[49m\u001b[43m.\u001b[49m\u001b[43mvalues\u001b[49m\u001b[43m(\u001b[49m\u001b[43m)\u001b[49m\u001b[43m \u001b[49m\u001b[38;5;28;43;01mif\u001b[39;49;00m\u001b[43m \u001b[49m\u001b[38;5;129;43;01mnot\u001b[39;49;00m\u001b[43m \u001b[49m\u001b[43mt\u001b[49m\u001b[43m.\u001b[49m\u001b[43mwrites\u001b[49m\u001b[43m]\u001b[49m\u001b[43m,\u001b[49m\n\u001b[32m   2438\u001b[39m \u001b[43m            \u001b[49m\u001b[43mtimeout\u001b[49m\u001b[43m=\u001b[49m\u001b[38;5;28;43mself\u001b[39;49m\u001b[43m.\u001b[49m\u001b[43mstep_timeout\u001b[49m\u001b[43m,\u001b[49m\n\u001b[32m   2439\u001b[39m \u001b[43m            \u001b[49m\u001b[43mget_waiter\u001b[49m\u001b[43m=\u001b[49m\u001b[43mget_waiter\u001b[49m\u001b[43m,\u001b[49m\n\u001b[32m   2440\u001b[39m \u001b[43m            \u001b[49m\u001b[43mschedule_task\u001b[49m\u001b[43m=\u001b[49m\u001b[43mloop\u001b[49m\u001b[43m.\u001b[49m\u001b[43maccept_push\u001b[49m\u001b[43m,\u001b[49m\n\u001b[32m   2441\u001b[39m \u001b[43m        \u001b[49m\u001b[43m)\u001b[49m\u001b[43m:\u001b[49m\n\u001b[32m   2442\u001b[39m \u001b[43m            \u001b[49m\u001b[38;5;66;43;03m# emit output\u001b[39;49;00m\n\u001b[32m   2443\u001b[39m \u001b[43m            \u001b[49m\u001b[38;5;28;43;01myield from\u001b[39;49;00m\u001b[43m \u001b[49m\u001b[43moutput\u001b[49m\u001b[43m(\u001b[49m\u001b[43m)\u001b[49m\n\u001b[32m   2444\u001b[39m \u001b[38;5;66;03m# emit output\u001b[39;00m\n",
      "\u001b[36mFile \u001b[39m\u001b[32mc:\\2026\\agenticai\\.venv\\Lib\\site-packages\\langgraph\\pregel\\runner.py:161\u001b[39m, in \u001b[36mPregelRunner.tick\u001b[39m\u001b[34m(self, tasks, reraise, timeout, retry_policy, get_waiter, schedule_task)\u001b[39m\n\u001b[32m    159\u001b[39m t = tasks[\u001b[32m0\u001b[39m]\n\u001b[32m    160\u001b[39m \u001b[38;5;28;01mtry\u001b[39;00m:\n\u001b[32m--> \u001b[39m\u001b[32m161\u001b[39m     \u001b[43mrun_with_retry\u001b[49m\u001b[43m(\u001b[49m\n\u001b[32m    162\u001b[39m \u001b[43m        \u001b[49m\u001b[43mt\u001b[49m\u001b[43m,\u001b[49m\n\u001b[32m    163\u001b[39m \u001b[43m        \u001b[49m\u001b[43mretry_policy\u001b[49m\u001b[43m,\u001b[49m\n\u001b[32m    164\u001b[39m \u001b[43m        \u001b[49m\u001b[43mconfigurable\u001b[49m\u001b[43m=\u001b[49m\u001b[43m{\u001b[49m\n\u001b[32m    165\u001b[39m \u001b[43m            \u001b[49m\u001b[43mCONFIG_KEY_CALL\u001b[49m\u001b[43m:\u001b[49m\u001b[43m \u001b[49m\u001b[43mpartial\u001b[49m\u001b[43m(\u001b[49m\n\u001b[32m    166\u001b[39m \u001b[43m                \u001b[49m\u001b[43m_call\u001b[49m\u001b[43m,\u001b[49m\n\u001b[32m    167\u001b[39m \u001b[43m                \u001b[49m\u001b[43mweakref\u001b[49m\u001b[43m.\u001b[49m\u001b[43mref\u001b[49m\u001b[43m(\u001b[49m\u001b[43mt\u001b[49m\u001b[43m)\u001b[49m\u001b[43m,\u001b[49m\n\u001b[32m    168\u001b[39m \u001b[43m                \u001b[49m\u001b[43mretry\u001b[49m\u001b[43m=\u001b[49m\u001b[43mretry_policy\u001b[49m\u001b[43m,\u001b[49m\n\u001b[32m    169\u001b[39m \u001b[43m                \u001b[49m\u001b[43mfutures\u001b[49m\u001b[43m=\u001b[49m\u001b[43mweakref\u001b[49m\u001b[43m.\u001b[49m\u001b[43mref\u001b[49m\u001b[43m(\u001b[49m\u001b[43mfutures\u001b[49m\u001b[43m)\u001b[49m\u001b[43m,\u001b[49m\n\u001b[32m    170\u001b[39m \u001b[43m                \u001b[49m\u001b[43mschedule_task\u001b[49m\u001b[43m=\u001b[49m\u001b[43mschedule_task\u001b[49m\u001b[43m,\u001b[49m\n\u001b[32m    171\u001b[39m \u001b[43m                \u001b[49m\u001b[43msubmit\u001b[49m\u001b[43m=\u001b[49m\u001b[38;5;28;43mself\u001b[39;49m\u001b[43m.\u001b[49m\u001b[43msubmit\u001b[49m\u001b[43m,\u001b[49m\n\u001b[32m    172\u001b[39m \u001b[43m            \u001b[49m\u001b[43m)\u001b[49m\u001b[43m,\u001b[49m\n\u001b[32m    173\u001b[39m \u001b[43m        \u001b[49m\u001b[43m}\u001b[49m\u001b[43m,\u001b[49m\n\u001b[32m    174\u001b[39m \u001b[43m    \u001b[49m\u001b[43m)\u001b[49m\n\u001b[32m    175\u001b[39m     \u001b[38;5;28mself\u001b[39m.commit(t, \u001b[38;5;28;01mNone\u001b[39;00m)\n\u001b[32m    176\u001b[39m \u001b[38;5;28;01mexcept\u001b[39;00m \u001b[38;5;167;01mException\u001b[39;00m \u001b[38;5;28;01mas\u001b[39;00m exc:\n",
      "\u001b[36mFile \u001b[39m\u001b[32mc:\\2026\\agenticai\\.venv\\Lib\\site-packages\\langgraph\\pregel\\retry.py:40\u001b[39m, in \u001b[36mrun_with_retry\u001b[39m\u001b[34m(task, retry_policy, configurable)\u001b[39m\n\u001b[32m     38\u001b[39m     task.writes.clear()\n\u001b[32m     39\u001b[39m     \u001b[38;5;66;03m# run the task\u001b[39;00m\n\u001b[32m---> \u001b[39m\u001b[32m40\u001b[39m     \u001b[38;5;28;01mreturn\u001b[39;00m \u001b[43mtask\u001b[49m\u001b[43m.\u001b[49m\u001b[43mproc\u001b[49m\u001b[43m.\u001b[49m\u001b[43minvoke\u001b[49m\u001b[43m(\u001b[49m\u001b[43mtask\u001b[49m\u001b[43m.\u001b[49m\u001b[43minput\u001b[49m\u001b[43m,\u001b[49m\u001b[43m \u001b[49m\u001b[43mconfig\u001b[49m\u001b[43m)\u001b[49m\n\u001b[32m     41\u001b[39m \u001b[38;5;28;01mexcept\u001b[39;00m ParentCommand \u001b[38;5;28;01mas\u001b[39;00m exc:\n\u001b[32m     42\u001b[39m     ns: \u001b[38;5;28mstr\u001b[39m = config[CONF][CONFIG_KEY_CHECKPOINT_NS]\n",
      "\u001b[36mFile \u001b[39m\u001b[32mc:\\2026\\agenticai\\.venv\\Lib\\site-packages\\langgraph\\utils\\runnable.py:623\u001b[39m, in \u001b[36mRunnableSeq.invoke\u001b[39m\u001b[34m(self, input, config, **kwargs)\u001b[39m\n\u001b[32m    621\u001b[39m     \u001b[38;5;66;03m# run in context\u001b[39;00m\n\u001b[32m    622\u001b[39m     \u001b[38;5;28;01mwith\u001b[39;00m set_config_context(config, run) \u001b[38;5;28;01mas\u001b[39;00m context:\n\u001b[32m--> \u001b[39m\u001b[32m623\u001b[39m         \u001b[38;5;28minput\u001b[39m = \u001b[43mcontext\u001b[49m\u001b[43m.\u001b[49m\u001b[43mrun\u001b[49m\u001b[43m(\u001b[49m\u001b[43mstep\u001b[49m\u001b[43m.\u001b[49m\u001b[43minvoke\u001b[49m\u001b[43m,\u001b[49m\u001b[43m \u001b[49m\u001b[38;5;28;43minput\u001b[39;49m\u001b[43m,\u001b[49m\u001b[43m \u001b[49m\u001b[43mconfig\u001b[49m\u001b[43m,\u001b[49m\u001b[43m \u001b[49m\u001b[43m*\u001b[49m\u001b[43m*\u001b[49m\u001b[43mkwargs\u001b[49m\u001b[43m)\u001b[49m\n\u001b[32m    624\u001b[39m \u001b[38;5;28;01melse\u001b[39;00m:\n\u001b[32m    625\u001b[39m     \u001b[38;5;28minput\u001b[39m = step.invoke(\u001b[38;5;28minput\u001b[39m, config)\n",
      "\u001b[36mFile \u001b[39m\u001b[32mc:\\2026\\agenticai\\.venv\\Lib\\site-packages\\langgraph\\utils\\runnable.py:377\u001b[39m, in \u001b[36mRunnableCallable.invoke\u001b[39m\u001b[34m(self, input, config, **kwargs)\u001b[39m\n\u001b[32m    375\u001b[39m         run_manager.on_chain_end(ret)\n\u001b[32m    376\u001b[39m \u001b[38;5;28;01melse\u001b[39;00m:\n\u001b[32m--> \u001b[39m\u001b[32m377\u001b[39m     ret = \u001b[38;5;28;43mself\u001b[39;49m\u001b[43m.\u001b[49m\u001b[43mfunc\u001b[49m\u001b[43m(\u001b[49m\u001b[43m*\u001b[49m\u001b[43margs\u001b[49m\u001b[43m,\u001b[49m\u001b[43m \u001b[49m\u001b[43m*\u001b[49m\u001b[43m*\u001b[49m\u001b[43mkwargs\u001b[49m\u001b[43m)\u001b[49m\n\u001b[32m    378\u001b[39m \u001b[38;5;28;01mif\u001b[39;00m \u001b[38;5;28mself\u001b[39m.recurse \u001b[38;5;129;01mand\u001b[39;00m \u001b[38;5;28misinstance\u001b[39m(ret, Runnable):\n\u001b[32m    379\u001b[39m     \u001b[38;5;28;01mreturn\u001b[39;00m ret.invoke(\u001b[38;5;28minput\u001b[39m, config)\n",
      "\u001b[36mCell\u001b[39m\u001b[36m \u001b[39m\u001b[32mIn[31]\u001b[39m\u001b[32m, line 14\u001b[39m, in \u001b[36mfunction_2\u001b[39m\u001b[34m(state)\u001b[39m\n\u001b[32m     12\u001b[39m  agent_response = messages[-\u001b[32m1\u001b[39m]\n\u001b[32m     13\u001b[39m  weather = OpenWeatherMapAPIWrapper()\n\u001b[32m---> \u001b[39m\u001b[32m14\u001b[39m  weather_data = \u001b[43mweather\u001b[49m\u001b[43m.\u001b[49m\u001b[43mrun\u001b[49m\u001b[43m(\u001b[49m\u001b[43magent_response\u001b[49m\u001b[43m)\u001b[49m\n\u001b[32m     15\u001b[39m \u001b[38;5;66;03m# state['messages'].append(weather_data)\u001b[39;00m\n\u001b[32m     16\u001b[39m  \u001b[38;5;28;01mreturn\u001b[39;00m {\u001b[33m\"\u001b[39m\u001b[33mmessages\u001b[39m\u001b[33m\"\u001b[39m: [weather_data]}\n",
      "\u001b[36mFile \u001b[39m\u001b[32mc:\\2026\\agenticai\\.venv\\Lib\\site-packages\\langchain_community\\utilities\\openweathermap.py:74\u001b[39m, in \u001b[36mOpenWeatherMapAPIWrapper.run\u001b[39m\u001b[34m(self, location)\u001b[39m\n\u001b[32m     72\u001b[39m \u001b[38;5;250m\u001b[39m\u001b[33;03m\"\"\"Get the current weather information for a specified location.\"\"\"\u001b[39;00m\n\u001b[32m     73\u001b[39m mgr = \u001b[38;5;28mself\u001b[39m.owm.weather_manager()\n\u001b[32m---> \u001b[39m\u001b[32m74\u001b[39m observation = \u001b[43mmgr\u001b[49m\u001b[43m.\u001b[49m\u001b[43mweather_at_place\u001b[49m\u001b[43m(\u001b[49m\u001b[43mlocation\u001b[49m\u001b[43m)\u001b[49m\n\u001b[32m     75\u001b[39m w = observation.weather\n\u001b[32m     77\u001b[39m \u001b[38;5;28;01mreturn\u001b[39;00m \u001b[38;5;28mself\u001b[39m._format_weather_info(location, w)\n",
      "\u001b[36mFile \u001b[39m\u001b[32mc:\\2026\\agenticai\\.venv\\Lib\\site-packages\\pyowm\\weatherapi25\\weather_manager.py:53\u001b[39m, in \u001b[36mWeatherManager.weather_at_place\u001b[39m\u001b[34m(self, name)\u001b[39m\n\u001b[32m     51\u001b[39m \u001b[38;5;28;01massert\u001b[39;00m \u001b[38;5;28misinstance\u001b[39m(name, \u001b[38;5;28mstr\u001b[39m), \u001b[33m\"\u001b[39m\u001b[33mValue must be a string\u001b[39m\u001b[33m\"\u001b[39m\n\u001b[32m     52\u001b[39m params = {\u001b[33m'\u001b[39m\u001b[33mq\u001b[39m\u001b[33m'\u001b[39m: name}\n\u001b[32m---> \u001b[39m\u001b[32m53\u001b[39m _, json_data = \u001b[38;5;28;43mself\u001b[39;49m\u001b[43m.\u001b[49m\u001b[43mhttp_client\u001b[49m\u001b[43m.\u001b[49m\u001b[43mget_json\u001b[49m\u001b[43m(\u001b[49m\u001b[43mOBSERVATION_URI\u001b[49m\u001b[43m,\u001b[49m\u001b[43m \u001b[49m\u001b[43mparams\u001b[49m\u001b[43m=\u001b[49m\u001b[43mparams\u001b[49m\u001b[43m)\u001b[49m\n\u001b[32m     54\u001b[39m \u001b[38;5;28;01mreturn\u001b[39;00m observation.Observation.from_dict(json_data)\n",
      "\u001b[36mFile \u001b[39m\u001b[32mc:\\2026\\agenticai\\.venv\\Lib\\site-packages\\pyowm\\commons\\http_client.py:158\u001b[39m, in \u001b[36mHttpClient.get_json\u001b[39m\u001b[34m(self, path, params, headers)\u001b[39m\n\u001b[32m    156\u001b[39m \u001b[38;5;28;01mexcept\u001b[39;00m requests.exceptions.Timeout:\n\u001b[32m    157\u001b[39m     \u001b[38;5;28;01mraise\u001b[39;00m exceptions.TimeoutError(\u001b[33m'\u001b[39m\u001b[33mAPI call timeouted\u001b[39m\u001b[33m'\u001b[39m)\n\u001b[32m--> \u001b[39m\u001b[32m158\u001b[39m \u001b[43mHttpClient\u001b[49m\u001b[43m.\u001b[49m\u001b[43mcheck_status_code\u001b[49m\u001b[43m(\u001b[49m\u001b[43mresp\u001b[49m\u001b[43m.\u001b[49m\u001b[43mstatus_code\u001b[49m\u001b[43m,\u001b[49m\u001b[43m \u001b[49m\u001b[43mresp\u001b[49m\u001b[43m.\u001b[49m\u001b[43mtext\u001b[49m\u001b[43m)\u001b[49m\n\u001b[32m    159\u001b[39m \u001b[38;5;28;01mtry\u001b[39;00m:\n\u001b[32m    160\u001b[39m     \u001b[38;5;28;01mreturn\u001b[39;00m resp.status_code, resp.json()\n",
      "\u001b[36mFile \u001b[39m\u001b[32mc:\\2026\\agenticai\\.venv\\Lib\\site-packages\\pyowm\\commons\\http_client.py:315\u001b[39m, in \u001b[36mHttpClient.check_status_code\u001b[39m\u001b[34m(cls, status_code, payload)\u001b[39m\n\u001b[32m    313\u001b[39m     \u001b[38;5;28;01mraise\u001b[39;00m exceptions.UnauthorizedError(\u001b[33m'\u001b[39m\u001b[33mInvalid API Key provided\u001b[39m\u001b[33m'\u001b[39m)\n\u001b[32m    314\u001b[39m \u001b[38;5;28;01melif\u001b[39;00m status_code == \u001b[32m404\u001b[39m:\n\u001b[32m--> \u001b[39m\u001b[32m315\u001b[39m     \u001b[38;5;28;01mraise\u001b[39;00m exceptions.NotFoundError(\u001b[33m'\u001b[39m\u001b[33mUnable to find the resource\u001b[39m\u001b[33m'\u001b[39m)\n\u001b[32m    316\u001b[39m \u001b[38;5;28;01melse\u001b[39;00m:\n\u001b[32m    317\u001b[39m     \u001b[38;5;28;01mraise\u001b[39;00m exceptions.BadGatewayError(\u001b[33m'\u001b[39m\u001b[33mUnable to contact the upstream server\u001b[39m\u001b[33m'\u001b[39m)\n",
      "\u001b[31mNotFoundError\u001b[39m: Unable to find the resource",
      "During task with name 'tool' and id '27bec53e-43b7-f7d9-c8b9-781bc0308d95'"
     ]
    }
   ],
   "source": [
    "inputs = {\"messages\": [\"how are you?\"]}\n",
    "app.invoke(inputs)"
   ]
  },
  {
   "cell_type": "markdown",
   "metadata": {
    "id": "7q13Ks_Q4Nni"
   },
   "source": [
    "This is because we always want to parse a city and then find the weather.\n",
    "\n",
    "We can make our agent smarter by saying only use the tool when needed, if not just respond back to the user.\n",
    "\n",
    "The way we can do this LangGraph is:\n",
    "1. binding a tool to the agent\n",
    "2. adding a conditional edge to the agent with the option to either call the tool or not\n",
    "3. defining the criteria for the conditional edge as when to call the tool. We will define a function for this.\n",
    "\n",
    "\n"
   ]
  },
  {
   "cell_type": "markdown",
   "metadata": {
    "id": "2kunICmb4Nnj"
   },
   "source": [
    "Binding tool with agent (LLM Model) is made easy in langchain"
   ]
  },
  {
   "cell_type": "code",
   "execution_count": 39,
   "metadata": {
    "id": "NJDGyUvc4Nnj"
   },
   "outputs": [],
   "source": [
    "from langchain_core.utils.function_calling import convert_to_openai_function\n",
    "from langchain_community.tools.openweathermap import OpenWeatherMapQueryRun\n",
    "from langchain_openai import ChatOpenAI\n",
    "from langchain_core.tools import tool\n",
    "\n",
    "@tool\n",
    "def multiply(a: int, b: int) -> int:\n",
    "    \"\"\"Multiply a and b.\n",
    "\n",
    "    Args:\n",
    "        a: first int\n",
    "        b: second int\n",
    "    \"\"\"\n",
    "    return a * b\n",
    "\n",
    "@tool\n",
    "def add(a: int, b: int) -> int:\n",
    "    \"\"\"Adds a and b.\n",
    "\n",
    "    Args:\n",
    "        a: first int\n",
    "        b: second int\n",
    "    \"\"\"\n",
    "    return a + b\n",
    "@tool\n",
    "def divide(a: int, b: int) -> float:\n",
    "    \"\"\"Divide a and b.\n",
    "\n",
    "    Args:\n",
    "        a: first int\n",
    "        b: second int\n",
    "    \"\"\"\n",
    "    return a / b\n",
    "\n",
    "tools = [OpenWeatherMapQueryRun(),add, multiply, divide]\n",
    "\n",
    "\n",
    "\n",
    "model = ChatOpenAI(temperature=0, streaming=True)\n",
    "model=model.bind_tools(tools)\n",
    "#functions = [convert_to_openai_function(t) for t in tools]\n",
    "#model = model.bind_functions(functions)"
   ]
  },
  {
   "cell_type": "markdown",
   "metadata": {
    "id": "lUuzqTN54Nnj"
   },
   "source": [
    "Our modified function_1 now becomes as below. The reason is, we are passing the human message as state and appending response to the state. Also, our agent now has a tool bound to it, that it can use."
   ]
  },
  {
   "cell_type": "code",
   "execution_count": 40,
   "metadata": {
    "id": "co_2xpeg4Nnj"
   },
   "outputs": [],
   "source": [
    "def function_1(state):\n",
    "    messages = state['messages']\n",
    "\n",
    "    response = model.invoke(messages)\n",
    "    print(\"Response from function_1\",response)\n",
    "    return {\"messages\": [response]}"
   ]
  },
  {
   "cell_type": "markdown",
   "metadata": {
    "id": "aAnalaD_4Nnj"
   },
   "source": [
    "For function 2,We can use ToolNode cirectly provided by langchain. In earlier version of lang graph, we need to define a function which uses ToolExecutor. But it is deprecated now"
   ]
  },
  {
   "cell_type": "markdown",
   "metadata": {
    "id": "1EsFek-v4Nnj"
   },
   "source": [
    "Finally, we define a function for the conditional edge, to help us figure out which direction to go (tool or user response)\n",
    "\n",
    "We can benefit from the agent (LLM) response in LangChain, which has additional_kwargs to make a function_call with the name of the tool.\n",
    "\n",
    "So our logic is, if tool_calls available in the additional_kwargs, then call tool if not then end the discussion and respond back to the user"
   ]
  },
  {
   "cell_type": "code",
   "execution_count": 41,
   "metadata": {
    "id": "hpPL1lZc4Nnj"
   },
   "outputs": [],
   "source": [
    "def where_to_go(state):\n",
    "    messages = state['messages']\n",
    "    last_message = messages[-1]\n",
    "    print(\"Inside where to go=== \",last_message)\n",
    "\n",
    "    if \"tool_calls\" in last_message.additional_kwargs:\n",
    "        return \"continue\"\n",
    "    else:\n",
    "        return \"end\""
   ]
  },
  {
   "cell_type": "code",
   "execution_count": null,
   "metadata": {
    "colab": {
     "base_uri": "https://localhost:8080/"
    },
    "executionInfo": {
     "elapsed": 3534,
     "status": "ok",
     "timestamp": 1733498748508,
     "user": {
      "displayName": "SivaPrasad Valluru",
      "userId": "03440549206981602615"
     },
     "user_tz": -330
    },
    "id": "fgh2kDCikAHY",
    "outputId": "d269dd5a-26b8-45e5-a779-44acb28ae969"
   },
   "outputs": [],
   "source": [
    "pip install langgraph-checkpoint-sqlite"
   ]
  },
  {
   "cell_type": "markdown",
   "metadata": {
    "id": "DOuO637I4Nnj"
   },
   "source": [
    "Now with all of the changes above, our LangGraph app is modified as below:"
   ]
  },
  {
   "cell_type": "code",
   "execution_count": 42,
   "metadata": {
    "colab": {
     "base_uri": "https://localhost:8080/",
     "height": 290
    },
    "executionInfo": {
     "elapsed": 396,
     "status": "ok",
     "timestamp": 1733498751513,
     "user": {
      "displayName": "SivaPrasad Valluru",
      "userId": "03440549206981602615"
     },
     "user_tz": -330
    },
    "id": "M2euviTZ4Nnk",
    "outputId": "8f3f3e29-e6c1-40e6-bc00-d00e1fa119a5"
   },
   "outputs": [
    {
     "data": {
      "image/png": "[encoded data removed]",
      "text/plain": [
       "<IPython.core.display.Image object>"
      ]
     },
     "metadata": {},
     "output_type": "display_data"
    }
   ],
   "source": [
    "from langgraph.pregel import RetryPolicy\n",
    "from langgraph.checkpoint.memory import MemorySaver\n",
    "from langgraph.checkpoint.sqlite import SqliteSaver\n",
    "import sqlite3\n",
    "\n",
    "from langgraph.graph import StateGraph, END\n",
    "from langgraph.prebuilt import ToolNode,tools_condition\n",
    "#workflow = StateGraph(AgentState)\n",
    "\n",
    "#workflow = StateGraph(state_schema=AgentState,input=AgentState,output=AgentState )\n",
    "\n",
    "workflow = StateGraph(state_schema=AgentState )\n",
    "\n",
    "\n",
    "\n",
    "workflow.add_node(\"agent\", function_1)\n",
    "\n",
    "workflow.add_node(\"tools\",ToolNode(tools=tools),retry=RetryPolicy(max_attempts=5))\n",
    "\n",
    "\n",
    "# The conditional edge requires the following info below.\n",
    "# First, we define the start node. We use `agent`.\n",
    "# This means these are the edges taken after the `agent` node is called.\n",
    "# Next, we pass in the function that will determine which node is called next, in our case where_to_go().\n",
    "\n",
    "workflow.add_conditional_edges(\"agent\", where_to_go,{   # Based on the return from where_to_go\n",
    "                                                        # If return is \"continue\" then we call the tool node.\n",
    "                                                        \"continue\": \"tools\",\n",
    "                                                        # Otherwise we finish.\n",
    "                                                        \"end\": END\n",
    "                                                    }\n",
    ")\n",
    "\n",
    "\n",
    "\n",
    "#workflow.add_conditional_edges(\"agent\", tools_condition)\n",
    "\n",
    "# We now add a normal edge from `tools` to `agent`.\n",
    "# This means that if `tools` is called, then it has to call the 'agent' next.\n",
    "workflow.add_edge('tools', 'agent')\n",
    "\n",
    "# Basically, agent node has the option to call a tool node based on a condition,\n",
    "# whereas tool node must call the agent in all cases based on this setup.\n",
    "\n",
    "workflow.set_entry_point(\"agent\")\n",
    "\n",
    "#from langgraph.checkpoint.sqlite import SqliteSaver\n",
    "\n",
    "\n",
    "memory = MemorySaver()\n",
    "\n",
    "\n",
    "\n",
    "#conn = sqlite3.connect(\":memory:\", check_same_thread = False)\n",
    "conn = sqlite3.connect(\"checkpoints.sqlite\",check_same_thread=False)\n",
    "#memory = SqliteSaver.from_conn_string(\"checkpoints.sqlite\")\n",
    "memory = SqliteSaver(conn)\n",
    "#checkpointer.setup()\n",
    "\n",
    "#from langgraph.checkpoint.sqlite import SqliteSaver\n",
    "#memory = SqliteSaver(conn)\n",
    "\n",
    "app = workflow.compile(\n",
    "     checkpointer=memory\n",
    "     #interrupt_before=[\"tool\"]\n",
    ")\n",
    "\n",
    "from IPython.display import Image, display\n",
    "display(Image(app.get_graph().draw_mermaid_png()))\n",
    "\n",
    "#app.get_graph().draw_mermaid_png(output_file_path=\"graph.png\")"
   ]
  },
  {
   "cell_type": "markdown",
   "metadata": {
    "id": "-stmYhEg4Nnk"
   },
   "source": [
    "We also pass the first message using HumanMessage component available in langchain, makes it easy to differentiate from AIMessage, and FunctionMessage"
   ]
  },
  {
   "cell_type": "code",
   "execution_count": 43,
   "metadata": {
    "id": "GNEb-x_v4Nnl"
   },
   "outputs": [
    {
     "name": "stdout",
     "output_type": "stream",
     "text": [
      "Response from function_1 content='' additional_kwargs={'tool_calls': [{'index': 0, 'id': 'call_xrPJIMUS7P00qipm289b900z', 'function': {'arguments': '{\"location\":\"Chennai\"}', 'name': 'open_weather_map'}, 'type': 'function'}]} response_metadata={'finish_reason': 'tool_calls', 'model_name': 'gpt-3.5-turbo-0125', 'service_tier': 'default'} id='run--e6104dd7-31ba-479d-9bc5-f3c97e9fe852-0' tool_calls=[{'name': 'open_weather_map', 'args': {'location': 'Chennai'}, 'id': 'call_xrPJIMUS7P00qipm289b900z', 'type': 'tool_call'}]\n",
      "Inside where to go===  content='' additional_kwargs={'tool_calls': [{'index': 0, 'id': 'call_xrPJIMUS7P00qipm289b900z', 'function': {'arguments': '{\"location\":\"Chennai\"}', 'name': 'open_weather_map'}, 'type': 'function'}]} response_metadata={'finish_reason': 'tool_calls', 'model_name': 'gpt-3.5-turbo-0125', 'service_tier': 'default'} id='run--e6104dd7-31ba-479d-9bc5-f3c97e9fe852-0' tool_calls=[{'name': 'open_weather_map', 'args': {'location': 'Chennai'}, 'id': 'call_xrPJIMUS7P00qipm289b900z', 'type': 'tool_call'}]\n",
      "Response from function_1 content='The humidity in Chennai is 59%.' additional_kwargs={} response_metadata={'finish_reason': 'stop', 'model_name': 'gpt-3.5-turbo-0125', 'service_tier': 'default'} id='run--62b41f35-b105-4e12-923d-9e7c54c43c45-0'\n",
      "Inside where to go===  content='The humidity in Chennai is 59%.' additional_kwargs={} response_metadata={'finish_reason': 'stop', 'model_name': 'gpt-3.5-turbo-0125', 'service_tier': 'default'} id='run--62b41f35-b105-4e12-923d-9e7c54c43c45-0'\n"
     ]
    },
    {
     "data": {
      "text/plain": [
       "{'messages': [HumanMessage(content='what is the humidity in Chennai', additional_kwargs={}, response_metadata={}, id='49684b64-5893-4a47-a3f6-801c5b44f926'),\n",
       "  AIMessage(content='', additional_kwargs={'tool_calls': [{'index': 0, 'id': 'call_M1vKEesg1BNacMRGY5iS7s4D', 'function': {'arguments': '{\"location\":\"Chennai\"}', 'name': 'open_weather_map'}, 'type': 'function'}]}, response_metadata={'finish_reason': 'tool_calls', 'model_name': 'gpt-3.5-turbo-0125'}, id='run-6dfad1ca-6da2-4be8-9e8c-b903cc62c381-0', tool_calls=[{'name': 'open_weather_map', 'args': {'location': 'Chennai'}, 'id': 'call_M1vKEesg1BNacMRGY5iS7s4D', 'type': 'tool_call'}]),\n",
       "  ToolMessage(content='In Chennai, the current weather is as follows:\\nDetailed status: broken clouds\\nWind speed: 3.85 m/s, direction: 194°\\nHumidity: 80%\\nTemperature: \\n  - Current: 27.84°C\\n  - High: 27.84°C\\n  - Low: 27.84°C\\n  - Feels like: 31.7°C\\nRain: {}\\nHeat index: None\\nCloud cover: 53%', name='open_weather_map', id='c503aedf-deee-472f-a994-0c87e82864b4', tool_call_id='call_M1vKEesg1BNacMRGY5iS7s4D'),\n",
       "  AIMessage(content='The humidity in Chennai is 80%.', additional_kwargs={}, response_metadata={'finish_reason': 'stop', 'model_name': 'gpt-3.5-turbo-0125'}, id='run-7429771a-729c-4753-82a7-5a28bcf3f491-0'),\n",
       "  HumanMessage(content='what is my eariler query exactly?', additional_kwargs={}, response_metadata={}, id='9df4fa79-ea8d-4325-ae57-9633f4a562e5'),\n",
       "  AIMessage(content='Your earlier query was about the humidity in Chennai.', additional_kwargs={}, response_metadata={'finish_reason': 'stop', 'model_name': 'gpt-3.5-turbo-0125'}, id='run-fc8ff027-652d-4b16-84c0-4e2e2b32f766-0'),\n",
       "  AIMessage(content='', additional_kwargs={'tool_calls': [{'index': 0, 'id': 'call_Aowa5AZuPJjzzyxKzhhU5pvT', 'function': {'arguments': '{\"location\": \"Chennai\"}', 'name': 'open_weather_map'}, 'type': 'function'}, {'index': 1, 'id': 'call_G5kerqa1thrTR6v0bpOnEIlz', 'function': {'arguments': '{\"location\": \"Chennai\"}', 'name': 'open_weather_map'}, 'type': 'function'}]}, response_metadata={'finish_reason': 'tool_calls', 'model_name': 'gpt-3.5-turbo-0125'}, id='run-557ac141-4bdb-4010-bd1f-481bb863fec5-0', tool_calls=[{'name': 'open_weather_map', 'args': {'location': 'Chennai'}, 'id': 'call_Aowa5AZuPJjzzyxKzhhU5pvT', 'type': 'tool_call'}, {'name': 'open_weather_map', 'args': {'location': 'Chennai'}, 'id': 'call_G5kerqa1thrTR6v0bpOnEIlz', 'type': 'tool_call'}]),\n",
       "  ToolMessage(content='In Chennai, the current weather is as follows:\\nDetailed status: broken clouds\\nWind speed: 3.85 m/s, direction: 194°\\nHumidity: 80%\\nTemperature: \\n  - Current: 27.84°C\\n  - High: 27.84°C\\n  - Low: 27.84°C\\n  - Feels like: 31.7°C\\nRain: {}\\nHeat index: None\\nCloud cover: 53%', name='open_weather_map', id='6b3779f1-c409-4362-acad-b57f99b1fa95', tool_call_id='call_Aowa5AZuPJjzzyxKzhhU5pvT'),\n",
       "  ToolMessage(content='In Chennai, the current weather is as follows:\\nDetailed status: broken clouds\\nWind speed: 3.85 m/s, direction: 194°\\nHumidity: 80%\\nTemperature: \\n  - Current: 27.84°C\\n  - High: 27.84°C\\n  - Low: 27.84°C\\n  - Feels like: 31.7°C\\nRain: {}\\nHeat index: None\\nCloud cover: 53%', name='open_weather_map', id='024e2691-3c21-4503-81e6-24f79d30a352', tool_call_id='call_G5kerqa1thrTR6v0bpOnEIlz'),\n",
       "  AIMessage(content='Your earlier query was about the humidity in Chennai.', additional_kwargs={}, response_metadata={'finish_reason': 'stop', 'model_name': 'gpt-3.5-turbo-0125'}, id='run-37605f59-55e6-4370-a2e7-318d14771724-0'),\n",
       "  HumanMessage(content='what is the humidity in Chennai', additional_kwargs={}, response_metadata={}, id='85079fe8-3be9-4d2b-93b7-998b784b19c2'),\n",
       "  AIMessage(content='', additional_kwargs={'tool_calls': [{'index': 0, 'id': 'call_xrPJIMUS7P00qipm289b900z', 'function': {'arguments': '{\"location\":\"Chennai\"}', 'name': 'open_weather_map'}, 'type': 'function'}]}, response_metadata={'finish_reason': 'tool_calls', 'model_name': 'gpt-3.5-turbo-0125', 'service_tier': 'default'}, id='run--e6104dd7-31ba-479d-9bc5-f3c97e9fe852-0', tool_calls=[{'name': 'open_weather_map', 'args': {'location': 'Chennai'}, 'id': 'call_xrPJIMUS7P00qipm289b900z', 'type': 'tool_call'}]),\n",
       "  ToolMessage(content='In Chennai, the current weather is as follows:\\nDetailed status: overcast clouds\\nWind speed: 1.16 m/s, direction: 190°\\nHumidity: 59%\\nTemperature: \\n  - Current: 30.55°C\\n  - High: 30.55°C\\n  - Low: 30.55°C\\n  - Feels like: 33.69°C\\nRain: {}\\nHeat index: None\\nCloud cover: 100%', name='open_weather_map', id='aab88446-4524-4e7a-b8bc-e50ade51288f', tool_call_id='call_xrPJIMUS7P00qipm289b900z'),\n",
       "  AIMessage(content='The humidity in Chennai is 59%.', additional_kwargs={}, response_metadata={'finish_reason': 'stop', 'model_name': 'gpt-3.5-turbo-0125', 'service_tier': 'default'}, id='run--62b41f35-b105-4e12-923d-9e7c54c43c45-0')]}"
      ]
     },
     "execution_count": 43,
     "metadata": {},
     "output_type": "execute_result"
    }
   ],
   "source": [
    "from langchain_core.messages import HumanMessage\n",
    "config = {\"configurable\": {\"thread_id\": \"1\"}}\n",
    "\n",
    "inputs = {\"messages\": [HumanMessage(content=\"what is the humidity in Chennai\")]}\n",
    "response = app.invoke(inputs,config)\n",
    "response"
   ]
  },
  {
   "cell_type": "code",
   "execution_count": 44,
   "metadata": {
    "id": "lGP3bR_g4Nnl"
   },
   "outputs": [
    {
     "name": "stdout",
     "output_type": "stream",
     "text": [
      "Response from function_1 content='Your earlier query was about the humidity in Chennai.' additional_kwargs={} response_metadata={'finish_reason': 'stop', 'model_name': 'gpt-3.5-turbo-0125', 'service_tier': 'default'} id='run--9e1fdfe8-bce8-4a8a-9abd-da4d8fe49edc-0'\n",
      "Inside where to go===  content='Your earlier query was about the humidity in Chennai.' additional_kwargs={} response_metadata={'finish_reason': 'stop', 'model_name': 'gpt-3.5-turbo-0125', 'service_tier': 'default'} id='run--9e1fdfe8-bce8-4a8a-9abd-da4d8fe49edc-0'\n",
      "Response from function_1 content='' additional_kwargs={'tool_calls': [{'index': 0, 'id': 'call_TenacPWsMM68ATp2s19cokr1', 'function': {'arguments': '{\"location\": \"Chennai\"}', 'name': 'open_weather_map'}, 'type': 'function'}, {'index': 1, 'id': 'call_VwwyJspJG6Ft18aqgqWaz7KC', 'function': {'arguments': '{\"location\": \"Chennai\"}', 'name': 'open_weather_map'}, 'type': 'function'}]} response_metadata={'finish_reason': 'tool_calls', 'model_name': 'gpt-3.5-turbo-0125', 'service_tier': 'default'} id='run--cc56ddc4-12c9-4f34-b190-f0d31be2aa94-0' tool_calls=[{'name': 'open_weather_map', 'args': {'location': 'Chennai'}, 'id': 'call_TenacPWsMM68ATp2s19cokr1', 'type': 'tool_call'}, {'name': 'open_weather_map', 'args': {'location': 'Chennai'}, 'id': 'call_VwwyJspJG6Ft18aqgqWaz7KC', 'type': 'tool_call'}]\n",
      "Inside where to go===  content='' additional_kwargs={'tool_calls': [{'index': 0, 'id': 'call_TenacPWsMM68ATp2s19cokr1', 'function': {'arguments': '{\"location\": \"Chennai\"}', 'name': 'open_weather_map'}, 'type': 'function'}, {'index': 1, 'id': 'call_VwwyJspJG6Ft18aqgqWaz7KC', 'function': {'arguments': '{\"location\": \"Chennai\"}', 'name': 'open_weather_map'}, 'type': 'function'}]} response_metadata={'finish_reason': 'tool_calls', 'model_name': 'gpt-3.5-turbo-0125', 'service_tier': 'default'} id='run--cc56ddc4-12c9-4f34-b190-f0d31be2aa94-0' tool_calls=[{'name': 'open_weather_map', 'args': {'location': 'Chennai'}, 'id': 'call_TenacPWsMM68ATp2s19cokr1', 'type': 'tool_call'}, {'name': 'open_weather_map', 'args': {'location': 'Chennai'}, 'id': 'call_VwwyJspJG6Ft18aqgqWaz7KC', 'type': 'tool_call'}]\n",
      "Output from node 'agent':\n",
      "---\n",
      "{'messages': [AIMessage(content='', additional_kwargs={'tool_calls': [{'index': 0, 'id': 'call_TenacPWsMM68ATp2s19cokr1', 'function': {'arguments': '{\"location\": \"Chennai\"}', 'name': 'open_weather_map'}, 'type': 'function'}, {'index': 1, 'id': 'call_VwwyJspJG6Ft18aqgqWaz7KC', 'function': {'arguments': '{\"location\": \"Chennai\"}', 'name': 'open_weather_map'}, 'type': 'function'}]}, response_metadata={'finish_reason': 'tool_calls', 'model_name': 'gpt-3.5-turbo-0125', 'service_tier': 'default'}, id='run--cc56ddc4-12c9-4f34-b190-f0d31be2aa94-0', tool_calls=[{'name': 'open_weather_map', 'args': {'location': 'Chennai'}, 'id': 'call_TenacPWsMM68ATp2s19cokr1', 'type': 'tool_call'}, {'name': 'open_weather_map', 'args': {'location': 'Chennai'}, 'id': 'call_VwwyJspJG6Ft18aqgqWaz7KC', 'type': 'tool_call'}])]}\n",
      "\n",
      "---\n",
      "\n",
      "Output from node 'tools':\n",
      "---\n",
      "{'messages': [ToolMessage(content='In Chennai, the current weather is as follows:\\nDetailed status: overcast clouds\\nWind speed: 1.16 m/s, direction: 190°\\nHumidity: 59%\\nTemperature: \\n  - Current: 30.55°C\\n  - High: 30.55°C\\n  - Low: 30.55°C\\n  - Feels like: 33.69°C\\nRain: {}\\nHeat index: None\\nCloud cover: 100%', name='open_weather_map', id='b71d4819-f1d3-4fb4-8eb7-3b5a8f1f056a', tool_call_id='call_TenacPWsMM68ATp2s19cokr1'), ToolMessage(content='In Chennai, the current weather is as follows:\\nDetailed status: overcast clouds\\nWind speed: 1.16 m/s, direction: 190°\\nHumidity: 59%\\nTemperature: \\n  - Current: 30.55°C\\n  - High: 30.55°C\\n  - Low: 30.55°C\\n  - Feels like: 33.69°C\\nRain: {}\\nHeat index: None\\nCloud cover: 100%', name='open_weather_map', id='468ebc1e-9ed6-4c48-9f9f-e048bf1d5fcb', tool_call_id='call_VwwyJspJG6Ft18aqgqWaz7KC')]}\n",
      "\n",
      "---\n",
      "\n",
      "Response from function_1 content='Your earlier query was about the humidity in Chennai.' additional_kwargs={} response_metadata={'finish_reason': 'stop', 'model_name': 'gpt-3.5-turbo-0125', 'service_tier': 'default'} id='run--188a0527-f2f1-46df-81e4-85231d85f4af-0'\n",
      "Inside where to go===  content='Your earlier query was about the humidity in Chennai.' additional_kwargs={} response_metadata={'finish_reason': 'stop', 'model_name': 'gpt-3.5-turbo-0125', 'service_tier': 'default'} id='run--188a0527-f2f1-46df-81e4-85231d85f4af-0'\n",
      "Output from node 'agent':\n",
      "---\n",
      "{'messages': [AIMessage(content='Your earlier query was about the humidity in Chennai.', additional_kwargs={}, response_metadata={'finish_reason': 'stop', 'model_name': 'gpt-3.5-turbo-0125', 'service_tier': 'default'}, id='run--188a0527-f2f1-46df-81e4-85231d85f4af-0')]}\n",
      "\n",
      "---\n",
      "\n"
     ]
    }
   ],
   "source": [
    "config = {\"configurable\": {\"thread_id\": \"1\"}}\n",
    "inputs = {\"messages\": [HumanMessage(content=\"what is my eariler query exactly?\")]}\n",
    "response = app.invoke(inputs,config)\n",
    "\n",
    "for output in app.stream(inputs,config):\n",
    "    # stream() yields dictionaries with output keyed by node name\n",
    "    for key, value in output.items():\n",
    "        print(f\"Output from node '{key}':\")\n",
    "        print(\"---\")\n",
    "        print(value)\n",
    "    print(\"\\n---\\n\")"
   ]
  },
  {
   "cell_type": "code",
   "execution_count": 45,
   "metadata": {
    "id": "pHzuNq6uaq9C"
   },
   "outputs": [
    {
     "data": {
      "text/plain": [
       "StateSnapshot(values={'messages': [HumanMessage(content='what is the humidity in Chennai', additional_kwargs={}, response_metadata={}, id='49684b64-5893-4a47-a3f6-801c5b44f926'), AIMessage(content='', additional_kwargs={'tool_calls': [{'index': 0, 'id': 'call_M1vKEesg1BNacMRGY5iS7s4D', 'function': {'arguments': '{\"location\":\"Chennai\"}', 'name': 'open_weather_map'}, 'type': 'function'}]}, response_metadata={'finish_reason': 'tool_calls', 'model_name': 'gpt-3.5-turbo-0125'}, id='run-6dfad1ca-6da2-4be8-9e8c-b903cc62c381-0', tool_calls=[{'name': 'open_weather_map', 'args': {'location': 'Chennai'}, 'id': 'call_M1vKEesg1BNacMRGY5iS7s4D', 'type': 'tool_call'}]), ToolMessage(content='In Chennai, the current weather is as follows:\\nDetailed status: broken clouds\\nWind speed: 3.85 m/s, direction: 194°\\nHumidity: 80%\\nTemperature: \\n  - Current: 27.84°C\\n  - High: 27.84°C\\n  - Low: 27.84°C\\n  - Feels like: 31.7°C\\nRain: {}\\nHeat index: None\\nCloud cover: 53%', name='open_weather_map', id='c503aedf-deee-472f-a994-0c87e82864b4', tool_call_id='call_M1vKEesg1BNacMRGY5iS7s4D'), AIMessage(content='The humidity in Chennai is 80%.', additional_kwargs={}, response_metadata={'finish_reason': 'stop', 'model_name': 'gpt-3.5-turbo-0125'}, id='run-7429771a-729c-4753-82a7-5a28bcf3f491-0'), HumanMessage(content='what is my eariler query exactly?', additional_kwargs={}, response_metadata={}, id='9df4fa79-ea8d-4325-ae57-9633f4a562e5'), AIMessage(content='Your earlier query was about the humidity in Chennai.', additional_kwargs={}, response_metadata={'finish_reason': 'stop', 'model_name': 'gpt-3.5-turbo-0125'}, id='run-fc8ff027-652d-4b16-84c0-4e2e2b32f766-0'), AIMessage(content='', additional_kwargs={'tool_calls': [{'index': 0, 'id': 'call_Aowa5AZuPJjzzyxKzhhU5pvT', 'function': {'arguments': '{\"location\": \"Chennai\"}', 'name': 'open_weather_map'}, 'type': 'function'}, {'index': 1, 'id': 'call_G5kerqa1thrTR6v0bpOnEIlz', 'function': {'arguments': '{\"location\": \"Chennai\"}', 'name': 'open_weather_map'}, 'type': 'function'}]}, response_metadata={'finish_reason': 'tool_calls', 'model_name': 'gpt-3.5-turbo-0125'}, id='run-557ac141-4bdb-4010-bd1f-481bb863fec5-0', tool_calls=[{'name': 'open_weather_map', 'args': {'location': 'Chennai'}, 'id': 'call_Aowa5AZuPJjzzyxKzhhU5pvT', 'type': 'tool_call'}, {'name': 'open_weather_map', 'args': {'location': 'Chennai'}, 'id': 'call_G5kerqa1thrTR6v0bpOnEIlz', 'type': 'tool_call'}]), ToolMessage(content='In Chennai, the current weather is as follows:\\nDetailed status: broken clouds\\nWind speed: 3.85 m/s, direction: 194°\\nHumidity: 80%\\nTemperature: \\n  - Current: 27.84°C\\n  - High: 27.84°C\\n  - Low: 27.84°C\\n  - Feels like: 31.7°C\\nRain: {}\\nHeat index: None\\nCloud cover: 53%', name='open_weather_map', id='6b3779f1-c409-4362-acad-b57f99b1fa95', tool_call_id='call_Aowa5AZuPJjzzyxKzhhU5pvT'), ToolMessage(content='In Chennai, the current weather is as follows:\\nDetailed status: broken clouds\\nWind speed: 3.85 m/s, direction: 194°\\nHumidity: 80%\\nTemperature: \\n  - Current: 27.84°C\\n  - High: 27.84°C\\n  - Low: 27.84°C\\n  - Feels like: 31.7°C\\nRain: {}\\nHeat index: None\\nCloud cover: 53%', name='open_weather_map', id='024e2691-3c21-4503-81e6-24f79d30a352', tool_call_id='call_G5kerqa1thrTR6v0bpOnEIlz'), AIMessage(content='Your earlier query was about the humidity in Chennai.', additional_kwargs={}, response_metadata={'finish_reason': 'stop', 'model_name': 'gpt-3.5-turbo-0125'}, id='run-37605f59-55e6-4370-a2e7-318d14771724-0'), HumanMessage(content='what is the humidity in Chennai', additional_kwargs={}, response_metadata={}, id='85079fe8-3be9-4d2b-93b7-998b784b19c2'), AIMessage(content='', additional_kwargs={'tool_calls': [{'index': 0, 'id': 'call_xrPJIMUS7P00qipm289b900z', 'function': {'arguments': '{\"location\":\"Chennai\"}', 'name': 'open_weather_map'}, 'type': 'function'}]}, response_metadata={'finish_reason': 'tool_calls', 'model_name': 'gpt-3.5-turbo-0125', 'service_tier': 'default'}, id='run--e6104dd7-31ba-479d-9bc5-f3c97e9fe852-0', tool_calls=[{'name': 'open_weather_map', 'args': {'location': 'Chennai'}, 'id': 'call_xrPJIMUS7P00qipm289b900z', 'type': 'tool_call'}]), ToolMessage(content='In Chennai, the current weather is as follows:\\nDetailed status: overcast clouds\\nWind speed: 1.16 m/s, direction: 190°\\nHumidity: 59%\\nTemperature: \\n  - Current: 30.55°C\\n  - High: 30.55°C\\n  - Low: 30.55°C\\n  - Feels like: 33.69°C\\nRain: {}\\nHeat index: None\\nCloud cover: 100%', name='open_weather_map', id='aab88446-4524-4e7a-b8bc-e50ade51288f', tool_call_id='call_xrPJIMUS7P00qipm289b900z'), AIMessage(content='The humidity in Chennai is 59%.', additional_kwargs={}, response_metadata={'finish_reason': 'stop', 'model_name': 'gpt-3.5-turbo-0125', 'service_tier': 'default'}, id='run--62b41f35-b105-4e12-923d-9e7c54c43c45-0'), HumanMessage(content='what is my eariler query exactly?', additional_kwargs={}, response_metadata={}, id='13f456ce-3afe-40f3-8497-bbf7b95718d3'), AIMessage(content='Your earlier query was about the humidity in Chennai.', additional_kwargs={}, response_metadata={'finish_reason': 'stop', 'model_name': 'gpt-3.5-turbo-0125', 'service_tier': 'default'}, id='run--9e1fdfe8-bce8-4a8a-9abd-da4d8fe49edc-0'), AIMessage(content='', additional_kwargs={'tool_calls': [{'index': 0, 'id': 'call_TenacPWsMM68ATp2s19cokr1', 'function': {'arguments': '{\"location\": \"Chennai\"}', 'name': 'open_weather_map'}, 'type': 'function'}, {'index': 1, 'id': 'call_VwwyJspJG6Ft18aqgqWaz7KC', 'function': {'arguments': '{\"location\": \"Chennai\"}', 'name': 'open_weather_map'}, 'type': 'function'}]}, response_metadata={'finish_reason': 'tool_calls', 'model_name': 'gpt-3.5-turbo-0125', 'service_tier': 'default'}, id='run--cc56ddc4-12c9-4f34-b190-f0d31be2aa94-0', tool_calls=[{'name': 'open_weather_map', 'args': {'location': 'Chennai'}, 'id': 'call_TenacPWsMM68ATp2s19cokr1', 'type': 'tool_call'}, {'name': 'open_weather_map', 'args': {'location': 'Chennai'}, 'id': 'call_VwwyJspJG6Ft18aqgqWaz7KC', 'type': 'tool_call'}]), ToolMessage(content='In Chennai, the current weather is as follows:\\nDetailed status: overcast clouds\\nWind speed: 1.16 m/s, direction: 190°\\nHumidity: 59%\\nTemperature: \\n  - Current: 30.55°C\\n  - High: 30.55°C\\n  - Low: 30.55°C\\n  - Feels like: 33.69°C\\nRain: {}\\nHeat index: None\\nCloud cover: 100%', name='open_weather_map', id='b71d4819-f1d3-4fb4-8eb7-3b5a8f1f056a', tool_call_id='call_TenacPWsMM68ATp2s19cokr1'), ToolMessage(content='In Chennai, the current weather is as follows:\\nDetailed status: overcast clouds\\nWind speed: 1.16 m/s, direction: 190°\\nHumidity: 59%\\nTemperature: \\n  - Current: 30.55°C\\n  - High: 30.55°C\\n  - Low: 30.55°C\\n  - Feels like: 33.69°C\\nRain: {}\\nHeat index: None\\nCloud cover: 100%', name='open_weather_map', id='468ebc1e-9ed6-4c48-9f9f-e048bf1d5fcb', tool_call_id='call_VwwyJspJG6Ft18aqgqWaz7KC'), AIMessage(content='Your earlier query was about the humidity in Chennai.', additional_kwargs={}, response_metadata={'finish_reason': 'stop', 'model_name': 'gpt-3.5-turbo-0125', 'service_tier': 'default'}, id='run--188a0527-f2f1-46df-81e4-85231d85f4af-0')]}, next=(), config={'configurable': {'thread_id': '1', 'checkpoint_ns': '', 'checkpoint_id': '1f04f73a-8d7f-66f3-8018-9058f649af09'}}, metadata={'source': 'loop', 'writes': {'agent': {'messages': [AIMessage(content='Your earlier query was about the humidity in Chennai.', additional_kwargs={}, response_metadata={'finish_reason': 'stop', 'model_name': 'gpt-3.5-turbo-0125', 'service_tier': 'default'}, id='run--188a0527-f2f1-46df-81e4-85231d85f4af-0')]}}, 'step': 24, 'parents': {}, 'thread_id': '1'}, created_at='2025-06-22T14:17:42.104435+00:00', parent_config={'configurable': {'thread_id': '1', 'checkpoint_ns': '', 'checkpoint_id': '1f04f73a-8139-616e-8017-b5c6408fa6a9'}}, tasks=(), interrupts=())"
      ]
     },
     "execution_count": 45,
     "metadata": {},
     "output_type": "execute_result"
    }
   ],
   "source": [
    "snapshot = app.get_state(config)\n",
    "snapshot"
   ]
  },
  {
   "cell_type": "code",
   "execution_count": 46,
   "metadata": {
    "id": "0ovEot14aq9C"
   },
   "outputs": [
    {
     "name": "stdout",
     "output_type": "stream",
     "text": [
      "================================\u001b[1m Human Message \u001b[0m=================================\n",
      "\n",
      "What is java language? \n",
      "Response from function_1 content='Java is a high-level, object-oriented programming language developed by Sun Microsystems (now owned by Oracle). It is known for its platform independence, meaning that Java programs can run on any device that has a Java Virtual Machine (JVM) installed. Java is widely used for developing desktop, web, and mobile applications, as well as enterprise software. It is also used in embedded systems, IoT devices, and more.' additional_kwargs={} response_metadata={'finish_reason': 'stop', 'model_name': 'gpt-3.5-turbo-0125', 'service_tier': 'default'} id='run--2e13bc8d-86e2-49c7-884d-226865577462-0'\n",
      "Inside where to go===  content='Java is a high-level, object-oriented programming language developed by Sun Microsystems (now owned by Oracle). It is known for its platform independence, meaning that Java programs can run on any device that has a Java Virtual Machine (JVM) installed. Java is widely used for developing desktop, web, and mobile applications, as well as enterprise software. It is also used in embedded systems, IoT devices, and more.' additional_kwargs={} response_metadata={'finish_reason': 'stop', 'model_name': 'gpt-3.5-turbo-0125', 'service_tier': 'default'} id='run--2e13bc8d-86e2-49c7-884d-226865577462-0'\n",
      "==================================\u001b[1m Ai Message \u001b[0m==================================\n",
      "\n",
      "Java is a high-level, object-oriented programming language developed by Sun Microsystems (now owned by Oracle). It is known for its platform independence, meaning that Java programs can run on any device that has a Java Virtual Machine (JVM) installed. Java is widely used for developing desktop, web, and mobile applications, as well as enterprise software. It is also used in embedded systems, IoT devices, and more.\n"
     ]
    }
   ],
   "source": [
    "user_input = \"What is java language? \"\n",
    "config = {\"configurable\": {\"thread_id\": \"15\"}}\n",
    "# The config is the **second positional argument** to stream() or invoke()!\n",
    "events = app.stream(\n",
    "    {\"messages\": [(\"user\", user_input)]}, config, stream_mode=\"values\"\n",
    ")\n",
    "for event in events:\n",
    "    if \"messages\" in event:\n",
    "        event[\"messages\"][-1].pretty_print()"
   ]
  },
  {
   "cell_type": "code",
   "execution_count": 47,
   "metadata": {
    "id": "Vmd6_wQKcxXI"
   },
   "outputs": [
    {
     "name": "stdout",
     "output_type": "stream",
     "text": [
      "================================\u001b[1m Human Message \u001b[0m=================================\n",
      "\n",
      "What is 2+5 multiplied by 7? \n",
      "Response from function_1 content='' additional_kwargs={'tool_calls': [{'index': 0, 'id': 'call_9VOGF6epP3H9yaF7kwLQtWEM', 'function': {'arguments': '{\"a\":2,\"b\":5}', 'name': 'add'}, 'type': 'function'}]} response_metadata={'finish_reason': 'tool_calls', 'model_name': 'gpt-3.5-turbo-0125', 'service_tier': 'default'} id='run--11b4ed01-3199-48f0-9305-7ed3627a7f74-0' tool_calls=[{'name': 'add', 'args': {'a': 2, 'b': 5}, 'id': 'call_9VOGF6epP3H9yaF7kwLQtWEM', 'type': 'tool_call'}]\n",
      "Inside where to go===  content='' additional_kwargs={'tool_calls': [{'index': 0, 'id': 'call_9VOGF6epP3H9yaF7kwLQtWEM', 'function': {'arguments': '{\"a\":2,\"b\":5}', 'name': 'add'}, 'type': 'function'}]} response_metadata={'finish_reason': 'tool_calls', 'model_name': 'gpt-3.5-turbo-0125', 'service_tier': 'default'} id='run--11b4ed01-3199-48f0-9305-7ed3627a7f74-0' tool_calls=[{'name': 'add', 'args': {'a': 2, 'b': 5}, 'id': 'call_9VOGF6epP3H9yaF7kwLQtWEM', 'type': 'tool_call'}]\n",
      "==================================\u001b[1m Ai Message \u001b[0m==================================\n",
      "Tool Calls:\n",
      "  add (call_9VOGF6epP3H9yaF7kwLQtWEM)\n",
      " Call ID: call_9VOGF6epP3H9yaF7kwLQtWEM\n",
      "  Args:\n",
      "    a: 2\n",
      "    b: 5\n",
      "=================================\u001b[1m Tool Message \u001b[0m=================================\n",
      "Name: add\n",
      "\n",
      "7\n",
      "Response from function_1 content='' additional_kwargs={'tool_calls': [{'index': 0, 'id': 'call_GqvPq6m83NsLk7s2M8Y2qqpd', 'function': {'arguments': '{\"a\":7,\"b\":7}', 'name': 'multiply'}, 'type': 'function'}]} response_metadata={'finish_reason': 'tool_calls', 'model_name': 'gpt-3.5-turbo-0125', 'service_tier': 'default'} id='run--1e86a10f-e9d0-4fca-a350-4024c1f3a921-0' tool_calls=[{'name': 'multiply', 'args': {'a': 7, 'b': 7}, 'id': 'call_GqvPq6m83NsLk7s2M8Y2qqpd', 'type': 'tool_call'}]\n",
      "Inside where to go===  content='' additional_kwargs={'tool_calls': [{'index': 0, 'id': 'call_GqvPq6m83NsLk7s2M8Y2qqpd', 'function': {'arguments': '{\"a\":7,\"b\":7}', 'name': 'multiply'}, 'type': 'function'}]} response_metadata={'finish_reason': 'tool_calls', 'model_name': 'gpt-3.5-turbo-0125', 'service_tier': 'default'} id='run--1e86a10f-e9d0-4fca-a350-4024c1f3a921-0' tool_calls=[{'name': 'multiply', 'args': {'a': 7, 'b': 7}, 'id': 'call_GqvPq6m83NsLk7s2M8Y2qqpd', 'type': 'tool_call'}]\n",
      "==================================\u001b[1m Ai Message \u001b[0m==================================\n",
      "Tool Calls:\n",
      "  multiply (call_GqvPq6m83NsLk7s2M8Y2qqpd)\n",
      " Call ID: call_GqvPq6m83NsLk7s2M8Y2qqpd\n",
      "  Args:\n",
      "    a: 7\n",
      "    b: 7\n",
      "=================================\u001b[1m Tool Message \u001b[0m=================================\n",
      "Name: multiply\n",
      "\n",
      "49\n",
      "Response from function_1 content='The result of multiplying 7 by 7 is 49.' additional_kwargs={} response_metadata={'finish_reason': 'stop', 'model_name': 'gpt-3.5-turbo-0125', 'service_tier': 'default'} id='run--8751de62-e7e8-4bd4-b57c-81f38acc94d9-0'\n",
      "Inside where to go===  content='The result of multiplying 7 by 7 is 49.' additional_kwargs={} response_metadata={'finish_reason': 'stop', 'model_name': 'gpt-3.5-turbo-0125', 'service_tier': 'default'} id='run--8751de62-e7e8-4bd4-b57c-81f38acc94d9-0'\n",
      "==================================\u001b[1m Ai Message \u001b[0m==================================\n",
      "\n",
      "The result of multiplying 7 by 7 is 49.\n"
     ]
    }
   ],
   "source": [
    "user_input = \"What is 2+5 multiplied by 7? \"\n",
    "config = {\"configurable\": {\"thread_id\": \"15\"}}\n",
    "# The config is the **second positional argument** to stream() or invoke()!\n",
    "events = app.stream(\n",
    "    {\"messages\": [(\"user\", user_input)]}, config, stream_mode=\"values\"\n",
    ")\n",
    "for event in events:\n",
    "    if \"messages\" in event:\n",
    "        event[\"messages\"][-1].pretty_print()"
   ]
  },
  {
   "cell_type": "code",
   "execution_count": 48,
   "metadata": {
    "id": "gLqKEE9dqx_7"
   },
   "outputs": [
    {
     "data": {
      "text/plain": [
       "StateSnapshot(values={'messages': [HumanMessage(content='What is java language? ', additional_kwargs={}, response_metadata={}, id='6ee515f5-5a16-4a29-829f-490707e68dbb'), AIMessage(content='Java is a high-level, object-oriented programming language developed by Sun Microsystems (now owned by Oracle). It is known for its platform independence, meaning that Java programs can run on any device that has a Java Virtual Machine (JVM) installed. Java is widely used for developing desktop, web, and mobile applications, as well as enterprise software. It is also used in embedded systems, IoT devices, and more.', additional_kwargs={}, response_metadata={'finish_reason': 'stop', 'model_name': 'gpt-3.5-turbo-0125', 'service_tier': 'default'}, id='run--2e13bc8d-86e2-49c7-884d-226865577462-0'), HumanMessage(content='What is 2+5 multiplied by 7? ', additional_kwargs={}, response_metadata={}, id='3ba1cb6f-cc2f-4078-8ab0-d8b9750ecdbf'), AIMessage(content='', additional_kwargs={'tool_calls': [{'index': 0, 'id': 'call_9VOGF6epP3H9yaF7kwLQtWEM', 'function': {'arguments': '{\"a\":2,\"b\":5}', 'name': 'add'}, 'type': 'function'}]}, response_metadata={'finish_reason': 'tool_calls', 'model_name': 'gpt-3.5-turbo-0125', 'service_tier': 'default'}, id='run--11b4ed01-3199-48f0-9305-7ed3627a7f74-0', tool_calls=[{'name': 'add', 'args': {'a': 2, 'b': 5}, 'id': 'call_9VOGF6epP3H9yaF7kwLQtWEM', 'type': 'tool_call'}]), ToolMessage(content='7', name='add', id='7a372466-1ffc-49fd-a55a-9a3f6e6a9b54', tool_call_id='call_9VOGF6epP3H9yaF7kwLQtWEM'), AIMessage(content='', additional_kwargs={'tool_calls': [{'index': 0, 'id': 'call_GqvPq6m83NsLk7s2M8Y2qqpd', 'function': {'arguments': '{\"a\":7,\"b\":7}', 'name': 'multiply'}, 'type': 'function'}]}, response_metadata={'finish_reason': 'tool_calls', 'model_name': 'gpt-3.5-turbo-0125', 'service_tier': 'default'}, id='run--1e86a10f-e9d0-4fca-a350-4024c1f3a921-0', tool_calls=[{'name': 'multiply', 'args': {'a': 7, 'b': 7}, 'id': 'call_GqvPq6m83NsLk7s2M8Y2qqpd', 'type': 'tool_call'}]), ToolMessage(content='49', name='multiply', id='1e5e821a-d1e8-4c35-99c9-dc34b8ac8f00', tool_call_id='call_GqvPq6m83NsLk7s2M8Y2qqpd'), AIMessage(content='The result of multiplying 7 by 7 is 49.', additional_kwargs={}, response_metadata={'finish_reason': 'stop', 'model_name': 'gpt-3.5-turbo-0125', 'service_tier': 'default'}, id='run--8751de62-e7e8-4bd4-b57c-81f38acc94d9-0')]}, next=(), config={'configurable': {'thread_id': '15', 'checkpoint_ns': '', 'checkpoint_id': '1f04f73a-ff44-666c-8008-8ae0eb958527'}}, metadata={'source': 'loop', 'writes': {'agent': {'messages': [AIMessage(content='The result of multiplying 7 by 7 is 49.', additional_kwargs={}, response_metadata={'finish_reason': 'stop', 'model_name': 'gpt-3.5-turbo-0125', 'service_tier': 'default'}, id='run--8751de62-e7e8-4bd4-b57c-81f38acc94d9-0')]}}, 'step': 8, 'parents': {}, 'thread_id': '15'}, created_at='2025-06-22T14:17:54.034020+00:00', parent_config={'configurable': {'thread_id': '15', 'checkpoint_ns': '', 'checkpoint_id': '1f04f73a-f6a4-6845-8007-4bbc6b08240d'}}, tasks=(), interrupts=())"
      ]
     },
     "execution_count": 48,
     "metadata": {},
     "output_type": "execute_result"
    }
   ],
   "source": [
    "snapshot = app.get_state(config)\n",
    "snapshot"
   ]
  },
  {
   "cell_type": "markdown",
   "metadata": {
    "id": "nGF9OvZ8BG-M"
   },
   "source": [
    "## Multiple Schemas"
   ]
  },
  {
   "cell_type": "markdown",
   "metadata": {
    "id": "Qf_Y9QiG4Nnm"
   },
   "source": [
    "We may also want to use different input / output schemas for the graph. The output might, for example, only contain a single relevant output key.\n",
    "\n",
    "## Private State\n",
    "\n",
    "First, let's cover the case of passing private state between nodes.\n",
    "\n",
    "This is useful for anything needed as part of the intermediate working logic of the graph, but not relevant for the overall graph input or output.\n",
    "\n",
    "We'll define an OverallState and a PrivateState.\n",
    "\n",
    "node_2 uses PrivateState as input, but writes out to OverallState."
   ]
  },
  {
   "cell_type": "code",
   "execution_count": 49,
   "metadata": {
    "id": "E1gpAW7_Bo6E"
   },
   "outputs": [
    {
     "data": {
      "image/png": "[encoded data removed]",
      "text/plain": [
       "<IPython.core.display.Image object>"
      ]
     },
     "metadata": {},
     "output_type": "display_data"
    }
   ],
   "source": [
    "from typing_extensions import TypedDict\n",
    "from IPython.display import Image, display\n",
    "from langgraph.graph import StateGraph, START, END\n",
    "\n",
    "class OverallState(TypedDict):\n",
    "    x: int\n",
    "\n",
    "class PrivateState(TypedDict):\n",
    "    y: int\n",
    "\n",
    "def node_1(state: OverallState) -> PrivateState:\n",
    "    print(\"---Node 1---\")\n",
    "    return {\"y\": state['x'] + 1}\n",
    "\n",
    "def node_2(state: PrivateState) -> OverallState:\n",
    "    print(\"---Node 2---\")\n",
    "    return {\"x\": state['y'] + 1}\n",
    "\n",
    "# Build graph\n",
    "builder = StateGraph(OverallState)\n",
    "builder.add_node(\"node_1\", node_1)\n",
    "builder.add_node(\"node_2\", node_2)\n",
    "\n",
    "# Logic\n",
    "builder.add_edge(START, \"node_1\")\n",
    "builder.add_edge(\"node_1\", \"node_2\")\n",
    "builder.add_edge(\"node_2\", END)\n",
    "\n",
    "# Add\n",
    "graph = builder.compile()\n",
    "\n",
    "# View\n",
    "display(Image(graph.get_graph().draw_mermaid_png()))"
   ]
  },
  {
   "cell_type": "code",
   "execution_count": 50,
   "metadata": {
    "id": "2Z7yC4WDBwkT"
   },
   "outputs": [
    {
     "name": "stdout",
     "output_type": "stream",
     "text": [
      "---Node 1---\n",
      "---Node 2---\n"
     ]
    },
    {
     "data": {
      "text/plain": [
       "{'x': 3}"
      ]
     },
     "execution_count": 50,
     "metadata": {},
     "output_type": "execute_result"
    }
   ],
   "source": [
    "graph.invoke({\"x\" : 1})"
   ]
  },
  {
   "cell_type": "markdown",
   "metadata": {
    "id": "McVauQzWB2Er"
   },
   "source": [
    "baz is only included in PrivateState.\n",
    "\n",
    "node_2 uses PrivateState as input, but writes out to OverallState.\n",
    "\n",
    "So, we can see that y is excluded from the graph output because it is not in OverallState."
   ]
  },
  {
   "cell_type": "markdown",
   "metadata": {
    "id": "2LUprltsB6gB"
   },
   "source": [
    "##Input / Output Schema\n",
    "\n",
    "By default, StateGraph takes in a single schema and all nodes are expected to communicate with that schema.\n",
    "\n",
    "However, it is also possible to define explicit input and output schemas for a graph.\n",
    "\n",
    "Often, in these cases, we define an \"internal\" schema that contains all keys relevant to graph operations.\n",
    "\n",
    "But, we use specific input and output schemas to constrain the input and output.\n",
    "\n",
    "First, let's just run the graph with a single schema."
   ]
  },
  {
   "cell_type": "code",
   "execution_count": 51,
   "metadata": {
    "id": "sXmNzK52CFKD"
   },
   "outputs": [
    {
     "data": {
      "image/png": "[encoded data removed]",
      "text/plain": [
       "<IPython.core.display.Image object>"
      ]
     },
     "metadata": {},
     "output_type": "display_data"
    }
   ],
   "source": [
    "class OverallState(TypedDict):\n",
    "    question: str\n",
    "    answer: str\n",
    "    notes: str\n",
    "\n",
    "def thinking_node(state: OverallState):\n",
    "    return {\"answer\": \"bye\", \"notes\": \"... his is name is Siva\"}\n",
    "\n",
    "def answer_node(state: OverallState):\n",
    "    return {\"answer\": \"bye Siva\"}\n",
    "\n",
    "graph = StateGraph(OverallState)\n",
    "graph.add_node(\"answer_node\", answer_node)\n",
    "graph.add_node(\"thinking_node\", thinking_node)\n",
    "graph.add_edge(START, \"thinking_node\")\n",
    "graph.add_edge(\"thinking_node\", \"answer_node\")\n",
    "graph.add_edge(\"answer_node\", END)\n",
    "\n",
    "graph = graph.compile()\n",
    "\n",
    "# View\n",
    "display(Image(graph.get_graph().draw_mermaid_png()))"
   ]
  },
  {
   "cell_type": "markdown",
   "metadata": {
    "id": "My0hixgCCLTz"
   },
   "source": [
    "Notice that the output of invoke contains all keys in OverallState."
   ]
  },
  {
   "cell_type": "code",
   "execution_count": null,
   "metadata": {
    "id": "P8QmBGrWCMHL"
   },
   "outputs": [],
   "source": [
    "graph.invoke({\"question\":\"hi\"})"
   ]
  },
  {
   "cell_type": "markdown",
   "metadata": {
    "id": "mj33_pkMCT6r"
   },
   "source": [
    "Now, let's use a specific input and output schema with our graph.\n",
    "\n",
    "Here, input / output schemas perform filtering on what keys are permitted on the input and output of the graph.\n",
    "\n",
    "In addition, we can use a type hint state: InputState to specify the input schema of each of our nodes.\n",
    "\n",
    "This is important when the graph is using multiple schemas.\n",
    "\n",
    "We use type hints below to, for example, show that the output of answer_node will be filtered to OutputState."
   ]
  },
  {
   "cell_type": "code",
   "execution_count": 52,
   "metadata": {
    "id": "Jj3SYxNoCSbr"
   },
   "outputs": [
    {
     "data": {
      "image/png": "[encoded data removed]",
      "text/plain": [
       "<IPython.core.display.Image object>"
      ]
     },
     "metadata": {},
     "output_type": "display_data"
    },
    {
     "data": {
      "text/plain": [
       "{'answer': 'bye Siva'}"
      ]
     },
     "execution_count": 52,
     "metadata": {},
     "output_type": "execute_result"
    }
   ],
   "source": [
    "class InputState(TypedDict):\n",
    "    question: str\n",
    "\n",
    "class OutputState(TypedDict):\n",
    "    answer: str\n",
    "\n",
    "class OverallState(TypedDict):\n",
    "    question: str\n",
    "    answer: str\n",
    "    notes: str\n",
    "\n",
    "def thinking_node(state: InputState):\n",
    "    return {\"answer\": \"bye\", \"notes\": \"... his is name is siva\"}\n",
    "\n",
    "def answer_node(state: OverallState) -> OutputState:\n",
    "    return {\"answer\": \"bye Siva\"}\n",
    "\n",
    "graph = StateGraph(OverallState, input=InputState, output=OutputState)\n",
    "graph.add_node(\"answer_node\", answer_node)\n",
    "graph.add_node(\"thinking_node\", thinking_node)\n",
    "graph.add_edge(START, \"thinking_node\")\n",
    "graph.add_edge(\"thinking_node\", \"answer_node\")\n",
    "graph.add_edge(\"answer_node\", END)\n",
    "\n",
    "graph = graph.compile()\n",
    "\n",
    "# View\n",
    "display(Image(graph.get_graph().draw_mermaid_png()))\n",
    "\n",
    "graph.invoke({\"question\":\"hi\"})"
   ]
  },
  {
   "cell_type": "markdown",
   "metadata": {
    "id": "LSYxvlmoCcUc"
   },
   "source": [
    "We can see the output schema constrains the output to only the answer key."
   ]
  }
 ],
 "metadata": {
  "colab": {
   "provenance": []
  },
  "kernelspec": {
   "display_name": "agenticai",
   "language": "python",
   "name": "python3"
  },
  "language_info": {
   "codemirror_mode": {
    "name": "ipython",
    "version": 3
   },
   "file_extension": ".py",
   "mimetype": "text/x-python",
   "name": "python",
   "nbconvert_exporter": "python",
   "pygments_lexer": "ipython3",
   "version": "3.13.5"
  }
 },
 "nbformat": 4,
 "nbformat_minor": 0
}
