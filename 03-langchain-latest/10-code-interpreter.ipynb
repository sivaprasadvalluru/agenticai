{
 "cells": [
  {
   "cell_type": "code",
   "execution_count": null,
   "metadata": {
    "colab": {
     "base_uri": "https://localhost:8080/"
    },
    "executionInfo": {
     "elapsed": 94800,
     "status": "ok",
     "timestamp": 1726471834643,
     "user": {
      "displayName": "SivaPrasad Valluru",
      "userId": "03440549206981602615"
     },
     "user_tz": -330
    },
    "id": "G35bn4xXF3jr",
    "outputId": "d03067df-f280-4e7a-88bf-0131de84299a"
   },
   "outputs": [],
   "source": [
    "pip install langchain_core langchain_openai langchain_chroma langchain_community langchain_experimental faiss-cpu pypdf langchainhub serpapi google-search-results gradio"
   ]
  },
  {
   "cell_type": "code",
   "execution_count": null,
   "metadata": {
    "id": "ztLhSQcIpd8m"
   },
   "outputs": [],
   "source": [
    "from dotenv import load_dotenv\n",
    "import os\n",
    "# Load environment variables from .env file\n",
    "load_dotenv()\n"
   ]
  },
  {
   "cell_type": "code",
   "execution_count": null,
   "metadata": {
    "colab": {
     "base_uri": "https://localhost:8080/"
    },
    "executionInfo": {
     "elapsed": 1795,
     "status": "ok",
     "timestamp": 1726471916112,
     "user": {
      "displayName": "SivaPrasad Valluru",
      "userId": "03440549206981602615"
     },
     "user_tz": -330
    },
    "id": "pqiWxfkrGsBe",
    "outputId": "b320591e-c9d1-483e-a6bb-58aa56e5bb4f"
   },
   "outputs": [],
   "source": [
    "from langchain import hub\n",
    "\n",
    "# instructions = \"\"\"You are an agent designed to write and execute python code to answer questions.\n",
    "#     You have access to a python REPL, which you can use to execute python code.\n",
    "#     If you get an error, debug your code and try again.\n",
    "#     Only use the output of your code to answer the question.\n",
    "#     You might know the answer without running any code, but you should still run the code to get the answer.\n",
    "#     If it does not seem like you can write code to answer the question, just return \"I don't know\" as the answer.\n",
    "#     \"\"\"\n",
    "#base_prompt = hub.pull(\"langchain-ai/react-agent-template\")\n",
    "prompt = hub.pull(\"hwchase17/react\")\n",
    "\n",
    "#prompt = base_prompt.partial(instructions=instructions)\n",
    "\n",
    "#print(base_prompt)\n",
    "#print(prompt)"
   ]
  },
  {
   "cell_type": "code",
   "execution_count": null,
   "metadata": {
    "colab": {
     "base_uri": "https://localhost:8080/"
    },
    "executionInfo": {
     "elapsed": 3752,
     "status": "ok",
     "timestamp": 1725162249157,
     "user": {
      "displayName": "SivaPrasad Valluru",
      "userId": "03440549206981602615"
     },
     "user_tz": -330
    },
    "id": "1xGqufyqpd8n",
    "outputId": "7b112206-72b1-4dde-ebb9-11c258f17fe6"
   },
   "outputs": [],
   "source": [
    "pip install tabulate"
   ]
  },
  {
   "cell_type": "code",
   "execution_count": null,
   "metadata": {
    "executionInfo": {
     "elapsed": 1964,
     "status": "ok",
     "timestamp": 1726472068595,
     "user": {
      "displayName": "SivaPrasad Valluru",
      "userId": "03440549206981602615"
     },
     "user_tz": -330
    },
    "id": "M9rx6V-HHvzL"
   },
   "outputs": [],
   "source": [
    "from langchain.agents import create_react_agent, AgentExecutor\n",
    "from langchain_experimental.tools import PythonREPLTool\n",
    "from langchain_experimental.tools.python.tool import PythonREPLTool\n",
    "from langchain_openai import ChatOpenAI\n",
    "from langchain_experimental.agents.agent_toolkits import create_csv_agent\n",
    "\n",
    "\n",
    "tools = [PythonREPLTool()]\n",
    "\n",
    "\n",
    "python_agent = create_react_agent(\n",
    "        prompt=prompt,\n",
    "        llm=ChatOpenAI(temperature=0),\n",
    "        tools=tools,\n",
    "    )\n",
    "csv_agent = create_csv_agent(\n",
    "        llm=ChatOpenAI(temperature=0),\n",
    "        path=\"episode_info.csv\",\n",
    "        verbose=True,\n",
    "        allow_dangerous_code=True\n",
    "    )\n"
   ]
  },
  {
   "cell_type": "code",
   "execution_count": null,
   "metadata": {
    "id": "Jj5tRTtPKo9K"
   },
   "outputs": [],
   "source": [
    "pip install qrcode"
   ]
  },
  {
   "cell_type": "code",
   "execution_count": null,
   "metadata": {
    "colab": {
     "base_uri": "https://localhost:8080/"
    },
    "executionInfo": {
     "elapsed": 2600,
     "status": "ok",
     "timestamp": 1726472073963,
     "user": {
      "displayName": "SivaPrasad Valluru",
      "userId": "03440549206981602615"
     },
     "user_tz": -330
    },
    "id": "8DpckOiHISvb",
    "outputId": "b6730da1-d3c9-4d99-e0b6-23736d9fe8c9"
   },
   "outputs": [],
   "source": [
    "agent_executor = AgentExecutor(agent=python_agent, tools=tools, verbose=True)\n",
    "agent_executor.invoke(\n",
    "        input={\n",
    "            \"input\": \"\"\"generate and save in current working directory 2 QRcodes\n",
    "                                that point to https://www.youtube.com/@zerotosiva, you have qrcode package installed already\"\"\"\n",
    "        }\n",
    "    )"
   ]
  },
  {
   "cell_type": "code",
   "execution_count": null,
   "metadata": {
    "id": "0vTkTE4DSobY"
   },
   "outputs": [],
   "source": [
    "csv_agent.invoke(\n",
    "        input={\"input\": \"how many columns are there in file episode_info.csv\"}\n",
    "    )"
   ]
  }
 ],
 "metadata": {
  "colab": {
   "provenance": []
  },
  "kernelspec": {
   "display_name": "venv",
   "language": "python",
   "name": "python3"
  },
  "language_info": {
   "codemirror_mode": {
    "name": "ipython",
    "version": 3
   },
   "file_extension": ".py",
   "mimetype": "text/x-python",
   "name": "python",
   "nbconvert_exporter": "python",
   "pygments_lexer": "ipython3",
   "version": "3.12.9"
  }
 },
 "nbformat": 4,
 "nbformat_minor": 0
}
