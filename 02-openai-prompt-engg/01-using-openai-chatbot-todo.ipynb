{
 "cells": [
  {
   "cell_type": "markdown",
   "metadata": {},
   "source": [
    "# Write a simple code to send a prompt to OpenAI\n",
    "\n",
    "This notebook will guide you through building a chatbot using OpenAI's API. Follow each step to complete the project."
   ]
  },
  {
   "cell_type": "markdown",
   "metadata": {},
   "source": [
    "## Step 1: Install Required Libraries\n",
    "\n",
    "We need to install the OpenAI client library to talk to OpenAI. Execute the code cell below to install the necessary packages."
   ]
  },
  {
   "cell_type": "code",
   "execution_count": null,
   "metadata": {},
   "outputs": [],
   "source": [
    "pip install openai python-dotenv"
   ]
  },
  {
   "cell_type": "markdown",
   "metadata": {},
   "source": [
    "## Step 2: Create an account and Generate API keys\n",
    "\n",
    "1. Go to [chatgpt.com](http://chatgpt.com) and signup if you haven't already\n",
    "2. Go to [platform.openai.com](http://platform.openai.com) and login\n",
    "3. Navigate to the API keys section and generate a new API key\n",
    "4. Copy the API key (you'll need it in the next steps)\n",
    "\n"
   ]
  },
  {
   "cell_type": "markdown",
   "metadata": {},
   "source": [
    "## Step 3: Set up your API key as an environment variable\n",
    "\n",
    "1. Create a file named `.env` in the same directory as this notebook\n",
    "2. Add the following line to the file: `OPENAI_API_KEY=your_api_key_here`\n",
    "3. Execute the cell below to load the environment variable"
   ]
  },
  {
   "cell_type": "code",
   "execution_count": null,
   "metadata": {},
   "outputs": [],
   "source": [
    "from dotenv import load_dotenv\n",
    "\n",
    "load_dotenv()"
   ]
  },
  {
   "cell_type": "markdown",
   "metadata": {},
   "source": [
    "## Step 4: Explore the OpenAI Chat Interface\n",
    "\n",
    "Before writing code, let's explore how the OpenAI chat interface works:\n",
    "\n",
    "1. Go to [platform.openai.com](http://platform.openai.com) and navigate to the playground\n",
    "2. Set the system prompt to: \"Give your responses in a funny way. Limit your responses to at most 3 sentences\"\n",
    "3. Send your first query: \"Who is Elon Musk?\"\n",
    "4. After receiving a response, send a follow-up query: \"List his achievements and failures\"\n",
    "5. Notice how the AI remembers the context of your previous conversation\n",
    "6. Click on the \"View code\" button in the top right corner (it looks like a code icon)\n",
    "7. Examine the code that was generated for your conversation - this shows you how to structure API calls\n",
    "\n",
    "**Task**: Take  notes about the code you see, as you'll need to recreate something similar in the next step."
   ]
  },
  {
   "cell_type": "markdown",
   "metadata": {},
   "source": [
    "## Step 5: Create your first API call\n",
    "\n",
    "Now, let's recreate the conversation you had in the OpenAI interface using the API. \n",
    "\n",
    "**Task**: Complete the code below to send a request to the OpenAI API that includes:\n",
    "- A system message setting the funny response style\n",
    "- The first user message about Elon Musk\n",
    "- The assistant's response (copy this from your playground conversation)\n",
    "- The second user message asking about achievements and failures"
   ]
  },
  {
   "cell_type": "code",
   "execution_count": null,
   "metadata": {},
   "outputs": [],
   "source": [
    "from openai import OpenAI\n",
    "client = OpenAI()\n",
    "\n",
    "# Create your chat completion request here\n",
    "# Hint: Use client.chat.completions.create() with the appropriate parameters\n",
    "# Include the messages array with system, user, and assistant messages\n"
   ]
  },
  {
   "cell_type": "markdown",
   "metadata": {},
   "source": [
    "## Step 6: Extract and display the response content\n",
    "\n",
    "**Task**: Write code to extract just the content of the response from the API call above and print it."
   ]
  },
  {
   "cell_type": "code",
   "execution_count": null,
   "metadata": {},
   "outputs": [],
   "source": [
    "# Extract and print the content from the response\n"
   ]
  },
  {
   "cell_type": "markdown",
   "metadata": {},
   "source": [
    "## Step 7: Create a reusable function for chat completions\n",
    "\n",
    "To make our code more reusable, let's create a function that handles chat completions.\n",
    "\n",
    "**Task**: Complete the function below that takes a messages array and returns the content of the model's response. Include parameters for model selection and temperature."
   ]
  },
  {
   "cell_type": "code",
   "execution_count": null,
   "metadata": {},
   "outputs": [],
   "source": [
    "def get_completion_from_messages(messages, model=\"gpt-4o-mini\", temperature=0):\n",
    "    # Your code here to:\n",
    "    # 1. Create a chat completion request using the client\n",
    "    # 2. Extract and return just the message content from the response\n"
   ]
  },
  {
   "cell_type": "markdown",
   "metadata": {},
   "source": [
    "## Step 8: Test your function with a simple conversation\n",
    "\n",
    "Let's test our function with a simple conversation to see if the model can remember information.\n",
    "\n",
    "**Task**: \n",
    "1. Create an empty messages array\n",
    "2. Add a user message introducing yourself\n",
    "3. Call your function with this messages array\n",
    "4. Add another user message asking the AI to recall your name\n",
    "5. Call your function again and see if it remembers your name"
   ]
  },
  {
   "cell_type": "code",
   "execution_count": null,
   "metadata": {},
   "outputs": [],
   "source": [
    "# Create your messages array and test the conversation\n"
   ]
  },
  {
   "cell_type": "markdown",
   "metadata": {},
   "source": [
    "## Step 9: Experiment with system messages\n",
    "\n",
    "System messages can be used to set the behavior of the AI assistant.\n",
    "\n",
    "**Task**: Create a messages array that includes a system message instructing the AI to be funny, and a user message asking for a simple calculation. Call your function and observe the response."
   ]
  },
  {
   "cell_type": "code",
   "execution_count": null,
   "metadata": {},
   "outputs": [],
   "source": [
    "# Create a messages array with a system message and test it\n"
   ]
  },
  {
   "cell_type": "markdown",
   "metadata": {},
   "source": [
    "## Step 10: Build a chatbot interface using Gradio\n",
    "\n",
    "Now let's create a web interface for our chatbot using Gradio.\n",
    "\n",
    "First, install the Gradio library:"
   ]
  },
  {
   "cell_type": "code",
   "execution_count": null,
   "metadata": {},
   "outputs": [],
   "source": [
    "pip install gradio"
   ]
  },
  {
   "cell_type": "markdown",
   "metadata": {},
   "source": [
    "**Task**: Complete the code below to create a Gradio chat interface that:\n",
    "1. Takes a user message and conversation history\n",
    "2. Converts the history into the format expected by the OpenAI API\n",
    "3. Adds the current message to the messages array\n",
    "4. Gets a response using your get_completion_from_messages function\n",
    "5. Returns the response to be displayed in the chat interface"
   ]
  },
  {
   "cell_type": "code",
   "execution_count": null,
   "metadata": {},
   "outputs": [],
   "source": [
    "import gradio as gr\n",
    "\n",
    "def predict(message, history):\n",
    "    # Your code here to:\n",
    "    # 1. Initialize an empty messages array\n",
    "    # 2. Convert the history to the format expected by the OpenAI API\n",
    "    # 3. Add the current message to the messages array\n",
    "    # 4. Get a response using your get_completion_from_messages function\n",
    "    # 5. Return the response\n",
    "\n",
    "# Create and launch a Gradio chat interface\n",
    "# gr.ChatInterface(predict).launch(debug=True)"
   ]
  }
 ],
 "metadata": {
  "kernelspec": {
   "display_name": "Python 3",
   "language": "python",
   "name": "python3"
  },
  "language_info": {
   "codemirror_mode": {
    "name": "ipython",
    "version": 3
   },
   "file_extension": ".py",
   "mimetype": "text/x-python",
   "name": "python",
   "nbconvert_exporter": "python",
   "pygments_lexer": "ipython3",
   "version": "3.8.10"
  }
 },
 "nbformat": 4,
 "nbformat_minor": 4
}
