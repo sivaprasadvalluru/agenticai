{
 "cells": [
  {
   "cell_type": "markdown",
   "metadata": {},
   "source": [
    "# Write a simple code to send a prompt to openai\n",
    "\n",
    "We need to install openai client library to talk to open ai. So, execute the below code cell"
   ]
  },
  {
   "cell_type": "code",
   "execution_count": null,
   "metadata": {},
   "outputs": [],
   "source": [
    "pip install openai python-dotenv"
   ]
  },
  {
   "cell_type": "markdown",
   "metadata": {},
   "source": [
    "**Create an account and Generate API keys**\n",
    "\n",
    "*Go to [chatgpt.com]( http://chatgpt.com) and signup.*\n",
    "Go to [platform.openai.com]( http://platform.openai.com) and login.\n",
    "Generate an api key and copy it\n",
    "\n",
    "If you are working on google colab, configure a Secret with name OPENAI_API_KEY and give the api key value"
   ]
  },
  {
   "cell_type": "markdown",
   "metadata": {},
   "source": [
    "Execute the below code to set OPENAI_API_KEY as environment variable"
   ]
  },
  {
   "cell_type": "code",
   "execution_count": null,
   "metadata": {},
   "outputs": [],
   "source": [
    "from dotenv import load_dotenv\n",
    "\n",
    "load_dotenv()"
   ]
  },
  {
   "cell_type": "markdown",
   "metadata": {},
   "source": [
    "Go to [platform.openai.com]( http://platform.openai.com) and  set system prompt as  \"Give your responses in a funny way . Limit your responses to atmost 3 sentences\"\n",
    "\n",
    "send 1st query as \"Who is elon musk?\"\n",
    "\n",
    "Once u get response,  send second query\n",
    "\n",
    "\"List his achievements and failures\"\n",
    "\n",
    "Observe that it is remembering your previous conversation.\n",
    "\n",
    "Now Click on the view code button (It looks like below) on the right corner.\n",
    "\n",
    "![image.png](data:image/png;base64,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)\n",
    "\n",
    " You will be able to see the code simlar to the one as shown below .\n",
    "\n",
    " Remove the last assistant message.\n",
    "\n",
    " Run the below cell. **If u have not executed above code cells, first execute them**"
   ]
  },
  {
   "cell_type": "code",
   "execution_count": null,
   "metadata": {},
   "outputs": [],
   "source": [
    "from openai import OpenAI\n",
    "client = OpenAI()\n",
    "\n",
    "response = client.chat.completions.create(\n",
    "  model=\"gpt-3.5-turbo-16k\",\n",
    "  messages=[\n",
    "    {\n",
    "      \"role\": \"system\",\n",
    "      \"content\": [\n",
    "        {\n",
    "          \"type\": \"text\",\n",
    "          \"text\": \"Give your responses in a funny way . Limit your responses to atmost 3 sentences\"\n",
    "        }\n",
    "      ]\n",
    "    },\n",
    "    {\n",
    "      \"role\": \"user\",\n",
    "      \"content\": [\n",
    "        {\n",
    "          \"type\": \"text\",\n",
    "          \"text\": \"Who is elon musk\\n\"\n",
    "        }\n",
    "      ]\n",
    "    },\n",
    "    {\n",
    "      \"role\": \"assistant\",\n",
    "      \"content\": [\n",
    "        {\n",
    "          \"type\": \"text\",\n",
    "          \"text\": \"Oh, you mean Mr. \\\"I have a rocket company, a car company, and a brain full of brilliant (and sometimes crazy) ideas\\\"? Yeah, that's Elon Musk, the human embodiment of ambition and eccentricity.\\n\\nElon Musk? Oh, he's just the genius who likes to build rockets and electric cars for fun. No big deal. Just your average superhero disguised as a regular dude.\\n\\nElon Musk is the modern-day Tony Stark, minus the suit and the snarky remarks (or maybe not). He's the guy behind Tesla, SpaceX, and other mind-blowing projects, with a brain that's probably powered by renewable energy.\"\n",
    "        }\n",
    "      ]\n",
    "    },\n",
    "    {\n",
    "      \"role\": \"user\",\n",
    "      \"content\": [\n",
    "        {\n",
    "          \"type\": \"text\",\n",
    "          \"text\": \"List his achievements and failures\"\n",
    "        }\n",
    "      ]\n",
    "    }\n",
    "  ],\n",
    "  temperature=1,\n",
    "  max_tokens=256,\n",
    "  top_p=1,\n",
    "  frequency_penalty=0,\n",
    "  presence_penalty=0\n",
    ")\n",
    "response"
   ]
  },
  {
   "cell_type": "code",
   "execution_count": null,
   "metadata": {},
   "outputs": [],
   "source": [
    "response.choices[0].message.content"
   ]
  },
  {
   "cell_type": "code",
   "execution_count": 4,
   "metadata": {},
   "outputs": [],
   "source": [
    "def get_completion_from_messages(messages, model=\"gpt-4o-mini\", temperature=0):\n",
    "    response = client.chat.completions.create(\n",
    "        model=model,\n",
    "        messages=messages,\n",
    "        temperature=temperature, # this is the degree of randomness of the model's output\n",
    "    )\n",
    "#     print(str(response.choices[0].message))\n",
    "    return response.choices[0].message.content"
   ]
  },
  {
   "cell_type": "code",
   "execution_count": null,
   "metadata": {},
   "outputs": [],
   "source": [
    "messages =[]\n",
    "\n",
    "messages.append({'role':'user', 'content': \"My Name is SivaPrasad\"})\n",
    "\n",
    "get_completion_from_messages(messages)\n",
    "\n",
    "messages.append({'role':'user', 'content': \"What is my name\"})\n",
    "\n",
    "get_completion_from_messages(messages)"
   ]
  },
  {
   "cell_type": "code",
   "execution_count": null,
   "metadata": {},
   "outputs": [],
   "source": [
    "messages=[\n",
    "    {\n",
    "      \"role\": \"system\",\n",
    "      \"content\": [\n",
    "        {\n",
    "          \"type\": \"text\",\n",
    "          \"text\": \"You are a funny ai . Give funny response\"\n",
    "        }\n",
    "      ]\n",
    "    },\n",
    "    {\n",
    "      \"role\": \"user\",\n",
    "      \"content\": [\n",
    "        {\n",
    "          \"type\": \"text\",\n",
    "          \"text\": \"What is 2+5\"\n",
    "        }\n",
    "      ]\n",
    "    }\n",
    "  ]\n",
    "\n",
    "get_completion_from_messages(messages=messages)"
   ]
  },
  {
   "cell_type": "markdown",
   "metadata": {},
   "source": [
    "## Let us build a chatbot using gradio"
   ]
  },
  {
   "cell_type": "code",
   "execution_count": null,
   "metadata": {},
   "outputs": [],
   "source": [
    "pip install gradio"
   ]
  },
  {
   "cell_type": "code",
   "execution_count": 8,
   "metadata": {},
   "outputs": [
    {
     "data": {
      "text/plain": []
     },
     "execution_count": 8,
     "metadata": {},
     "output_type": "execute_result"
    }
   ],
   "source": [
    "import gradio as gr\n",
    "\n",
    "def predict(message,history):\n",
    "  messages =[]\n",
    "  for historymessage in history:\n",
    "    messages.append({'role':'user', 'content': historymessage[0]})\n",
    "    messages.append({'role':'assistant', 'content': historymessage[1]})\n",
    "\n",
    "  messages.append({'role':'user', 'content': message})\n",
    "\n",
    "  response1=get_completion_from_messages(messages)\n",
    "\n",
    "  print(\" history  = \",history)\n",
    "  print(\" Messages  = \", message)\n",
    "  return response1\n",
    "\n",
    "\n",
    "gr.ChatInterface(predict).launch(debug=True)"
   ]
  }
 ],
 "metadata": {
  "kernelspec": {
   "display_name": ".venv",
   "language": "python",
   "name": "python3"
  },
  "language_info": {
   "codemirror_mode": {
    "name": "ipython",
    "version": 3
   },
   "file_extension": ".py",
   "mimetype": "text/x-python",
   "name": "python",
   "nbconvert_exporter": "python",
   "pygments_lexer": "ipython3",
   "version": "3.12.4"
  }
 },
 "nbformat": 4,
 "nbformat_minor": 2
}
