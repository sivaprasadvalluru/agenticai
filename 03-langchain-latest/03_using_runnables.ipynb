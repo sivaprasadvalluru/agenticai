{
  "cells": [
    {
      "cell_type": "markdown",
      "metadata": {
        "id": "snO0DMf8BVKw"
      },
      "source": [
        "# In this lab, we will understand about various <font color=\"red\">Runnables"
      ]
    },
    {
      "cell_type": "code",
      "execution_count": null,
      "metadata": {
        "id": "pRBFQYCYbYdT"
      },
      "outputs": [],
      "source": [
        "pip install langchain langchain_core langchain_openai"
      ]
    },
    {
      "cell_type": "markdown",
      "metadata": {
        "id": "u-3xpjGEBVK0"
      },
      "source": [
        "If you are using Jupyter notebook, follow the below instructions. Else skip this step and go to next step\n",
        "\n",
        "**Open .env file in this folder and observe that we have configured OPENAI_API_KEY. Replace it with your own key or key given by me**\n",
        "\n",
        "The Code in the below cell will load the .env file and set environment variables.\n",
        "\n",
        "**Write the code in the below cell and execute it**"
      ]
    },
    {
      "cell_type": "code",
      "execution_count": null,
      "metadata": {
        "id": "guYZrwdbBVK1"
      },
      "outputs": [],
      "source": [
        "from dotenv import load_dotenv\n",
        "\n",
        "load_dotenv()\n"
      ]
    },
    {
      "cell_type": "markdown",
      "metadata": {
        "id": "K7F3Xp6CBVK2"
      },
      "source": [
        "**Create llm object and set debug to true so that we can see debug logs**"
      ]
    },
    {
      "cell_type": "code",
      "execution_count": null,
      "metadata": {
        "id": "zpJp_I6rhSa2"
      },
      "outputs": [],
      "source": [
        "\n",
        "from langchain_openai import  ChatOpenAI\n",
        "llm = ChatOpenAI()\n",
        "\n",
        "from langchain_core.globals import set_debug\n",
        "set_debug(False)"
      ]
    },
    {
      "cell_type": "markdown",
      "metadata": {
        "id": "m8WYejlp8h3O"
      },
      "source": [
        "**If we want to Create a runnable object using a function or lambda, we can use RunnableLambda as Below.**\n",
        "\n",
        "\n",
        "**Execute the below code in a cell to understand its usage**\n",
        "\n"
      ]
    },
    {
      "cell_type": "code",
      "execution_count": null,
      "metadata": {
        "id": "vQmdH_5TDcZY"
      },
      "outputs": [],
      "source": [
        "from langchain_core.runnables import RunnableLambda\n",
        "r=RunnableLambda(lambda x: x + 1)\n",
        "r.invoke(1)"
      ]
    },
    {
      "cell_type": "markdown",
      "metadata": {
        "id": "5uh4QoUjDwKA"
      },
      "source": [
        "**Below code is creating a Sequence of Runnable Lambdas**\n",
        "\n",
        "**Execute the below code in a cell to understand its usage**"
      ]
    },
    {
      "cell_type": "code",
      "execution_count": null,
      "metadata": {
        "id": "qiXXep418qsk"
      },
      "outputs": [],
      "source": [
        "\n",
        "from langchain_core.runnables import  RunnableParallel, RunnablePassthrough, RunnableSequence, RunnableLambda,RunnablePick,RunnableAssign\n",
        "\n",
        "# A RunnableSequence constructed using the `|` operator\n",
        "sequence = RunnableLambda(lambda x: x + 1) | RunnableLambda(lambda x: x * 2)\n",
        "sequence.invoke(1) # 4\n",
        "sequence.batch([1, 2, 3]) # [4, 6, 8]\n"
      ]
    },
    {
      "cell_type": "markdown",
      "metadata": {
        "id": "ZjYTHGBrBVK3"
      },
      "source": [
        "**Below code shows how to execute  Runnables Parallelely using LCEL**\n",
        "\n",
        "**Observe the debug logs carefully**"
      ]
    },
    {
      "cell_type": "code",
      "execution_count": null,
      "metadata": {
        "id": "XiS7c6y9MNe3"
      },
      "outputs": [],
      "source": [
        "from langchain_core.runnables import  RunnableParallel\n",
        "rp= RunnableParallel({\n",
        "    'mul_2': RunnableLambda(lambda x: x * 2),\n",
        "    'mul_5': RunnableLambda(lambda x: x * 5)\n",
        "})\n",
        "\n",
        "rp.invoke(1)"
      ]
    },
    {
      "cell_type": "code",
      "execution_count": null,
      "metadata": {
        "id": "vcuN9FH0AVu_"
      },
      "outputs": [],
      "source": [
        "\n",
        "# A sequence that contains a RunnableParallel constructed using a dict literal\n",
        "sequence = RunnableLambda(lambda x: x + 1) | {\n",
        "    'mul_2': RunnableLambda(lambda x: x * 2),\n",
        "    'mul_5': RunnableLambda(lambda x: x * 5)\n",
        "}\n",
        "sequence.invoke(1) # {'mul_2': 4, 'mul_5': 10}\n"
      ]
    },
    {
      "cell_type": "markdown",
      "metadata": {
        "id": "jJl_Ar6biRRI"
      },
      "source": [
        "**Let us understand about  RunnableParallel**\n",
        "\n",
        "Use the below code and execute it in a cell\n",
        "\n",
        "\n"
      ]
    },
    {
      "cell_type": "code",
      "execution_count": null,
      "metadata": {
        "id": "iKwlUQ7Xgwy3"
      },
      "outputs": [],
      "source": [
        "from langchain.prompts import PromptTemplate\n",
        "text = f\"\"\"\n",
        "Needed a nice lamp for my bedroom, and this one had\n",
        "additional storage and not too high of a price point.\n",
        "Got it fast. The string to our lamp broke during the\n",
        "transit and the company happily sent over a new one.\n",
        "Came within a few days as well. It was easy to put\n",
        "together. I had a missing part, so I contacted their\n",
        "support and they very quickly got me the missing piece!\n",
        "Lumina seems to me to be a great company that cares\n",
        "about their customers and products!!\"\"\"\n",
        "\n",
        "\n",
        "summarizarion_prompt = \"summarize the below text into one sentence: {text}\"\n",
        "\n",
        "sentiment_prompt = \"What is the sentiment of the  text below :  {text}\"\n",
        "\n",
        "fprompt = PromptTemplate(  template=summarizarion_prompt, input_variables=[\"text\"])\n",
        "\n",
        "sprompt = PromptTemplate(  template=sentiment_prompt,input_variables=[\"text\"])\n",
        "\n",
        "summarychain = fprompt | llm\n",
        "sentimentchain = sprompt | llm\n",
        "\n",
        "finalchain = RunnableParallel({\"summary\": summarychain, \"sentiment\": sentimentchain})\n",
        "finalchain.invoke({\"text\": text})"
      ]
    },
    {
      "cell_type": "markdown",
      "metadata": {
        "id": "chzdodtdilOs"
      },
      "source": [
        "**Let us understand about  RunnablePassthrough**\n",
        "\n",
        "RunnablePassthrough is a type of runnable which will just give input as output\n",
        "\n",
        "Execute the below code in a cell and observe the result\n"
      ]
    },
    {
      "cell_type": "code",
      "execution_count": null,
      "metadata": {
        "collapsed": true,
        "id": "bxTiE6wxmVHP"
      },
      "outputs": [],
      "source": [
        "rp= RunnablePassthrough()\n",
        "rp.invoke({\"language\": \"java\", \"task\": \"return a sum of numbers in a list. Do proper formatting of result\"})"
      ]
    },
    {
      "cell_type": "markdown",
      "metadata": {
        "id": "AqRt3ii4BVK5"
      },
      "source": [
        "**Below is another example usage of RunnableParallel and RunnablePassthrough.**\n",
        "\n",
        "**Execute the below code in a cell and observe the result**\n"
      ]
    },
    {
      "cell_type": "code",
      "execution_count": null,
      "metadata": {
        "colab": {
          "base_uri": "https://localhost:8080/"
        },
        "id": "LzhWMM6ibRGZ",
        "outputId": "252faaaa-0cd0-455f-881f-1053767c1284"
      },
      "outputs": [],
      "source": [
        "from langchain_core.runnables import RunnableParallel, RunnablePassthrough\n",
        "\n",
        "runnable = RunnableParallel(\n",
        "    passed=RunnablePassthrough(),\n",
        "    modified=lambda x: x[\"num\"] + 1,\n",
        ")\n",
        "\n",
        "runnable.invoke({\"num\": 1})"
      ]
    },
    {
      "cell_type": "markdown",
      "metadata": {
        "id": "zoyp_rC0iqmo"
      },
      "source": [
        "**Let us understand about  RunnablePick**\n"
      ]
    },
    {
      "cell_type": "code",
      "execution_count": null,
      "metadata": {
        "colab": {
          "base_uri": "https://localhost:8080/",
          "height": 191
        },
        "id": "mUljUmhphOV_",
        "outputId": "7a2805bd-d48c-4c8e-b3f0-e634c66ff47c"
      },
      "outputs": [],
      "source": [
        "r=RunnablePick(\"language\")\n",
        "\n",
        "r.invoke({\"language\": \"java\", \"task\": \"return a sum of numbers in a list. Do proper formatting of result\"})"
      ]
    },
    {
      "cell_type": "markdown",
      "metadata": {
        "id": "GwSDYvNJi5XG"
      },
      "source": [
        "**Let us understand about  RunnablePassthrough.assign or RunnableAssign**\n",
        "\n",
        "Understand and execute the code in the  below cell\n"
      ]
    },
    {
      "cell_type": "markdown",
      "metadata": {
        "id": "1DRlsAtvc9XZ"
      },
      "source": []
    },
    {
      "cell_type": "code",
      "execution_count": null,
      "metadata": {
        "id": "U_z4NzZ4k86o"
      },
      "outputs": [],
      "source": [
        "from langchain_core.runnables.passthrough import RunnableAssign, RunnableParallel\n",
        "def add_ten(x):\n",
        "    return  x[\"input\"] + 10\n",
        "\n",
        "mapper ={\"add_ten\": add_ten}\n",
        "runnable_assign = RunnableAssign(mapper)\n",
        "print(runnable_assign)\n",
        "\n",
        "output = runnable_assign.invoke({\"input\": 5})\n",
        "output"
      ]
    },
    {
      "cell_type": "markdown",
      "metadata": {
        "id": "PE8255aoBVK5"
      },
      "source": [
        "**Understand and execute the code in the  below cell**\n"
      ]
    },
    {
      "cell_type": "code",
      "execution_count": null,
      "metadata": {
        "colab": {
          "base_uri": "https://localhost:8080/"
        },
        "id": "tywhFSkPmpq3",
        "outputId": "d1a08a15-7852-4171-ac6b-71b8b7ff9eba"
      },
      "outputs": [],
      "source": [
        "from langchain_core.runnables.passthrough import RunnableAssign, RunnablePassthrough\n",
        "\n",
        "ra=RunnableAssign(mapper={\"d\": RunnablePassthrough()})\n",
        "ra.invoke({\"language\": \"java\", \"task\": \"return a sum of numbers in a list. Do proper formatting of result\"})"
      ]
    },
    {
      "cell_type": "markdown",
      "metadata": {
        "id": "cADqcYkJBVK5"
      },
      "source": [
        "**Understand and execute the code in the  below cell**"
      ]
    },
    {
      "cell_type": "code",
      "execution_count": null,
      "metadata": {
        "colab": {
          "base_uri": "https://localhost:8080/"
        },
        "id": "DrDiuWKwb_7L",
        "outputId": "24b3110e-69ee-4875-91b2-6698e4ea30aa"
      },
      "outputs": [],
      "source": [
        "from langchain_core.runnables import RunnableParallel, RunnablePassthrough\n",
        "\n",
        "def multiply_by_two(x):\n",
        "    return  x[\"num\"] * 2\n",
        "\n",
        "\n",
        "r= RunnablePassthrough.assign(mult= multiply_by_two )\n",
        "print( r)\n",
        "\n",
        "r.invoke({\"num\": 1})\n"
      ]
    },
    {
      "cell_type": "markdown",
      "metadata": {
        "id": "dceX6zUBBVK5"
      },
      "source": [
        "**Understand and execute the code in the  below cell**"
      ]
    },
    {
      "cell_type": "code",
      "execution_count": null,
      "metadata": {
        "colab": {
          "base_uri": "https://localhost:8080/"
        },
        "id": "VRRGXjjgjqAH",
        "outputId": "75574dfd-9d83-4592-ccef-da912dea5ff7"
      },
      "outputs": [],
      "source": [
        "runnable = RunnableParallel(\n",
        "    extra=RunnablePassthrough.assign(mult= multiply_by_two),\n",
        "    modified=lambda x: x[\"num\"] + 1,\n",
        ")\n",
        "print(runnable)\n",
        "runnable.invoke({\"num\": 1})"
      ]
    }
  ],
  "metadata": {
    "colab": {
      "provenance": []
    },
    "kernelspec": {
      "display_name": "Python 3 (ipykernel)",
      "language": "python",
      "name": "python3"
    },
    "language_info": {
      "codemirror_mode": {
        "name": "ipython",
        "version": 3
      },
      "file_extension": ".py",
      "mimetype": "text/x-python",
      "name": "python",
      "nbconvert_exporter": "python",
      "pygments_lexer": "ipython3",
      "version": "3.12.4"
    }
  },
  "nbformat": 4,
  "nbformat_minor": 0
}
