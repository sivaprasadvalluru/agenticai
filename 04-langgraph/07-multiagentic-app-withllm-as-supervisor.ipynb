{
 "cells": [
  {
   "cell_type": "code",
   "execution_count": 1,
   "metadata": {
    "id": "1SlsUSBllr5t"
   },
   "outputs": [],
   "source": [
    "#pip install langgraph langchain langchain_openai langchain_experimental langsmith pandas"
   ]
  },
  {
   "cell_type": "code",
   "execution_count": 2,
   "metadata": {
    "id": "99a30Ktdsahc"
   },
   "outputs": [
    {
     "data": {
      "text/plain": [
       "True"
      ]
     },
     "execution_count": 2,
     "metadata": {},
     "output_type": "execute_result"
    }
   ],
   "source": [
    "from dotenv import load_dotenv\n",
    "\n",
    "load_dotenv()"
   ]
  },
  {
   "cell_type": "code",
   "execution_count": 3,
   "metadata": {},
   "outputs": [
    {
     "name": "stderr",
     "output_type": "stream",
     "text": [
      "C:\\Users\\SivaPrasad\\AppData\\Local\\Temp\\ipykernel_31248\\1638020371.py:54: DeprecationWarning: The default datetime adapter is deprecated as of Python 3.12; see the sqlite3 documentation for suggested replacement recipes\n",
      "  c.execute('INSERT INTO orders VALUES (?,?,?,?)',\n"
     ]
    }
   ],
   "source": [
    "import sqlite3\n",
    "from typing import Annotated\n",
    "from langchain_core.tools import tool\n",
    "from langchain_experimental.tools import PythonREPLTool\n",
    "import pandas as pd\n",
    "from datetime import datetime, timedelta\n",
    "\n",
    "# Initialize SQLite database with some tables\n",
    "def init_database():\n",
    "    conn = sqlite3.connect('warehouse2.db')\n",
    "    c = conn.cursor()\n",
    "\n",
    "    # Create tables\n",
    "    c.execute('''CREATE TABLE IF NOT EXISTS inventory\n",
    "                 (product_id TEXT PRIMARY KEY,\n",
    "                  name TEXT,\n",
    "                  quantity INTEGER,\n",
    "                  reorder_point INTEGER,\n",
    "                  unit_price REAL)''')\n",
    "\n",
    "    c.execute('''CREATE TABLE IF NOT EXISTS orders\n",
    "                 (order_id TEXT PRIMARY KEY,\n",
    "                  order_date TIMESTAMP,\n",
    "                  status TEXT,\n",
    "                  total_amount REAL)''')\n",
    "\n",
    "    c.execute('''CREATE TABLE IF NOT EXISTS order_items\n",
    "                 (order_id TEXT,\n",
    "                  product_id TEXT,\n",
    "                  quantity INTEGER,\n",
    "                  FOREIGN KEY(order_id) REFERENCES orders(order_id),\n",
    "                  FOREIGN KEY(product_id) REFERENCES inventory(product_id))''')\n",
    "\n",
    "    # Insert sample data\n",
    "    c.execute('DELETE FROM inventory')\n",
    "    c.execute('DELETE FROM orders')\n",
    "    c.execute('DELETE FROM order_items')\n",
    "\n",
    "    # Sample inventory\n",
    "    inventory_data = [\n",
    "        ('SKU001', 'Gaming Laptop', 45, 20, 999.99),\n",
    "        ('SKU002', 'Wireless Mouse', 150, 50, 29.99),\n",
    "        ('SKU003', 'Mechanical Keyboard', 5, 30, 89.99),\n",
    "        ('SKU004', 'Monitor 27\"', 30, 15, 299.99),\n",
    "        ('SKU005', 'USB-C Hub', 10, 40, 49.99)\n",
    "    ]\n",
    "    c.executemany('INSERT INTO inventory VALUES (?,?,?,?,?)', inventory_data)\n",
    "\n",
    "    # Sample orders\n",
    "    for i in range(1, 21):  # Create 20 sample orders\n",
    "        order_id = f'ORD{i:03d}'\n",
    "        order_date = datetime.now() - timedelta(days=i)\n",
    "        status = ['Pending', 'Processing', 'Shipped', 'Delivered'][i % 4]\n",
    "        c.execute('INSERT INTO orders VALUES (?,?,?,?)',\n",
    "                 (order_id, order_date, status, 0))  # Total will be updated\n",
    "\n",
    "        # Add 1-3 items to each order\n",
    "        for j in range(1, (i % 3) + 2):\n",
    "            product_id = f'SKU{(i + j) % 5 + 1:03d}'\n",
    "            quantity = (i + j) % 5 + 1\n",
    "            c.execute('INSERT INTO order_items VALUES (?,?,?)',\n",
    "                     (order_id, product_id, quantity))\n",
    "\n",
    "    conn.commit()\n",
    "    conn.close()\n",
    "\n",
    "# Initialize the database\n",
    "init_database()\n"
   ]
  },
  {
   "cell_type": "code",
   "execution_count": 4,
   "metadata": {},
   "outputs": [],
   "source": [
    "from langchain.sql_database import SQLDatabase\n",
    "\n",
    "from langchain_community.agent_toolkits.sql.toolkit import SQLDatabaseToolkit\n",
    "from langchain.agents import create_sql_agent\n",
    "from  langchain_openai import ChatOpenAI\n",
    "llm = ChatOpenAI(model=\"gpt-4o-mini\")\n",
    "# Create database connection\n",
    "db = SQLDatabase.from_uri(\"sqlite:///warehouse2.db\")\n",
    "\n",
    "# Create the SQL toolkit\n",
    "sql_toolkit = SQLDatabaseToolkit(db=db,llm=llm)\n",
    "\n",
    "\n",
    "# Create tool instances\n",
    "python_repl = PythonREPLTool()"
   ]
  },
  {
   "cell_type": "code",
   "execution_count": 5,
   "metadata": {},
   "outputs": [],
   "source": [
    "from langchain_core.prompts import ChatPromptTemplate, MessagesPlaceholder\n",
    "from langchain_openai import ChatOpenAI\n",
    "from pydantic import BaseModel\n",
    "\n",
    "\n",
    "\n",
    "# Create a static system prompt instead of dynamically generating it\n",
    "system_prompt = \"\"\"\n",
    "You are a warehouse operations supervisor managing these workers: InventoryManager, OrderProcessor, AnalyticsManager.\n",
    "Below are the tasks handled by each worker:\n",
    "\n",
    "InventoryManager: InventoryManager can check stock levels, update inventory, and manage reordering\n",
    "OrderProcessor: OrderProcessor can process orders, update order status, and manage order fulfillment it can verify inventory availability\n",
    "AnalyticsManager: AnalyticsManager can analyze sales trends, inventory turnover, and generate reports\n",
    "\n",
    "Given the following request, determine which worker should act next.\n",
    "When all necessary tasks are completed, respond with FINISH.\n",
    "\"\"\"\n",
    "\n",
    "options = [\"FINISH\", \"InventoryManager\", \"OrderProcessor\", \"AnalyticsManager\"]\n",
    "\n",
    "\n",
    "\n",
    "# Set up the supervisor prompt with the static system prompt\n",
    "prompt = ChatPromptTemplate.from_messages([\n",
    "    (\"system\", system_prompt),\n",
    "    MessagesPlaceholder(variable_name=\"messages\"),\n",
    "    (\"system\", \"\"\"Given the conversation above, \n",
    "     who should act next? Or should we FINISH? Select one of: \"\"\" + str(options)),\n",
    "])\n",
    "\n",
    "class routeResponse(BaseModel):\n",
    "    next: str\n",
    "\n",
    "# Create the supervisor agent\n",
    "def supervisor_agent(state):\n",
    "    supervisor_chain = prompt | llm.with_structured_output(routeResponse)\n",
    "    return supervisor_chain.invoke(state)\n"
   ]
  },
  {
   "cell_type": "code",
   "execution_count": null,
   "metadata": {},
   "outputs": [],
   "source": []
  },
  {
   "cell_type": "code",
   "execution_count": 6,
   "metadata": {},
   "outputs": [],
   "source": [
    "from langgraph.graph import END, StateGraph, START\n",
    "from langgraph.prebuilt import create_react_agent\n",
    "\n",
    "# Create specialized agents with their tools\n",
    "inventory_agent = create_react_agent(\n",
    "    llm,\n",
    "    [python_repl, *sql_toolkit.get_tools()],\n",
    "    prompt=\"\"\"You are the Inventory Manager. You can:\n",
    "    1. Query inventory levels using SQL\n",
    "    2. Update inventory quantities\n",
    "    3. Check items below reorder point\n",
    "    4. if generating code, make sure to use the correct , make sure that code returns expected value finally.\n",
    "    think properly before generating code and generate all the required code at once.\n",
    "\n",
    "    Important Instructions:\n",
    "    - Always end your response with a clear CONCLUSION: stating what you found and any actions taken\n",
    "    - When checking inventory, provide specific numbers\n",
    "    - For updates, confirm the before and after quantities\n",
    "    - Keep responses focused and concise\n",
    "    - Use proper SQL syntax and verify data before updates\n",
    "\n",
    "    Example format:\n",
    "    *Analysis/Actions taken*\n",
    "    CONCLUSION: Found X items below reorder point. Updated inventory for item Y from A to B units.\"\"\"\n",
    ", debug=False\n",
    ")\n",
    "order_agent = create_react_agent(\n",
    "    llm,\n",
    "    [python_repl, *sql_toolkit.get_tools()],\n",
    "    prompt=\"\"\"You are the Order Processor. You can only :\n",
    "    1. Process new orders\n",
    "    2. Update order status\n",
    "    3. Check order details\n",
    "\n",
    "    Important Instructions:\n",
    "    - Always end your response with a clear CONCLUSION: stating what you found and any actions taken\n",
    "    - Verify inventory before processing orders\n",
    "    - For order updates, confirm the new status\n",
    "    - Provide specific quantities and order details\n",
    "    - Keep responses focused and concise\n",
    "    - You can only process orders and update order status. U cannot update inventory.\n",
    "    Example format:\n",
    "    *Analysis/Actions taken*\n",
    "    CONCLUSION: Order XYZ processed successfully. Updated status from A to B. Inventory adjusted.\"\"\"\n",
    ", debug=False\n",
    ")\n",
    "\n",
    "analytics_agent = create_react_agent(\n",
    "    llm,\n",
    "    [python_repl, *sql_toolkit.get_tools()],\n",
    "    prompt=\"\"\"You are the Analytics Manager. You can:\n",
    "    1. Analyze sales trends\n",
    "    2. Generate inventory reports\n",
    "    3. Calculate key metrics\n",
    "    4. Provide recommendations\n",
    "\n",
    "    Important Instructions:\n",
    "    - Always end your response with a clear CONCLUSION: stating your findings and recommendations\n",
    "    - Provide specific numbers and insights\n",
    "    - Keep responses focused and concise\n",
    "    \n",
    "    - Use clear visualizations when needed\n",
    "\n",
    "    Example format:\n",
    "    *Analysis performed*\n",
    "    CONCLUSION: Analysis shows X trend over Y period. Recommend taking Z action.\"\"\"\n",
    ",debug=False\n",
    ")\n"
   ]
  },
  {
   "cell_type": "code",
   "execution_count": 7,
   "metadata": {},
   "outputs": [
    {
     "data": {
      "image/png": "[encoded data removed]",
      "text/plain": [
       "<IPython.core.display.Image object>"
      ]
     },
     "execution_count": 7,
     "metadata": {},
     "output_type": "execute_result"
    }
   ],
   "source": [
    "from langchain_core.messages import HumanMessage,BaseMessage\n",
    "import functools\n",
    "from typing import Sequence\n",
    "from typing_extensions import TypedDict\n",
    "import operator\n",
    "\n",
    "\n",
    "def agent_node(state, agent, name):\n",
    "    result = agent.invoke(state)\n",
    "    print(f\"{name} says: {result}\")\n",
    "    return {\n",
    "        \"messages\": [HumanMessage(content=result[\"messages\"][-1].content, name=name)]\n",
    "    }\n",
    "\n",
    "\n",
    "class AgentState(TypedDict):\n",
    "    # The annotation tells the graph that new messages will always\n",
    "    # be added to the current states\n",
    "    messages: Annotated[Sequence[BaseMessage], operator.add]\n",
    "    # The 'next' field indicates where to route to next\n",
    "    next: str\n",
    "\n",
    "\n",
    "# Create agent nodes\n",
    "inventory_node = functools.partial(agent_node, agent=inventory_agent, name=\"InventoryManager\")\n",
    "order_node = functools.partial(agent_node, agent=order_agent, name=\"OrderProcessor\")\n",
    "analytics_node = functools.partial(agent_node, agent=analytics_agent, name=\"AnalyticsManager\")\n",
    "\n",
    "# Set up workflow\n",
    "workflow = StateGraph(AgentState)\n",
    "workflow.add_node(\"InventoryManager\", inventory_node)\n",
    "workflow.add_node(\"OrderProcessor\", order_node)\n",
    "workflow.add_node(\"AnalyticsManager\", analytics_node)\n",
    "workflow.add_node(\"supervisor\", supervisor_agent)\n",
    "\n",
    "workflow.add_edge(\"InventoryManager\", \"supervisor\")\n",
    "workflow.add_edge(\"OrderProcessor\", \"supervisor\")\n",
    "workflow.add_edge(\"AnalyticsManager\", \"supervisor\")\n",
    "\n",
    "\n",
    "\n",
    "\n",
    "# Add the conditional edges to the workflow\n",
    "workflow.add_conditional_edges(\n",
    "    \"supervisor\",          # From node\n",
    "    lambda x: x[\"next\"],   # Get the value of \"next\" from the state\n",
    "        {\n",
    "        \"InventoryManager\": \"InventoryManager\",\n",
    "        \"OrderProcessor\": \"OrderProcessor\", \n",
    "        \"AnalyticsManager\": \"AnalyticsManager\",\n",
    "        \"FINISH\": END\n",
    "         }        # Use the map to determine where to go\n",
    ")\n",
    "workflow.add_edge(START, \"supervisor\")\n",
    "\n",
    "# Compile the graph\n",
    "graph = workflow.compile()\n",
    "\n",
    "from IPython.display import Image\n",
    "Image(graph.get_graph().draw_mermaid_png())"
   ]
  },
  {
   "cell_type": "code",
   "execution_count": 8,
   "metadata": {},
   "outputs": [
    {
     "name": "stdout",
     "output_type": "stream",
     "text": [
      "\n",
      "Processing query: Process order ORD001 and update inventory accordingly\n",
      "--------------------------------------------------\n"
     ]
    },
    {
     "name": "stderr",
     "output_type": "stream",
     "text": [
      "Python REPL can execute arbitrary code. Use with caution.\n"
     ]
    },
    {
     "name": "stdout",
     "output_type": "stream",
     "text": [
      "OrderProcessor says: {'messages': [HumanMessage(content='Process order ORD001 and update inventory accordingly', additional_kwargs={}, response_metadata={}, id='bd063434-ac91-4854-a6e6-9f9582978ff4'), AIMessage(content='', additional_kwargs={'tool_calls': [{'id': 'call_7XUK0bxfFmz47iQyhO6EbHJY', 'function': {'arguments': '{\"query\":\"SELECT * FROM orders WHERE order_id = \\'ORD001\\'\"}', 'name': 'sql_db_query'}, 'type': 'function'}], 'refusal': None}, response_metadata={'token_usage': {'completion_tokens': 26, 'prompt_tokens': 523, 'total_tokens': 549, 'completion_tokens_details': {'accepted_prediction_tokens': 0, 'audio_tokens': 0, 'reasoning_tokens': 0, 'rejected_prediction_tokens': 0}, 'prompt_tokens_details': {'audio_tokens': 0, 'cached_tokens': 0}}, 'model_name': 'gpt-4o-mini-2024-07-18', 'system_fingerprint': 'fp_34a54ae93c', 'id': 'chatcmpl-BlG03osk0of2O9koapNoJEY1BzgF7', 'service_tier': 'default', 'finish_reason': 'tool_calls', 'logprobs': None}, id='run--5293c023-d8a5-46ec-81a0-d5c2ebaa46a8-0', tool_calls=[{'name': 'sql_db_query', 'args': {'query': \"SELECT * FROM orders WHERE order_id = 'ORD001'\"}, 'id': 'call_7XUK0bxfFmz47iQyhO6EbHJY', 'type': 'tool_call'}], usage_metadata={'input_tokens': 523, 'output_tokens': 26, 'total_tokens': 549, 'input_token_details': {'audio': 0, 'cache_read': 0}, 'output_token_details': {'audio': 0, 'reasoning': 0}}), ToolMessage(content=\"[('ORD001', '2025-06-21 20:00:12.470129', 'Processing', 0.0)]\", name='sql_db_query', id='fbcfb8c6-b15c-4354-8788-134f5eb76cb0', tool_call_id='call_7XUK0bxfFmz47iQyhO6EbHJY'), AIMessage(content='', additional_kwargs={'tool_calls': [{'id': 'call_FaVV8QPhXVv3LLNR8CUOhivq', 'function': {'arguments': '{\"query\":\"SELECT * FROM inventory WHERE order_id = \\'ORD001\\'\"}', 'name': 'sql_db_query'}, 'type': 'function'}], 'refusal': None}, response_metadata={'token_usage': {'completion_tokens': 26, 'prompt_tokens': 588, 'total_tokens': 614, 'completion_tokens_details': {'accepted_prediction_tokens': 0, 'audio_tokens': 0, 'reasoning_tokens': 0, 'rejected_prediction_tokens': 0}, 'prompt_tokens_details': {'audio_tokens': 0, 'cached_tokens': 0}}, 'model_name': 'gpt-4o-mini-2024-07-18', 'system_fingerprint': 'fp_34a54ae93c', 'id': 'chatcmpl-BlG034rEJh7kMuirg7wSkJnjNLJlx', 'service_tier': 'default', 'finish_reason': 'tool_calls', 'logprobs': None}, id='run--5a4cc09b-1653-4951-8aff-59382032b29d-0', tool_calls=[{'name': 'sql_db_query', 'args': {'query': \"SELECT * FROM inventory WHERE order_id = 'ORD001'\"}, 'id': 'call_FaVV8QPhXVv3LLNR8CUOhivq', 'type': 'tool_call'}], usage_metadata={'input_tokens': 588, 'output_tokens': 26, 'total_tokens': 614, 'input_token_details': {'audio': 0, 'cache_read': 0}, 'output_token_details': {'audio': 0, 'reasoning': 0}}), ToolMessage(content=\"Error: (sqlite3.OperationalError) no such column: order_id\\n[SQL: SELECT * FROM inventory WHERE order_id = 'ORD001']\\n(Background on this error at: https://sqlalche.me/e/20/e3q8)\", name='sql_db_query', id='adfcfd30-7298-486d-8ad4-c5ae84987cfa', tool_call_id='call_FaVV8QPhXVv3LLNR8CUOhivq'), AIMessage(content='', additional_kwargs={'tool_calls': [{'id': 'call_qp1Jp3kTsz4FUFrRx2qzIFLH', 'function': {'arguments': '{}', 'name': 'sql_db_list_tables'}, 'type': 'function'}], 'refusal': None}, response_metadata={'token_usage': {'completion_tokens': 12, 'prompt_tokens': 675, 'total_tokens': 687, 'completion_tokens_details': {'accepted_prediction_tokens': 0, 'audio_tokens': 0, 'reasoning_tokens': 0, 'rejected_prediction_tokens': 0}, 'prompt_tokens_details': {'audio_tokens': 0, 'cached_tokens': 0}}, 'model_name': 'gpt-4o-mini-2024-07-18', 'system_fingerprint': 'fp_34a54ae93c', 'id': 'chatcmpl-BlG05da9h5nUvVzwsxndAantTtVDH', 'service_tier': 'default', 'finish_reason': 'tool_calls', 'logprobs': None}, id='run--75a2bc90-917b-451f-9457-6b5e978d3527-0', tool_calls=[{'name': 'sql_db_list_tables', 'args': {}, 'id': 'call_qp1Jp3kTsz4FUFrRx2qzIFLH', 'type': 'tool_call'}], usage_metadata={'input_tokens': 675, 'output_tokens': 12, 'total_tokens': 687, 'input_token_details': {'audio': 0, 'cache_read': 0}, 'output_token_details': {'audio': 0, 'reasoning': 0}}), ToolMessage(content='inventory, order_items, orders', name='sql_db_list_tables', id='3b5bd778-d864-4a7d-b967-be548e5a6df4', tool_call_id='call_qp1Jp3kTsz4FUFrRx2qzIFLH'), AIMessage(content='', additional_kwargs={'tool_calls': [{'id': 'call_1k27GQQMfpm28y2MgkoNloGN', 'function': {'arguments': '{\"query\": \"SELECT * FROM order_items WHERE order_id = \\'ORD001\\'\"}', 'name': 'sql_db_query'}, 'type': 'function'}, {'id': 'call_IdtdeoWXIi2oSesTo9Nsrzkz', 'function': {'arguments': '{\"query\": \"SELECT * FROM inventory\"}', 'name': 'sql_db_query'}, 'type': 'function'}], 'refusal': None}, response_metadata={'token_usage': {'completion_tokens': 61, 'prompt_tokens': 703, 'total_tokens': 764, 'completion_tokens_details': {'accepted_prediction_tokens': 0, 'audio_tokens': 0, 'reasoning_tokens': 0, 'rejected_prediction_tokens': 0}, 'prompt_tokens_details': {'audio_tokens': 0, 'cached_tokens': 0}}, 'model_name': 'gpt-4o-mini-2024-07-18', 'system_fingerprint': 'fp_34a54ae93c', 'id': 'chatcmpl-BlG05Eq9y3o6c7xHQlfkIgOd30Tec', 'service_tier': 'default', 'finish_reason': 'tool_calls', 'logprobs': None}, id='run--d58aa14b-bcbd-41b7-b529-b1d206819fd7-0', tool_calls=[{'name': 'sql_db_query', 'args': {'query': \"SELECT * FROM order_items WHERE order_id = 'ORD001'\"}, 'id': 'call_1k27GQQMfpm28y2MgkoNloGN', 'type': 'tool_call'}, {'name': 'sql_db_query', 'args': {'query': 'SELECT * FROM inventory'}, 'id': 'call_IdtdeoWXIi2oSesTo9Nsrzkz', 'type': 'tool_call'}], usage_metadata={'input_tokens': 703, 'output_tokens': 61, 'total_tokens': 764, 'input_token_details': {'audio': 0, 'cache_read': 0}, 'output_token_details': {'audio': 0, 'reasoning': 0}}), ToolMessage(content=\"[('ORD001', 'SKU003', 3), ('ORD001', 'SKU004', 4)]\", name='sql_db_query', id='7e4ef0eb-80fb-4e7e-b3c9-16c6ec702bc8', tool_call_id='call_1k27GQQMfpm28y2MgkoNloGN'), ToolMessage(content='[(\\'SKU001\\', \\'Gaming Laptop\\', 45, 20, 999.99), (\\'SKU002\\', \\'Wireless Mouse\\', 150, 50, 29.99), (\\'SKU003\\', \\'Mechanical Keyboard\\', 5, 30, 89.99), (\\'SKU004\\', \\'Monitor 27\"\\', 30, 15, 299.99), (\\'SKU005\\', \\'USB-C Hub\\', 10, 40, 49.99)]', name='sql_db_query', id='72528712-61cd-4827-89fd-44d8d4621148', tool_call_id='call_IdtdeoWXIi2oSesTo9Nsrzkz'), AIMessage(content='', additional_kwargs={'tool_calls': [{'id': 'call_9GHwKZidI1Bq0CWopVkrheZz', 'function': {'arguments': '{\"query\":\"# Check inventory for items related to order ORD001\\\\norder_items = [(\\'ORD001\\', \\'SKU003\\', 3), (\\'ORD001\\', \\'SKU004\\', 4)]\\\\ninventory = [(\\'SKU001\\', \\'Gaming Laptop\\', 45, 20, 999.99),\\\\n            (\\'SKU002\\', \\'Wireless Mouse\\', 150, 50, 29.99),\\\\n            (\\'SKU003\\', \\'Mechanical Keyboard\\', 5, 30, 89.99),\\\\n            (\\'SKU004\\', \\'Monitor 27\\\\\"\\', 30, 15, 299.99),\\\\n            (\\'SKU005\\', \\'USB-C Hub\\', 10, 40, 49.99)]\\\\n\\\\n# Function to process the order and update inventory\\\\ndef process_order(order_items, inventory):\\\\n    inventory_updated = inventory.copy()\\\\n    for order in order_items:\\\\n        sku, quantity = order[1], order[2]\\\\n        for item in inventory_updated:\\\\n            if item[0] == sku:\\\\n                if item[2] >= quantity:  # Check if there is enough stock\\\\n                    item[2] -= quantity  # Reduce stock\\\\n                else:\\\\n                    return \\\\\"Insufficient stock for SKU: {}\\\\\".format(sku)\\\\n    return inventory_updated\\\\n\\\\nupdated_inventory = process_order(order_items, inventory)\\\\nupdated_inventory\"}', 'name': 'Python_REPL'}, 'type': 'function'}], 'refusal': None}, response_metadata={'token_usage': {'completion_tokens': 306, 'prompt_tokens': 899, 'total_tokens': 1205, 'completion_tokens_details': {'accepted_prediction_tokens': 0, 'audio_tokens': 0, 'reasoning_tokens': 0, 'rejected_prediction_tokens': 0}, 'prompt_tokens_details': {'audio_tokens': 0, 'cached_tokens': 0}}, 'model_name': 'gpt-4o-mini-2024-07-18', 'system_fingerprint': 'fp_34a54ae93c', 'id': 'chatcmpl-BlG074bx4slfqSiranhWVKsPVReED', 'service_tier': 'default', 'finish_reason': 'tool_calls', 'logprobs': None}, id='run--589c89ea-5e7c-4357-a863-b38bc8963c21-0', tool_calls=[{'name': 'Python_REPL', 'args': {'query': '# Check inventory for items related to order ORD001\\norder_items = [(\\'ORD001\\', \\'SKU003\\', 3), (\\'ORD001\\', \\'SKU004\\', 4)]\\ninventory = [(\\'SKU001\\', \\'Gaming Laptop\\', 45, 20, 999.99),\\n            (\\'SKU002\\', \\'Wireless Mouse\\', 150, 50, 29.99),\\n            (\\'SKU003\\', \\'Mechanical Keyboard\\', 5, 30, 89.99),\\n            (\\'SKU004\\', \\'Monitor 27\"\\', 30, 15, 299.99),\\n            (\\'SKU005\\', \\'USB-C Hub\\', 10, 40, 49.99)]\\n\\n# Function to process the order and update inventory\\ndef process_order(order_items, inventory):\\n    inventory_updated = inventory.copy()\\n    for order in order_items:\\n        sku, quantity = order[1], order[2]\\n        for item in inventory_updated:\\n            if item[0] == sku:\\n                if item[2] >= quantity:  # Check if there is enough stock\\n                    item[2] -= quantity  # Reduce stock\\n                else:\\n                    return \"Insufficient stock for SKU: {}\".format(sku)\\n    return inventory_updated\\n\\nupdated_inventory = process_order(order_items, inventory)\\nupdated_inventory'}, 'id': 'call_9GHwKZidI1Bq0CWopVkrheZz', 'type': 'tool_call'}], usage_metadata={'input_tokens': 899, 'output_tokens': 306, 'total_tokens': 1205, 'input_token_details': {'audio': 0, 'cache_read': 0}, 'output_token_details': {'audio': 0, 'reasoning': 0}}), ToolMessage(content='TypeError(\"\\'tuple\\' object does not support item assignment\")', name='Python_REPL', id='95f86bba-7779-4d39-95af-b9d9f9298cce', tool_call_id='call_9GHwKZidI1Bq0CWopVkrheZz'), AIMessage(content='', additional_kwargs={'tool_calls': [{'id': 'call_PFEPzG45WjnVgQPiaLYPP0ub', 'function': {'arguments': '{\"query\":\"# Check inventory for items related to order ORD001\\\\norder_items = [(\\'ORD001\\', \\'SKU003\\', 3), (\\'ORD001\\', \\'SKU004\\', 4)]\\\\ninventory = [(\\'SKU001\\', \\'Gaming Laptop\\', 45, 20, 999.99),\\\\n            (\\'SKU002\\', \\'Wireless Mouse\\', 150, 50, 29.99),\\\\n            (\\'SKU003\\', \\'Mechanical Keyboard\\', 5, 30, 89.99),\\\\n            (\\'SKU004\\', \\'Monitor 27\\\\\"\\', 30, 15, 299.99),\\\\n            (\\'SKU005\\', \\'USB-C Hub\\', 10, 40, 49.99)]\\\\n\\\\n# Convert tuples to lists to allow mutation\\\\ninventory = [list(item) for item in inventory]\\\\n\\\\n# Function to process the order and update inventory\\\\ndef process_order(order_items, inventory):\\\\n    for order in order_items:\\\\n        sku, quantity = order[1], order[2]\\\\n        for item in inventory:\\\\n            if item[0] == sku:\\\\n                if item[2] >= quantity:  # Check if there is enough stock\\\\n                    item[2] -= quantity  # Reduce stock\\\\n                else:\\\\n                    return \\\\\"Insufficient stock for SKU: {}\\\\\".format(sku)\\\\n    return inventory\\\\n\\\\nupdated_inventory = process_order(order_items, inventory)\\\\nupdated_inventory\"}', 'name': 'Python_REPL'}, 'type': 'function'}], 'refusal': None}, response_metadata={'token_usage': {'completion_tokens': 318, 'prompt_tokens': 1226, 'total_tokens': 1544, 'completion_tokens_details': {'accepted_prediction_tokens': 0, 'audio_tokens': 0, 'reasoning_tokens': 0, 'rejected_prediction_tokens': 0}, 'prompt_tokens_details': {'audio_tokens': 0, 'cached_tokens': 1024}}, 'model_name': 'gpt-4o-mini-2024-07-18', 'system_fingerprint': 'fp_34a54ae93c', 'id': 'chatcmpl-BlG0CvKrqC0AgWLo2UBpNSfXw8Mwo', 'service_tier': 'default', 'finish_reason': 'tool_calls', 'logprobs': None}, id='run--9557b4ad-7e77-466e-89f0-8cc6658cfc57-0', tool_calls=[{'name': 'Python_REPL', 'args': {'query': '# Check inventory for items related to order ORD001\\norder_items = [(\\'ORD001\\', \\'SKU003\\', 3), (\\'ORD001\\', \\'SKU004\\', 4)]\\ninventory = [(\\'SKU001\\', \\'Gaming Laptop\\', 45, 20, 999.99),\\n            (\\'SKU002\\', \\'Wireless Mouse\\', 150, 50, 29.99),\\n            (\\'SKU003\\', \\'Mechanical Keyboard\\', 5, 30, 89.99),\\n            (\\'SKU004\\', \\'Monitor 27\"\\', 30, 15, 299.99),\\n            (\\'SKU005\\', \\'USB-C Hub\\', 10, 40, 49.99)]\\n\\n# Convert tuples to lists to allow mutation\\ninventory = [list(item) for item in inventory]\\n\\n# Function to process the order and update inventory\\ndef process_order(order_items, inventory):\\n    for order in order_items:\\n        sku, quantity = order[1], order[2]\\n        for item in inventory:\\n            if item[0] == sku:\\n                if item[2] >= quantity:  # Check if there is enough stock\\n                    item[2] -= quantity  # Reduce stock\\n                else:\\n                    return \"Insufficient stock for SKU: {}\".format(sku)\\n    return inventory\\n\\nupdated_inventory = process_order(order_items, inventory)\\nupdated_inventory'}, 'id': 'call_PFEPzG45WjnVgQPiaLYPP0ub', 'type': 'tool_call'}], usage_metadata={'input_tokens': 1226, 'output_tokens': 318, 'total_tokens': 1544, 'input_token_details': {'audio': 0, 'cache_read': 1024}, 'output_token_details': {'audio': 0, 'reasoning': 0}}), ToolMessage(content='', name='Python_REPL', id='4a96b944-9ac0-4583-b36c-84613fc26ac5', tool_call_id='call_PFEPzG45WjnVgQPiaLYPP0ub'), AIMessage(content='', additional_kwargs={'tool_calls': [{'id': 'call_ePsu8GzWHkLiGJBCCXbkghQr', 'function': {'arguments': '{\"query\":\"# Check inventory for items related to order ORD001\\\\norder_items = [(\\'ORD001\\', \\'SKU003\\', 3), (\\'ORD001\\', \\'SKU004\\', 4)]\\\\ninventory = [(\\'SKU001\\', \\'Gaming Laptop\\', 45, 20, 999.99),\\\\n            (\\'SKU002\\', \\'Wireless Mouse\\', 150, 50, 29.99),\\\\n            (\\'SKU003\\', \\'Mechanical Keyboard\\', 5, 30, 89.99),\\\\n            (\\'SKU004\\', \\'Monitor 27\\\\\"\\', 30, 15, 299.99),\\\\n            (\\'SKU005\\', \\'USB-C Hub\\', 10, 40, 49.99)]\\\\n\\\\n# Convert tuples to lists to allow mutation\\\\ninventory = [list(item) for item in inventory]\\\\n\\\\n# Function to process the order and update inventory\\\\ndef process_order(order_items, inventory):\\\\n    for order in order_items:\\\\n        sku, quantity = order[1], order[2]\\\\n        for item in inventory:\\\\n            if item[0] == sku:\\\\n                if item[2] >= quantity:  # Check if there is enough stock\\\\n                    item[2] -= quantity  # Reduce stock\\\\n                else:\\\\n                    return \\\\\"Insufficient stock for SKU: {}\\\\\".format(sku)\\\\n    return inventory\\\\n\\\\nupdated_inventory = process_order(order_items, inventory)\\\\nupdated_inventory\"}', 'name': 'Python_REPL'}, 'type': 'function'}], 'refusal': None}, response_metadata={'token_usage': {'completion_tokens': 318, 'prompt_tokens': 1553, 'total_tokens': 1871, 'completion_tokens_details': {'accepted_prediction_tokens': 0, 'audio_tokens': 0, 'reasoning_tokens': 0, 'rejected_prediction_tokens': 0}, 'prompt_tokens_details': {'audio_tokens': 0, 'cached_tokens': 1408}}, 'model_name': 'gpt-4o-mini-2024-07-18', 'system_fingerprint': 'fp_34a54ae93c', 'id': 'chatcmpl-BlG0GiZd8abLPfTCf5Vf26G0SYfEp', 'service_tier': 'default', 'finish_reason': 'tool_calls', 'logprobs': None}, id='run--cf1e4db4-bc4a-4847-bc0a-844766cf84a9-0', tool_calls=[{'name': 'Python_REPL', 'args': {'query': '# Check inventory for items related to order ORD001\\norder_items = [(\\'ORD001\\', \\'SKU003\\', 3), (\\'ORD001\\', \\'SKU004\\', 4)]\\ninventory = [(\\'SKU001\\', \\'Gaming Laptop\\', 45, 20, 999.99),\\n            (\\'SKU002\\', \\'Wireless Mouse\\', 150, 50, 29.99),\\n            (\\'SKU003\\', \\'Mechanical Keyboard\\', 5, 30, 89.99),\\n            (\\'SKU004\\', \\'Monitor 27\"\\', 30, 15, 299.99),\\n            (\\'SKU005\\', \\'USB-C Hub\\', 10, 40, 49.99)]\\n\\n# Convert tuples to lists to allow mutation\\ninventory = [list(item) for item in inventory]\\n\\n# Function to process the order and update inventory\\ndef process_order(order_items, inventory):\\n    for order in order_items:\\n        sku, quantity = order[1], order[2]\\n        for item in inventory:\\n            if item[0] == sku:\\n                if item[2] >= quantity:  # Check if there is enough stock\\n                    item[2] -= quantity  # Reduce stock\\n                else:\\n                    return \"Insufficient stock for SKU: {}\".format(sku)\\n    return inventory\\n\\nupdated_inventory = process_order(order_items, inventory)\\nupdated_inventory'}, 'id': 'call_ePsu8GzWHkLiGJBCCXbkghQr', 'type': 'tool_call'}], usage_metadata={'input_tokens': 1553, 'output_tokens': 318, 'total_tokens': 1871, 'input_token_details': {'audio': 0, 'cache_read': 1408}, 'output_token_details': {'audio': 0, 'reasoning': 0}}), ToolMessage(content='', name='Python_REPL', id='9eafa269-c45f-449f-ab4f-f463b0f32619', tool_call_id='call_ePsu8GzWHkLiGJBCCXbkghQr'), AIMessage(content='', additional_kwargs={'tool_calls': [{'id': 'call_UXsFlM7Fo49YlCdTVztW6zqv', 'function': {'arguments': '{\"query\":\"# Check inventory for items related to order ORD001\\\\norder_items = [(\\'ORD001\\', \\'SKU003\\', 3), (\\'ORD001\\', \\'SKU004\\', 4)]\\\\ninventory = [(\\'SKU001\\', \\'Gaming Laptop\\', 45, 20, 999.99),\\\\n            (\\'SKU002\\', \\'Wireless Mouse\\', 150, 50, 29.99),\\\\n            (\\'SKU003\\', \\'Mechanical Keyboard\\', 5, 30, 89.99),\\\\n            (\\'SKU004\\', \\'Monitor 27\\\\\"\\', 30, 15, 299.99),\\\\n            (\\'SKU005\\', \\'USB-C Hub\\', 10, 40, 49.99)]\\\\n\\\\n# Convert tuples to lists to allow mutation\\\\ninventory = [list(item) for item in inventory]\\\\n\\\\n# Function to process the order and update inventory\\\\nupdated_inventory = []\\\\nfor order in order_items:\\\\n    sku, quantity = order[1], order[2]\\\\n    for item in inventory:\\\\n        if item[0] == sku:\\\\n            if item[2] >= quantity:  # Check if there is enough stock\\\\n                item[2] -= quantity  # Reduce stock\\\\n                updated_inventory.append(item)\\\\n                break\\\\n\\\\nupdated_inventory\"}', 'name': 'Python_REPL'}, 'type': 'function'}], 'refusal': None}, response_metadata={'token_usage': {'completion_tokens': 287, 'prompt_tokens': 1880, 'total_tokens': 2167, 'completion_tokens_details': {'accepted_prediction_tokens': 0, 'audio_tokens': 0, 'reasoning_tokens': 0, 'rejected_prediction_tokens': 0}, 'prompt_tokens_details': {'audio_tokens': 0, 'cached_tokens': 1792}}, 'model_name': 'gpt-4o-mini-2024-07-18', 'system_fingerprint': 'fp_34a54ae93c', 'id': 'chatcmpl-BlG0MafHzEB2icgRD1sv9ZhmZjek4', 'service_tier': 'default', 'finish_reason': 'tool_calls', 'logprobs': None}, id='run--b70f1ad7-b8bb-49b5-8cf9-416eac46c3d8-0', tool_calls=[{'name': 'Python_REPL', 'args': {'query': '# Check inventory for items related to order ORD001\\norder_items = [(\\'ORD001\\', \\'SKU003\\', 3), (\\'ORD001\\', \\'SKU004\\', 4)]\\ninventory = [(\\'SKU001\\', \\'Gaming Laptop\\', 45, 20, 999.99),\\n            (\\'SKU002\\', \\'Wireless Mouse\\', 150, 50, 29.99),\\n            (\\'SKU003\\', \\'Mechanical Keyboard\\', 5, 30, 89.99),\\n            (\\'SKU004\\', \\'Monitor 27\"\\', 30, 15, 299.99),\\n            (\\'SKU005\\', \\'USB-C Hub\\', 10, 40, 49.99)]\\n\\n# Convert tuples to lists to allow mutation\\ninventory = [list(item) for item in inventory]\\n\\n# Function to process the order and update inventory\\nupdated_inventory = []\\nfor order in order_items:\\n    sku, quantity = order[1], order[2]\\n    for item in inventory:\\n        if item[0] == sku:\\n            if item[2] >= quantity:  # Check if there is enough stock\\n                item[2] -= quantity  # Reduce stock\\n                updated_inventory.append(item)\\n                break\\n\\nupdated_inventory'}, 'id': 'call_UXsFlM7Fo49YlCdTVztW6zqv', 'type': 'tool_call'}], usage_metadata={'input_tokens': 1880, 'output_tokens': 287, 'total_tokens': 2167, 'input_token_details': {'audio': 0, 'cache_read': 1792}, 'output_token_details': {'audio': 0, 'reasoning': 0}}), ToolMessage(content='', name='Python_REPL', id='e330faa1-7e6e-453b-bd75-816a5682e9c6', tool_call_id='call_UXsFlM7Fo49YlCdTVztW6zqv'), AIMessage(content='', additional_kwargs={'tool_calls': [{'id': 'call_w8YJs9IJurtb1Eo5saMOALwr', 'function': {'arguments': '{\"query\":\"# Check inventory for items related to order ORD001\\\\norder_items = [(\\'ORD001\\', \\'SKU003\\', 3), (\\'ORD001\\', \\'SKU004\\', 4)]\\\\ninventory = [(\\'SKU001\\', \\'Gaming Laptop\\', 45, 20, 999.99),\\\\n            (\\'SKU002\\', \\'Wireless Mouse\\', 150, 50, 29.99),\\\\n            (\\'SKU003\\', \\'Mechanical Keyboard\\', 5, 30, 89.99),\\\\n            (\\'SKU004\\', \\'Monitor 27\\\\\"\\', 30, 15, 299.99),\\\\n            (\\'SKU005\\', \\'USB-C Hub\\', 10, 40, 49.99)]\\\\n\\\\n# Function to process the order and update inventory\\\\nfor order in order_items:\\\\n    sku, quantity = order[1], order[2]\\\\n    for idx, item in enumerate(inventory):\\\\n        if item[0] == sku:\\\\n            if item[2] >= quantity:  # Check if there is enough stock\\\\n                inventory[idx][2] -= quantity  # Reduce stock\\\\n                break\\\\n\\\\ninventory\"}', 'name': 'Python_REPL'}, 'type': 'function'}], 'refusal': None}, response_metadata={'token_usage': {'completion_tokens': 257, 'prompt_tokens': 2176, 'total_tokens': 2433, 'completion_tokens_details': {'accepted_prediction_tokens': 0, 'audio_tokens': 0, 'reasoning_tokens': 0, 'rejected_prediction_tokens': 0}, 'prompt_tokens_details': {'audio_tokens': 0, 'cached_tokens': 2048}}, 'model_name': 'gpt-4o-mini-2024-07-18', 'system_fingerprint': 'fp_34a54ae93c', 'id': 'chatcmpl-BlG0QoaREMQKRJU1qSAp01iXztYf6', 'service_tier': 'default', 'finish_reason': 'tool_calls', 'logprobs': None}, id='run--55e0a5a9-6b72-4f5a-94a1-faef44d8da2c-0', tool_calls=[{'name': 'Python_REPL', 'args': {'query': '# Check inventory for items related to order ORD001\\norder_items = [(\\'ORD001\\', \\'SKU003\\', 3), (\\'ORD001\\', \\'SKU004\\', 4)]\\ninventory = [(\\'SKU001\\', \\'Gaming Laptop\\', 45, 20, 999.99),\\n            (\\'SKU002\\', \\'Wireless Mouse\\', 150, 50, 29.99),\\n            (\\'SKU003\\', \\'Mechanical Keyboard\\', 5, 30, 89.99),\\n            (\\'SKU004\\', \\'Monitor 27\"\\', 30, 15, 299.99),\\n            (\\'SKU005\\', \\'USB-C Hub\\', 10, 40, 49.99)]\\n\\n# Function to process the order and update inventory\\nfor order in order_items:\\n    sku, quantity = order[1], order[2]\\n    for idx, item in enumerate(inventory):\\n        if item[0] == sku:\\n            if item[2] >= quantity:  # Check if there is enough stock\\n                inventory[idx][2] -= quantity  # Reduce stock\\n                break\\n\\ninventory'}, 'id': 'call_w8YJs9IJurtb1Eo5saMOALwr', 'type': 'tool_call'}], usage_metadata={'input_tokens': 2176, 'output_tokens': 257, 'total_tokens': 2433, 'input_token_details': {'audio': 0, 'cache_read': 2048}, 'output_token_details': {'audio': 0, 'reasoning': 0}}), ToolMessage(content='TypeError(\"\\'tuple\\' object does not support item assignment\")', name='Python_REPL', id='747bb2cb-8661-4bab-9bcb-5a2ea4da2dd1', tool_call_id='call_w8YJs9IJurtb1Eo5saMOALwr'), AIMessage(content='', additional_kwargs={'tool_calls': [{'id': 'call_EFPvbYKrLZaHNl6xXoU1AaXh', 'function': {'arguments': '{\"query\":\"# Check inventory for items related to order ORD001\\\\norder_items = [(\\'ORD001\\', \\'SKU003\\', 3), (\\'ORD001\\', \\'SKU004\\', 4)]\\\\ninventory = [(\\'SKU001\\', \\'Gaming Laptop\\', 45, 20, 999.99),\\\\n            (\\'SKU002\\', \\'Wireless Mouse\\', 150, 50, 29.99),\\\\n            (\\'SKU003\\', \\'Mechanical Keyboard\\', 5, 30, 89.99),\\\\n            (\\'SKU004\\', \\'Monitor 27\\\\\"\\', 30, 15, 299.99),\\\\n            (\\'SKU005\\', \\'USB-C Hub\\', 10, 40, 49.99)]\\\\n\\\\n# Convert tuples to lists to allow mutation\\\\ninventory = [list(item) for item in inventory]\\\\n\\\\n# Process order\\\\nfor order in order_items:\\\\n    sku, quantity = order[1], order[2]\\\\n    for idx, item in enumerate(inventory):\\\\n        if item[0] == sku:\\\\n            if item[2] >= quantity:  # Check stock\\\\n                inventory[idx][2] -= quantity  # Update stock\\\\n                break\\\\n\\\\ninventory\"}', 'name': 'Python_REPL'}, 'type': 'function'}], 'refusal': None}, response_metadata={'token_usage': {'completion_tokens': 269, 'prompt_tokens': 2454, 'total_tokens': 2723, 'completion_tokens_details': {'accepted_prediction_tokens': 0, 'audio_tokens': 0, 'reasoning_tokens': 0, 'rejected_prediction_tokens': 0}, 'prompt_tokens_details': {'audio_tokens': 0, 'cached_tokens': 2304}}, 'model_name': 'gpt-4o-mini-2024-07-18', 'system_fingerprint': 'fp_34a54ae93c', 'id': 'chatcmpl-BlG0VID7JC4WSsJiPsEzFxZRcRAqM', 'service_tier': 'default', 'finish_reason': 'tool_calls', 'logprobs': None}, id='run--0aa08fb7-2b7d-4f38-8d8a-c277840cf431-0', tool_calls=[{'name': 'Python_REPL', 'args': {'query': '# Check inventory for items related to order ORD001\\norder_items = [(\\'ORD001\\', \\'SKU003\\', 3), (\\'ORD001\\', \\'SKU004\\', 4)]\\ninventory = [(\\'SKU001\\', \\'Gaming Laptop\\', 45, 20, 999.99),\\n            (\\'SKU002\\', \\'Wireless Mouse\\', 150, 50, 29.99),\\n            (\\'SKU003\\', \\'Mechanical Keyboard\\', 5, 30, 89.99),\\n            (\\'SKU004\\', \\'Monitor 27\"\\', 30, 15, 299.99),\\n            (\\'SKU005\\', \\'USB-C Hub\\', 10, 40, 49.99)]\\n\\n# Convert tuples to lists to allow mutation\\ninventory = [list(item) for item in inventory]\\n\\n# Process order\\nfor order in order_items:\\n    sku, quantity = order[1], order[2]\\n    for idx, item in enumerate(inventory):\\n        if item[0] == sku:\\n            if item[2] >= quantity:  # Check stock\\n                inventory[idx][2] -= quantity  # Update stock\\n                break\\n\\ninventory'}, 'id': 'call_EFPvbYKrLZaHNl6xXoU1AaXh', 'type': 'tool_call'}], usage_metadata={'input_tokens': 2454, 'output_tokens': 269, 'total_tokens': 2723, 'input_token_details': {'audio': 0, 'cache_read': 2304}, 'output_token_details': {'audio': 0, 'reasoning': 0}}), ToolMessage(content='', name='Python_REPL', id='0ddfe8d5-9339-4089-9bd3-fa687995e596', tool_call_id='call_EFPvbYKrLZaHNl6xXoU1AaXh'), AIMessage(content='', additional_kwargs={'tool_calls': [{'id': 'call_gdZjcaT4emGFUlK7kgFVxkoD', 'function': {'arguments': '{\"query\": \"UPDATE orders SET status = \\'Processed\\' WHERE order_id = \\'ORD001\\'\"}', 'name': 'sql_db_query'}, 'type': 'function'}, {'id': 'call_zXU1BZt0UjiFNHN9YRGcfJIv', 'function': {'arguments': '{\"query\": \"SELECT * FROM order_items WHERE order_id = \\'ORD001\\'\"}', 'name': 'sql_db_query'}, 'type': 'function'}, {'id': 'call_3pYp2JtDeO92KFyyrwZOOHY7', 'function': {'arguments': '{\"query\": \"SELECT * FROM inventory\"}', 'name': 'sql_db_query'}, 'type': 'function'}], 'refusal': None}, response_metadata={'token_usage': {'completion_tokens': 91, 'prompt_tokens': 2732, 'total_tokens': 2823, 'completion_tokens_details': {'accepted_prediction_tokens': 0, 'audio_tokens': 0, 'reasoning_tokens': 0, 'rejected_prediction_tokens': 0}, 'prompt_tokens_details': {'audio_tokens': 0, 'cached_tokens': 2688}}, 'model_name': 'gpt-4o-mini-2024-07-18', 'system_fingerprint': 'fp_34a54ae93c', 'id': 'chatcmpl-BlG0aCxOgePMIkg0FRBUL3PngM8qo', 'service_tier': 'default', 'finish_reason': 'tool_calls', 'logprobs': None}, id='run--75354f9b-9ebd-46f8-a06c-508ef2eadec8-0', tool_calls=[{'name': 'sql_db_query', 'args': {'query': \"UPDATE orders SET status = 'Processed' WHERE order_id = 'ORD001'\"}, 'id': 'call_gdZjcaT4emGFUlK7kgFVxkoD', 'type': 'tool_call'}, {'name': 'sql_db_query', 'args': {'query': \"SELECT * FROM order_items WHERE order_id = 'ORD001'\"}, 'id': 'call_zXU1BZt0UjiFNHN9YRGcfJIv', 'type': 'tool_call'}, {'name': 'sql_db_query', 'args': {'query': 'SELECT * FROM inventory'}, 'id': 'call_3pYp2JtDeO92KFyyrwZOOHY7', 'type': 'tool_call'}], usage_metadata={'input_tokens': 2732, 'output_tokens': 91, 'total_tokens': 2823, 'input_token_details': {'audio': 0, 'cache_read': 2688}, 'output_token_details': {'audio': 0, 'reasoning': 0}}), ToolMessage(content='', name='sql_db_query', id='905c8ada-bc55-4807-858e-434eb5a129f1', tool_call_id='call_gdZjcaT4emGFUlK7kgFVxkoD'), ToolMessage(content=\"[('ORD001', 'SKU003', 3), ('ORD001', 'SKU004', 4)]\", name='sql_db_query', id='d97206e1-c5c6-40e6-9db4-662543ee3008', tool_call_id='call_zXU1BZt0UjiFNHN9YRGcfJIv'), ToolMessage(content='[(\\'SKU001\\', \\'Gaming Laptop\\', 45, 20, 999.99), (\\'SKU002\\', \\'Wireless Mouse\\', 150, 50, 29.99), (\\'SKU003\\', \\'Mechanical Keyboard\\', 5, 30, 89.99), (\\'SKU004\\', \\'Monitor 27\"\\', 30, 15, 299.99), (\\'SKU005\\', \\'USB-C Hub\\', 10, 40, 49.99)]', name='sql_db_query', id='0658db35-50f5-47a5-8307-df5f353dbc37', tool_call_id='call_3pYp2JtDeO92KFyyrwZOOHY7'), AIMessage(content='The order \"ORD001\" has been checked and consists of the following items:\\n- SKU003: Mechanical Keyboard, Quantity: 3\\n- SKU004: Monitor 27\", Quantity: 4\\n\\nThe current inventory for these items is:\\n- SKU003: 5 available (sufficient stock)\\n- SKU004: 30 available (sufficient stock)\\n\\nBoth items have sufficient stock to fulfill the order.\\n\\nI have processed order \"ORD001\" and updated the order status to \"Processed\". \\n\\n**CONCLUSION:** Order \"ORD001\" processed successfully. Updated status from \"Processing\" to \"Processed\".', additional_kwargs={'refusal': None}, response_metadata={'token_usage': {'completion_tokens': 124, 'prompt_tokens': 2959, 'total_tokens': 3083, 'completion_tokens_details': {'accepted_prediction_tokens': 0, 'audio_tokens': 0, 'reasoning_tokens': 0, 'rejected_prediction_tokens': 0}, 'prompt_tokens_details': {'audio_tokens': 0, 'cached_tokens': 2688}}, 'model_name': 'gpt-4o-mini-2024-07-18', 'system_fingerprint': 'fp_34a54ae93c', 'id': 'chatcmpl-BlG0d4Mdz7prIllaubohBl2ecFYYv', 'service_tier': 'default', 'finish_reason': 'stop', 'logprobs': None}, id='run--45889ec7-a6e4-4504-a45c-fac302436d94-0', usage_metadata={'input_tokens': 2959, 'output_tokens': 124, 'total_tokens': 3083, 'input_token_details': {'audio': 0, 'cache_read': 2688}, 'output_token_details': {'audio': 0, 'reasoning': 0}})]}\n",
      "InventoryManager says: {'messages': [HumanMessage(content='Process order ORD001 and update inventory accordingly', additional_kwargs={}, response_metadata={}, id='bd063434-ac91-4854-a6e6-9f9582978ff4'), HumanMessage(content='The order \"ORD001\" has been checked and consists of the following items:\\n- SKU003: Mechanical Keyboard, Quantity: 3\\n- SKU004: Monitor 27\", Quantity: 4\\n\\nThe current inventory for these items is:\\n- SKU003: 5 available (sufficient stock)\\n- SKU004: 30 available (sufficient stock)\\n\\nBoth items have sufficient stock to fulfill the order.\\n\\nI have processed order \"ORD001\" and updated the order status to \"Processed\". \\n\\n**CONCLUSION:** Order \"ORD001\" processed successfully. Updated status from \"Processing\" to \"Processed\".', additional_kwargs={}, response_metadata={}, name='OrderProcessor', id='dd9adf93-8957-43b3-b11d-770aec528c71'), AIMessage(content='', additional_kwargs={'tool_calls': [{'id': 'call_ciHl7S74C1eFhAoZKIv95VR0', 'function': {'arguments': '{\"query\": \"UPDATE inventory SET quantity = quantity - 3 WHERE sku = \\'SKU003\\';\"}', 'name': 'sql_db_query'}, 'type': 'function'}, {'id': 'call_UYSMGxBCVxXOvlOGnlDkdiNM', 'function': {'arguments': '{\"query\": \"UPDATE inventory SET quantity = quantity - 4 WHERE sku = \\'SKU004\\';\"}', 'name': 'sql_db_query'}, 'type': 'function'}], 'refusal': None}, response_metadata={'token_usage': {'completion_tokens': 76, 'prompt_tokens': 687, 'total_tokens': 763, 'completion_tokens_details': {'accepted_prediction_tokens': 0, 'audio_tokens': 0, 'reasoning_tokens': 0, 'rejected_prediction_tokens': 0}, 'prompt_tokens_details': {'audio_tokens': 0, 'cached_tokens': 0}}, 'model_name': 'gpt-4o-mini-2024-07-18', 'system_fingerprint': 'fp_34a54ae93c', 'id': 'chatcmpl-BlG0i1S1G2psmoSyJYZAdOMGwQDR7', 'service_tier': 'default', 'finish_reason': 'tool_calls', 'logprobs': None}, id='run--db630042-81f1-4e42-80ab-47b3f560af75-0', tool_calls=[{'name': 'sql_db_query', 'args': {'query': \"UPDATE inventory SET quantity = quantity - 3 WHERE sku = 'SKU003';\"}, 'id': 'call_ciHl7S74C1eFhAoZKIv95VR0', 'type': 'tool_call'}, {'name': 'sql_db_query', 'args': {'query': \"UPDATE inventory SET quantity = quantity - 4 WHERE sku = 'SKU004';\"}, 'id': 'call_UYSMGxBCVxXOvlOGnlDkdiNM', 'type': 'tool_call'}], usage_metadata={'input_tokens': 687, 'output_tokens': 76, 'total_tokens': 763, 'input_token_details': {'audio': 0, 'cache_read': 0}, 'output_token_details': {'audio': 0, 'reasoning': 0}}), ToolMessage(content=\"Error: (sqlite3.OperationalError) no such column: sku\\n[SQL: UPDATE inventory SET quantity = quantity - 3 WHERE sku = 'SKU003';]\\n(Background on this error at: https://sqlalche.me/e/20/e3q8)\", name='sql_db_query', id='d40096d8-577e-4b4d-88ad-a655e4d6fa3d', tool_call_id='call_ciHl7S74C1eFhAoZKIv95VR0'), ToolMessage(content=\"Error: (sqlite3.OperationalError) no such column: sku\\n[SQL: UPDATE inventory SET quantity = quantity - 4 WHERE sku = 'SKU004';]\\n(Background on this error at: https://sqlalche.me/e/20/e3q8)\", name='sql_db_query', id='3a527ee8-fc03-40a5-bb52-ae61323ff400', tool_call_id='call_UYSMGxBCVxXOvlOGnlDkdiNM'), AIMessage(content='', additional_kwargs={'tool_calls': [{'id': 'call_ux8wzqTauyj4dcJfHRLJ4VNN', 'function': {'arguments': '{}', 'name': 'sql_db_list_tables'}, 'type': 'function'}], 'refusal': None}, response_metadata={'token_usage': {'completion_tokens': 12, 'prompt_tokens': 890, 'total_tokens': 902, 'completion_tokens_details': {'accepted_prediction_tokens': 0, 'audio_tokens': 0, 'reasoning_tokens': 0, 'rejected_prediction_tokens': 0}, 'prompt_tokens_details': {'audio_tokens': 0, 'cached_tokens': 0}}, 'model_name': 'gpt-4o-mini-2024-07-18', 'system_fingerprint': 'fp_34a54ae93c', 'id': 'chatcmpl-BlG0kvh29FcWoTOGbnNFFxBlJJR79', 'service_tier': 'default', 'finish_reason': 'tool_calls', 'logprobs': None}, id='run--601f90a7-a225-4a67-8dd7-e54ae2682736-0', tool_calls=[{'name': 'sql_db_list_tables', 'args': {}, 'id': 'call_ux8wzqTauyj4dcJfHRLJ4VNN', 'type': 'tool_call'}], usage_metadata={'input_tokens': 890, 'output_tokens': 12, 'total_tokens': 902, 'input_token_details': {'audio': 0, 'cache_read': 0}, 'output_token_details': {'audio': 0, 'reasoning': 0}}), ToolMessage(content='inventory, order_items, orders', name='sql_db_list_tables', id='ff99509e-d52b-4660-8238-229adfa997f7', tool_call_id='call_ux8wzqTauyj4dcJfHRLJ4VNN'), AIMessage(content='', additional_kwargs={'tool_calls': [{'id': 'call_WsaodnQY7YueWUFyU9K03yxd', 'function': {'arguments': '{\"table_names\":\"inventory\"}', 'name': 'sql_db_schema'}, 'type': 'function'}], 'refusal': None}, response_metadata={'token_usage': {'completion_tokens': 16, 'prompt_tokens': 918, 'total_tokens': 934, 'completion_tokens_details': {'accepted_prediction_tokens': 0, 'audio_tokens': 0, 'reasoning_tokens': 0, 'rejected_prediction_tokens': 0}, 'prompt_tokens_details': {'audio_tokens': 0, 'cached_tokens': 0}}, 'model_name': 'gpt-4o-mini-2024-07-18', 'system_fingerprint': 'fp_34a54ae93c', 'id': 'chatcmpl-BlG0lcXWdh8L68EcXFuE86mlLcH89', 'service_tier': 'default', 'finish_reason': 'tool_calls', 'logprobs': None}, id='run--d8a23169-42a1-4c55-94ae-884b7f79d1b6-0', tool_calls=[{'name': 'sql_db_schema', 'args': {'table_names': 'inventory'}, 'id': 'call_WsaodnQY7YueWUFyU9K03yxd', 'type': 'tool_call'}], usage_metadata={'input_tokens': 918, 'output_tokens': 16, 'total_tokens': 934, 'input_token_details': {'audio': 0, 'cache_read': 0}, 'output_token_details': {'audio': 0, 'reasoning': 0}}), ToolMessage(content='\\nCREATE TABLE inventory (\\n\\tproduct_id TEXT, \\n\\tname TEXT, \\n\\tquantity INTEGER, \\n\\treorder_point INTEGER, \\n\\tunit_price REAL, \\n\\tPRIMARY KEY (product_id)\\n)\\n\\n/*\\n3 rows from inventory table:\\nproduct_id\\tname\\tquantity\\treorder_point\\tunit_price\\nSKU001\\tGaming Laptop\\t45\\t20\\t999.99\\nSKU002\\tWireless Mouse\\t150\\t50\\t29.99\\nSKU003\\tMechanical Keyboard\\t5\\t30\\t89.99\\n*/', name='sql_db_schema', id='76c01e98-7399-45d2-94f4-b1d52356fdcc', tool_call_id='call_WsaodnQY7YueWUFyU9K03yxd'), AIMessage(content='', additional_kwargs={'tool_calls': [{'id': 'call_JvYBX9JGAp1yPXaZu63NAlHO', 'function': {'arguments': '{\"query\": \"UPDATE inventory SET quantity = quantity - 3 WHERE product_id = \\'SKU003\\';\"}', 'name': 'sql_db_query'}, 'type': 'function'}, {'id': 'call_uzshkINFjEc5opBzWfm4s5XJ', 'function': {'arguments': '{\"query\": \"UPDATE inventory SET quantity = quantity - 4 WHERE product_id = \\'SKU004\\';\"}', 'name': 'sql_db_query'}, 'type': 'function'}], 'refusal': None}, response_metadata={'token_usage': {'completion_tokens': 78, 'prompt_tokens': 1042, 'total_tokens': 1120, 'completion_tokens_details': {'accepted_prediction_tokens': 0, 'audio_tokens': 0, 'reasoning_tokens': 0, 'rejected_prediction_tokens': 0}, 'prompt_tokens_details': {'audio_tokens': 0, 'cached_tokens': 0}}, 'model_name': 'gpt-4o-mini-2024-07-18', 'system_fingerprint': 'fp_34a54ae93c', 'id': 'chatcmpl-BlG0moQaDAGB8u2NPQQjpUvyA4Kto', 'service_tier': 'default', 'finish_reason': 'tool_calls', 'logprobs': None}, id='run--5acee300-5961-463d-9c32-b59b6dd1987c-0', tool_calls=[{'name': 'sql_db_query', 'args': {'query': \"UPDATE inventory SET quantity = quantity - 3 WHERE product_id = 'SKU003';\"}, 'id': 'call_JvYBX9JGAp1yPXaZu63NAlHO', 'type': 'tool_call'}, {'name': 'sql_db_query', 'args': {'query': \"UPDATE inventory SET quantity = quantity - 4 WHERE product_id = 'SKU004';\"}, 'id': 'call_uzshkINFjEc5opBzWfm4s5XJ', 'type': 'tool_call'}], usage_metadata={'input_tokens': 1042, 'output_tokens': 78, 'total_tokens': 1120, 'input_token_details': {'audio': 0, 'cache_read': 0}, 'output_token_details': {'audio': 0, 'reasoning': 0}}), ToolMessage(content='', name='sql_db_query', id='ba4649d2-c627-4157-a560-4164a3567f32', tool_call_id='call_JvYBX9JGAp1yPXaZu63NAlHO'), ToolMessage(content='', name='sql_db_query', id='de5b70e1-2da1-45d2-8991-e58481f898a5', tool_call_id='call_uzshkINFjEc5opBzWfm4s5XJ'), AIMessage(content='', additional_kwargs={'tool_calls': [{'id': 'call_dRksUgOKRmIdXdhwOTD8LLZN', 'function': {'arguments': '{\"query\":\"SELECT product_id, quantity FROM inventory WHERE product_id IN (\\'SKU003\\', \\'SKU004\\');\"}', 'name': 'sql_db_query'}, 'type': 'function'}], 'refusal': None}, response_metadata={'token_usage': {'completion_tokens': 33, 'prompt_tokens': 1134, 'total_tokens': 1167, 'completion_tokens_details': {'accepted_prediction_tokens': 0, 'audio_tokens': 0, 'reasoning_tokens': 0, 'rejected_prediction_tokens': 0}, 'prompt_tokens_details': {'audio_tokens': 0, 'cached_tokens': 1024}}, 'model_name': 'gpt-4o-mini-2024-07-18', 'system_fingerprint': 'fp_34a54ae93c', 'id': 'chatcmpl-BlG0nhCSKJL8Sh2HTMi0UMwHu4Kn9', 'service_tier': 'default', 'finish_reason': 'tool_calls', 'logprobs': None}, id='run--3cfdf554-ef15-4cc4-a118-ee3a10558f62-0', tool_calls=[{'name': 'sql_db_query', 'args': {'query': \"SELECT product_id, quantity FROM inventory WHERE product_id IN ('SKU003', 'SKU004');\"}, 'id': 'call_dRksUgOKRmIdXdhwOTD8LLZN', 'type': 'tool_call'}], usage_metadata={'input_tokens': 1134, 'output_tokens': 33, 'total_tokens': 1167, 'input_token_details': {'audio': 0, 'cache_read': 1024}, 'output_token_details': {'audio': 0, 'reasoning': 0}}), ToolMessage(content=\"[('SKU003', 2), ('SKU004', 26)]\", name='sql_db_query', id='c7fa1107-3cd4-4939-a42a-2c8369745d4f', tool_call_id='call_dRksUgOKRmIdXdhwOTD8LLZN'), AIMessage(content='*Analysis/Actions taken:*\\n- The inventory has been updated for the items in order \"ORD001\":\\n  - SKU003 (Mechanical Keyboard): Quantity updated from 5 to 2.\\n  - SKU004 (Monitor 27\"): Quantity updated from 30 to 26.\\n\\nCONCLUSION: Order \"ORD001\" processed successfully. Updated inventory for SKU003 from 5 to 2 units and for SKU004 from 30 to 26 units.', additional_kwargs={'refusal': None}, response_metadata={'token_usage': {'completion_tokens': 93, 'prompt_tokens': 1191, 'total_tokens': 1284, 'completion_tokens_details': {'accepted_prediction_tokens': 0, 'audio_tokens': 0, 'reasoning_tokens': 0, 'rejected_prediction_tokens': 0}, 'prompt_tokens_details': {'audio_tokens': 0, 'cached_tokens': 0}}, 'model_name': 'gpt-4o-mini-2024-07-18', 'system_fingerprint': 'fp_34a54ae93c', 'id': 'chatcmpl-BlG0olHafSjiaeCRSDe41wboe2WzT', 'service_tier': 'default', 'finish_reason': 'stop', 'logprobs': None}, id='run--b1ca7126-036b-4c0e-bb52-ba9080fe9ac6-0', usage_metadata={'input_tokens': 1191, 'output_tokens': 93, 'total_tokens': 1284, 'input_token_details': {'audio': 0, 'cache_read': 0}, 'output_token_details': {'audio': 0, 'reasoning': 0}})]}\n",
      "\n",
      "Final Result:\n"
     ]
    },
    {
     "data": {
      "text/markdown": [
       "*Analysis/Actions taken:*\n",
       "- The inventory has been updated for the items in order \"ORD001\":\n",
       "  - SKU003 (Mechanical Keyboard): Quantity updated from 5 to 2.\n",
       "  - SKU004 (Monitor 27\"): Quantity updated from 30 to 26.\n",
       "\n",
       "CONCLUSION: Order \"ORD001\" processed successfully. Updated inventory for SKU003 from 5 to 2 units and for SKU004 from 30 to 26 units."
      ],
      "text/plain": [
       "<IPython.core.display.Markdown object>"
      ]
     },
     "metadata": {},
     "output_type": "display_data"
    }
   ],
   "source": [
    "from IPython.display import Markdown\n",
    "\n",
    "# Example usage\n",
    "queries = [\n",
    "    #\"Check all products below their reorder point and create a restock report\",\n",
    "    \"Process order ORD001 and update inventory accordingly\",\n",
    "    # \"Analyze the top 5 selling products from the last 20 orders and visualize the results\",\n",
    "     #\"Check if we have enough inventory to fulfill order ORD005 and process it if possible\"\n",
    "]\n",
    "\n",
    "for query in queries:\n",
    "    print(f\"\\nProcessing query: {query}\")\n",
    "    print(\"-\" * 50)\n",
    "    result = graph.invoke(\n",
    "            {\n",
    "                \"messages\": [\n",
    "                    HumanMessage(content=query)\n",
    "                ]\n",
    "            }\n",
    "        )\n",
    "    print(\"\\nFinal Result:\")\n",
    "\n",
    "   \n",
    "    display(Markdown(result['messages'][-1].content))\n",
    "\n",
    "    # for s in graph.stream(\n",
    "    #     {\n",
    "    #         \"messages\": [\n",
    "    #             HumanMessage(content=query)\n",
    "    #         ]\n",
    "    #     }\n",
    "    # ):\n",
    "    #     if \"__end__\" not in s:\n",
    "    #         print(s)\n",
    "    #         print(\"----\")"
   ]
  },
  {
   "cell_type": "code",
   "execution_count": null,
   "metadata": {},
   "outputs": [],
   "source": []
  }
 ],
 "metadata": {
  "colab": {
   "provenance": []
  },
  "kernelspec": {
   "display_name": "agenticai",
   "language": "python",
   "name": "python3"
  },
  "language_info": {
   "codemirror_mode": {
    "name": "ipython",
    "version": 3
   },
   "file_extension": ".py",
   "mimetype": "text/x-python",
   "name": "python",
   "nbconvert_exporter": "python",
   "pygments_lexer": "ipython3",
   "version": "3.13.5"
  }
 },
 "nbformat": 4,
 "nbformat_minor": 0
}
