{
  "cells": [
    {
      "cell_type": "markdown",
      "metadata": {
        "id": "jC6vKNjA8I4o"
      },
      "source": [
        "# **In this lab, you will understand the basics of <font color=\"red\"> Langchain. </font>**\n",
        "\n",
        "Install the below libraries required for this lab."
      ]
    },
    {
      "cell_type": "code",
      "execution_count": null,
      "metadata": {
        "id": "QL5Xdm7lHIT-"
      },
      "outputs": [],
      "source": [
        "pip install langchain langchain_openai langsmith python-dotenv"
      ]
    },
    {
      "cell_type": "markdown",
      "metadata": {
        "id": "ZnHeSbQI8I4s"
      },
      "source": [
        "If you are using Jupyter notebook, follow the below instructions. Else skip this step and go to next step\n",
        "\n",
        "**Open .env file in this folder and observe that we have configured OPENAI_API_KEY. Replace it with your own key or key given by me**\n",
        "\n",
        "The Code in the below cell will load the .env file and set environment variables.\n",
        "\n",
        "**Write the code in the below cell and execute it**"
      ]
    },
    {
      "cell_type": "code",
      "execution_count": 1,
      "metadata": {
        "id": "NMeCNwXY8I4t"
      },
      "outputs": [
        {
          "name": "stdout",
          "output_type": "stream",
          "text": [
            "OPENAI_API_KEY  in environment variables is  6i1aCDa8k4eT7RvAz7XvSpJB8EQo9gKK7EoH5G5f92V8onnC7I5nJQQJ99BDACYeBjFXJ3w3AAAAACOGkbOc\n"
          ]
        }
      ],
      "source": [
        "from dotenv import load_dotenv\n",
        "import os\n",
        "# Load environment variables from .env file\n",
        "load_dotenv()\n",
        "\n",
        "# Access the 'OPENAI_API_KEY' from the environment\n",
        "openai_api_key = os.getenv('OPENAI_API_KEY')\n",
        "if openai_api_key:\n",
        " print(\"OPENAI_API_KEY  in environment variables is \",openai_api_key)\n",
        "else:\n",
        "    print(\"OPENAI_API_KEY not found in environment variables.\")\n"
      ]
    },
    {
      "cell_type": "markdown",
      "metadata": {},
      "source": [
        "Ignore the below if you are not using Azure OpenAI"
      ]
    },
    {
      "cell_type": "code",
      "execution_count": 2,
      "metadata": {},
      "outputs": [],
      "source": [
        "azure_openai_api_key = \"33lOhJMyWY9Q2mylbg8OCRsc9jsmlF5r5XBC5eVVDJifssj5XXgPJQQJ99BDACfhMk5XJ3w3AAAAACOGULII\"\n",
        "azure_openai_endpoint = \"https://sivap-m92qj7xv-swedencentral.openai.azure.com/openai/deployments/gpt-4o-mini/chat/completions?api-version=2025-01-01-preview\"\n",
        "azure_openai_deployment = \"gpt-4o-mini\" # Your GPT-4o-mini deployment name\n"
      ]
    },
    {
      "cell_type": "markdown",
      "metadata": {
        "id": "wqt_u4JJ8I4u"
      },
      "source": [
        "# We want to send messages using GPT API\n",
        "\n",
        "Write code in the below cell, understand it and execute it."
      ]
    },
    {
      "cell_type": "code",
      "execution_count": null,
      "metadata": {
        "colab": {
          "base_uri": "https://localhost:8080/"
        },
        "id": "Z3_avhS5Gsrb",
        "outputId": "a18a913d-6d05-4837-9ee1-fbda2f033987"
      },
      "outputs": [],
      "source": [
        "from langchain_openai import ChatOpenAI\n",
        "from langchain_core.messages import HumanMessage, SystemMessage\n",
        "messages = [\n",
        "    SystemMessage(content=\"Translate the following from English into Hindi\"),\n",
        "    HumanMessage(content=\"Hello!\"),\n",
        "]\n",
        "llm = ChatOpenAI()\n",
        "\n",
        "result = llm.invoke(messages)\n",
        "result"
      ]
    },
    {
      "cell_type": "markdown",
      "metadata": {
        "id": "aUd8NfL-8I4u"
      },
      "source": [
        "**Notice that the response from the model is an AIMessage.**\n",
        "\n",
        "This contains a string response along with other metadata about the response. Oftentimes we may just want to work with the string response.\n",
        "Understand and execute below code"
      ]
    },
    {
      "cell_type": "code",
      "execution_count": null,
      "metadata": {
        "colab": {
          "base_uri": "https://localhost:8080/",
          "height": 36
        },
        "id": "lB6DmeMw8I4u",
        "outputId": "6d0cca5d-6d9a-496a-8801-644c831ee530"
      },
      "outputs": [],
      "source": [
        "from langchain_core.output_parsers import StrOutputParser\n",
        "\n",
        "parser = StrOutputParser()\n",
        "\n",
        "result = llm.invoke(messages)\n",
        "parser.invoke(result)"
      ]
    },
    {
      "cell_type": "markdown",
      "metadata": {
        "id": "C8Ohq2ML8I4v"
      },
      "source": [
        "**We can create a chain such that the output of invoking llm will be given as input to parser.**\n",
        "\n",
        "Understand and execute below code"
      ]
    },
    {
      "cell_type": "code",
      "execution_count": null,
      "metadata": {
        "colab": {
          "base_uri": "https://localhost:8080/",
          "height": 36
        },
        "id": "TIrC062c8I4v",
        "outputId": "df2b1562-d837-4acc-8cba-486b1823b273"
      },
      "outputs": [],
      "source": [
        "chain = llm | parser\n",
        "chain.invoke(messages)"
      ]
    },
    {
      "cell_type": "markdown",
      "metadata": {
        "id": "WnHvRGcy8I4v"
      },
      "source": [
        "# Understanding Prompt Templates\n",
        "\n",
        "Let's create a PromptTemplate here. It will take in two user variables:\n",
        "\n",
        "<font color=\"red\"> **language** </font>: The language to translate text into\n",
        "\n",
        "<font color=\"red\"> **text** </font>: The text to translate"
      ]
    },
    {
      "cell_type": "code",
      "execution_count": null,
      "metadata": {
        "colab": {
          "base_uri": "https://localhost:8080/"
        },
        "id": "aULY0H3z8I4v",
        "outputId": "d425bb01-6f12-4539-f35a-1f69306cf333"
      },
      "outputs": [],
      "source": [
        "from langchain_core.prompts import ChatPromptTemplate\n",
        "\n",
        "\n",
        "\n",
        "prompt_template = ChatPromptTemplate(\n",
        "    [(\"system\", \"Translate the following into {language}:\"),\n",
        "    (\"user\", \"{text}\")]\n",
        ")\n",
        "\n",
        "result = prompt_template.invoke({\"language\": \"chinese\", \"text\": \"hi\"})\n",
        "\n",
        "result"
      ]
    },
    {
      "cell_type": "markdown",
      "metadata": {
        "id": "DI_eY4u18I4w"
      },
      "source": [
        "## Chaining prompt template, llm and parser"
      ]
    },
    {
      "cell_type": "code",
      "execution_count": null,
      "metadata": {
        "colab": {
          "base_uri": "https://localhost:8080/",
          "height": 36
        },
        "id": "AAeuQrzU8I4w",
        "outputId": "34d3a59d-8a0b-4b29-e6c6-0af9aeaaa1b2"
      },
      "outputs": [],
      "source": [
        "chain = prompt_template | llm | parser\n",
        "chain.invoke({\"language\": \"chinese\", \"text\": \"hi\"})"
      ]
    },
    {
      "cell_type": "markdown",
      "metadata": {
        "id": "dmB0snTR8I4w"
      },
      "source": [
        "See this link to understand how to use **FewShotPromptTemplate.**\n",
        "\n",
        "https://python.langchain.com/docs/how_to/few_shot_examples/"
      ]
    },
    {
      "cell_type": "markdown",
      "metadata": {
        "id": "fLdeBfQ88I4w"
      },
      "source": [
        "## Define Data Models and using pydantic parser for generating format instructions\n",
        "Define the data models using <font color=\"red\"> **Pydantic** </font> to structure the information about people as shown below\n",
        "\n",
        "Use the below code and execute it in new cell"
      ]
    },
    {
      "cell_type": "code",
      "execution_count": null,
      "metadata": {
        "colab": {
          "base_uri": "https://localhost:8080/"
        },
        "id": "Xke5QUsA8uCJ",
        "outputId": "7aa44ce9-2a08-4dbb-b035-99b8cc30d79d"
      },
      "outputs": [],
      "source": [
        "from typing import List\n",
        "\n",
        "from langchain_core.output_parsers import PydanticOutputParser\n",
        "from langchain_core.prompts import ChatPromptTemplate\n",
        "from pydantic import BaseModel, Field\n",
        "\n",
        "\n",
        "class Person(BaseModel):\n",
        "    \"\"\"Information about a person.\"\"\"\n",
        "\n",
        "    name: str = Field(description=\"The name of the person\")\n",
        "    height_in_meters: float = Field(\n",
        "        description=\"The height of the person expressed in meters.\"\n",
        "    )\n",
        "\n",
        "\n",
        "class People(BaseModel):\n",
        "    \"\"\"Identifying information about all people in a text.\"\"\"\n",
        "\n",
        "    people: List[Person]\n",
        "\n",
        "\n",
        "# Set up a parser\n",
        "parser = PydanticOutputParser(pydantic_object=People)\n",
        "\n",
        "print(parser.get_format_instructions())\n"
      ]
    },
    {
      "cell_type": "code",
      "execution_count": null,
      "metadata": {
        "colab": {
          "base_uri": "https://localhost:8080/",
          "height": 148
        },
        "id": "0FMUn3XA-6QJ",
        "outputId": "fea5c483-16dd-4ffb-e2e3-4c48927661ab"
      },
      "outputs": [],
      "source": [
        "\n",
        "# Prompt\n",
        "prompt = ChatPromptTemplate.from_messages(\n",
        "    [\n",
        "        (\n",
        "            \"system\",\n",
        "            \"Answer the user query. Wrap the output in `json` tags\\n{format_instructions}\",\n",
        "        ),\n",
        "        (\"human\", \"{query}\"),\n",
        "    ]\n",
        ").partial(format_instructions=parser.get_format_instructions())\n",
        "\n",
        "from IPython.display import HTML,Markdown\n",
        "\n",
        "Markdown(prompt.invoke({\"query\": \"Rishik is 13 years old and she is 6 feet tall . Siva is 43 years old and 5.7 feet tall\"}).messages[0].content)"
      ]
    },
    {
      "cell_type": "markdown",
      "metadata": {
        "id": "VrVYdaZh8I4w"
      },
      "source": [
        "# Using the above prompt , create a chain  and invoke it to get json response\n",
        "\n",
        "Use the below code and execute it in new cell"
      ]
    },
    {
      "cell_type": "code",
      "execution_count": null,
      "metadata": {
        "colab": {
          "base_uri": "https://localhost:8080/",
          "height": 225
        },
        "id": "QjCeOXWW9sbA",
        "outputId": "bb1af3a3-9a45-474f-a001-2331a49770de"
      },
      "outputs": [],
      "source": [
        "chain = prompt | llm\n",
        "query = \"Rishik is 13 years old and hhe is 6 feet tall . Siva is 43 years old and 5.6 feet tall\"\n",
        "\n",
        "chain.invoke({\"query\": query})\n",
        "\n",
        "from IPython.display import HTML,Markdown\n",
        "\n",
        "result=chain.invoke({\"query\": query})\n",
        "(Markdown(result.content))\n"
      ]
    },
    {
      "cell_type": "markdown",
      "metadata": {
        "id": "OHOME_KaAlRB"
      },
      "source": [
        "***We can cache the llm responses. See the below URL to understand about caching***\n",
        "\n",
        "https://python.langchain.com/docs/how_to/chat_model_caching/"
      ]
    },
    {
      "cell_type": "code",
      "execution_count": null,
      "metadata": {
        "id": "tHAvkANB_Fs8"
      },
      "outputs": [],
      "source": [
        "pip install -U langchain-community"
      ]
    },
    {
      "cell_type": "code",
      "execution_count": null,
      "metadata": {
        "colab": {
          "base_uri": "https://localhost:8080/"
        },
        "id": "WYpAl1px8I4x",
        "outputId": "3c73bc61-2eb8-4869-8e32-136528055ac4"
      },
      "outputs": [],
      "source": [
        "%%time\n",
        "\n",
        "from langchain.globals import set_llm_cache\n",
        "from langchain.cache import InMemoryCache\n",
        "\n",
        "set_llm_cache(InMemoryCache())\n"
      ]
    },
    {
      "cell_type": "code",
      "execution_count": null,
      "metadata": {
        "colab": {
          "base_uri": "https://localhost:8080/"
        },
        "id": "NsMbWfJZ8I4x",
        "outputId": "2ed95093-6fd3-4c15-b961-15f19e043e2d"
      },
      "outputs": [],
      "source": [
        "%%time\n",
        "llm.invoke(\"Tell me a joke\")"
      ]
    },
    {
      "cell_type": "code",
      "execution_count": null,
      "metadata": {
        "colab": {
          "base_uri": "https://localhost:8080/"
        },
        "id": "9t7U0TUDBDOi",
        "outputId": "79296247-e5a2-4448-f205-7172b3dbc179"
      },
      "outputs": [],
      "source": [
        "%%time\n",
        "llm.invoke(\"Tell me a joke\")"
      ]
    }
  ],
  "metadata": {
    "colab": {
      "provenance": []
    },
    "kernelspec": {
      "display_name": "venv",
      "language": "python",
      "name": "python3"
    },
    "language_info": {
      "codemirror_mode": {
        "name": "ipython",
        "version": 3
      },
      "file_extension": ".py",
      "mimetype": "text/x-python",
      "name": "python",
      "nbconvert_exporter": "python",
      "pygments_lexer": "ipython3",
      "version": "3.12.9"
    }
  },
  "nbformat": 4,
  "nbformat_minor": 0
}
