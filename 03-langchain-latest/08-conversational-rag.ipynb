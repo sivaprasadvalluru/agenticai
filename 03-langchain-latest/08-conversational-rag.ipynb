{
 "cells": [
  {
   "cell_type": "markdown",
   "id": "c201ab5c-105b-4999-8efb-3f13628abd92",
   "metadata": {
    "id": "c201ab5c-105b-4999-8efb-3f13628abd92"
   },
   "source": [
    "# In this lab, you will understand how to acheive conversational RAG"
   ]
  },
  {
   "cell_type": "code",
   "execution_count": null,
   "id": "d7939edb-b2e0-4346-bd2f-274c2e98f724",
   "metadata": {
    "id": "d7939edb-b2e0-4346-bd2f-274c2e98f724"
   },
   "outputs": [],
   "source": [
    "pip install langchain-huggingface langchain_core langchain_openai  langchain_community faiss-cpu pypdf gradio python-dotenv bs4"
   ]
  },
  {
   "cell_type": "code",
   "execution_count": null,
   "id": "6c097141",
   "metadata": {
    "id": "6c097141"
   },
   "outputs": [],
   "source": [
    "pip install fastapi nest-asyncio pyngrok uvicorn"
   ]
  },
  {
   "cell_type": "markdown",
   "id": "409ea448-349e-4c2f-bd0d-083ad99c539a",
   "metadata": {
    "id": "409ea448-349e-4c2f-bd0d-083ad99c539a"
   },
   "source": [
    "\n",
    "\n",
    "**Open .env file in this folder and observe that we have configured OPENAI_API_KEY. Replace it with your own key or key given by me**\n",
    "\n",
    "The Code in the below cell will load the .env file and set environment variables.\n",
    "\n",
    "**Write the code in the below cell and execute it**"
   ]
  },
  {
   "cell_type": "code",
   "execution_count": 6,
   "id": "e0d55369-fc14-49ce-a02a-1d671678852e",
   "metadata": {
    "id": "e0d55369-fc14-49ce-a02a-1d671678852e",
    "outputId": "769a9c27-00dc-4fe8-c840-5ece5ee15f0e"
   },
   "outputs": [
    {
     "data": {
      "text/plain": [
       "True"
      ]
     },
     "execution_count": 6,
     "metadata": {},
     "output_type": "execute_result"
    }
   ],
   "source": [
    "from langchain_core.documents import Document\n",
    "from langchain_huggingface.embeddings import HuggingFaceEmbeddings\n",
    "from dotenv import load_dotenv\n",
    "\n",
    "load_dotenv()"
   ]
  },
  {
   "cell_type": "code",
   "execution_count": 7,
   "id": "7b11108c-93af-48a0-8523-c814ac0b2c0a",
   "metadata": {
    "id": "7b11108c-93af-48a0-8523-c814ac0b2c0a"
   },
   "outputs": [],
   "source": [
    "\n",
    "from langchain_openai import ChatOpenAI\n",
    "\n",
    "llm = ChatOpenAI(model=\"gpt-4o-mini\")"
   ]
  },
  {
   "cell_type": "markdown",
   "id": "9842ecfd-4f26-4ed8-a264-52feb5220e66",
   "metadata": {
    "id": "9842ecfd-4f26-4ed8-a264-52feb5220e66"
   },
   "source": [
    "**Below code is loading data from a web URL into FAISS Vector Store**\n",
    "\n",
    "**Understand the below code and execute it**"
   ]
  },
  {
   "cell_type": "code",
   "execution_count": 14,
   "id": "af5152ed-0c12-4d3b-bfac-9c0245ae7358",
   "metadata": {
    "id": "af5152ed-0c12-4d3b-bfac-9c0245ae7358"
   },
   "outputs": [],
   "source": [
    "from langchain_community.document_loaders.pdf import PyPDFLoader\n",
    "from langchain.text_splitter import CharacterTextSplitter\n",
    "from langchain_community.vectorstores import FAISS\n",
    "from langchain_openai.embeddings import OpenAIEmbeddings\n",
    "from langchain_huggingface.embeddings import HuggingFaceEmbeddings\n",
    "\n",
    "\n",
    "\n",
    "\n",
    "#loader = PyPDFLoader(file_path=\"drive/MyDrive/Colab Notebooks/ds-book.pdf\")\n",
    "loader = PyPDFLoader(file_path=\"employee-handbook.pdf\")\n",
    "documents = loader.load()\n",
    "\n",
    "text_splitter = CharacterTextSplitter(chunk_size=1000, chunk_overlap=30, separator=\"\\n\")\n",
    "splits = text_splitter.split_documents(documents=documents)\n",
    "\n",
    "\n",
    "vectorstore = FAISS.from_documents(documents=splits, embedding=HuggingFaceEmbeddings())\n",
    "retriever = vectorstore.as_retriever()\n"
   ]
  },
  {
   "cell_type": "markdown",
   "id": "8eb49e01-db2b-4b4a-b557-48f55330d91f",
   "metadata": {
    "id": "8eb49e01-db2b-4b4a-b557-48f55330d91f"
   },
   "source": [
    "**Observe the below code and understand how we are creating RAG Chain using the retriever**\n",
    "\n",
    "**Execute it. and observe the result**"
   ]
  },
  {
   "cell_type": "code",
   "execution_count": 31,
   "id": "b91fcd41-d36f-42b9-b3f8-05b979c3188d",
   "metadata": {
    "colab": {
     "base_uri": "https://localhost:8080/"
    },
    "executionInfo": {
     "elapsed": 1650,
     "status": "ok",
     "timestamp": 1730708317979,
     "user": {
      "displayName": "SivaPrasad Valluru",
      "userId": "03440549206981602615"
     },
     "user_tz": -330
    },
    "id": "b91fcd41-d36f-42b9-b3f8-05b979c3188d",
    "outputId": "e5211475-8a9b-483f-cb36-c80c8226e499"
   },
   "outputs": [
    {
     "name": "stdout",
     "output_type": "stream",
     "text": [
      "- General Attendance\n",
      "- Tardiness\n",
      "- Conflict of Interest (not explicitly listed, but can be inferred from the context)\n"
     ]
    }
   ],
   "source": [
    "from langchain_core.prompts import ChatPromptTemplate\n",
    "from langchain_core.runnables import RunnablePassthrough\n",
    "from langchain.chains.combine_documents.stuff import create_stuff_documents_chain\n",
    "from langchain.chains.retrieval import create_retrieval_chain\n",
    "from langchain_core.prompts import MessagesPlaceholder\n",
    "\n",
    "\n",
    "message = \"\"\"\n",
    "Answer this question using the provided context only. If you dont know the answer, just say 'I dont know'\n",
    "{input}\n",
    "Context:\n",
    "{context}\n",
    "\"\"\"\n",
    "\n",
    "prompt = ChatPromptTemplate.from_messages([\n",
    "     MessagesPlaceholder(\"chat_history\"),\n",
    "    (\"human\", message)\n",
    "\n",
    "    ]\n",
    "    )\n",
    "llm = ChatOpenAI(model=\"gpt-4o-mini\")\n",
    "\n",
    "\n",
    "\n",
    "question_answer_chain = create_stuff_documents_chain(llm, prompt)\n",
    "rag_chain = create_retrieval_chain(retriever, question_answer_chain)\n",
    "chat_history= []\n",
    "input=  \"\"\"Give me the policy names related to employee attendance , punctuality and conflict of interest.\n",
    "    Give me only names as list\"\"\"\n",
    "\n",
    "response = rag_chain.invoke({\n",
    "    \"chat_history\":chat_history,\n",
    "    \"input\" : input\n",
    "})\n",
    "\n",
    "\n",
    "\n",
    "print(response[\"answer\"])"
   ]
  },
  {
   "cell_type": "markdown",
   "id": "f2994a4b-4de8-48dc-9f26-15d166732bf8",
   "metadata": {
    "id": "f2994a4b-4de8-48dc-9f26-15d166732bf8"
   },
   "source": [
    "**Execute below code and observe that this Rag chain doesnot give expected response to a followup question . It is not conversational**"
   ]
  },
  {
   "cell_type": "code",
   "execution_count": 32,
   "id": "d255ab25",
   "metadata": {
    "colab": {
     "base_uri": "https://localhost:8080/"
    },
    "executionInfo": {
     "elapsed": 808,
     "status": "ok",
     "timestamp": 1730708390991,
     "user": {
      "displayName": "SivaPrasad Valluru",
      "userId": "03440549206981602615"
     },
     "user_tz": -330
    },
    "id": "d255ab25",
    "outputId": "3e7963b2-9742-48c7-8e1f-fa6238f2b0d8"
   },
   "outputs": [
    {
     "name": "stdout",
     "output_type": "stream",
     "text": [
      "- Companies may consider instituting a Confidentiality policy.\n",
      "- A Conflict of Interest policy is important for maintaining ethical standards.\n",
      "- Intellectual Property Ownership is crucial for protecting company assets.\n",
      "- Policies on Outside Employment can prevent conflicts with company goals.\n",
      "- Companies may offer Additional Benefits, such as Training or Education Reimbursement.\n",
      "- Expense Reporting policies help in managing company expenses.\n",
      "- Guidelines for the Use of Company Vehicles ensure safety and proper usage.\n",
      "- A policy specific to computer systems should protect against employee misuse and viruses.\n",
      "- Employees are expected to act in a professional manner and fulfill job responsibilities.\n",
      "- Performance reviews evaluate various factors including attendance and punctuality.  \n",
      "- Performance reviews can influence pay increases, promotions, and terminations.\n",
      "- Written performance evaluations can be issued at any time to address unacceptable performance.\n",
      "- Changes in employment status do not alter the at-will relationship with the company.\n"
     ]
    }
   ],
   "source": [
    "from langchain_core.messages import AIMessage, HumanMessage\n",
    "chat_history= []\n",
    "chat_history.extend(\n",
    "    [\n",
    "    HumanMessage(content=input),\n",
    "    AIMessage(content=response[\"answer\"])\n",
    "    ]\n",
    ")\n",
    "\n",
    "response = rag_chain.invoke({\n",
    "    \"chat_history\":chat_history,\n",
    "    \"input\" : \"\"\"Can you elaborate about those points\n",
    "                and give me response as bullet points in different lines\"\"\"\n",
    "})\n",
    "\n",
    "\n",
    "print(response['answer'])"
   ]
  },
  {
   "cell_type": "markdown",
   "id": "4032a963",
   "metadata": {
    "id": "4032a963"
   },
   "source": [
    "**The response doesnot contain relevant details**"
   ]
  },
  {
   "cell_type": "markdown",
   "id": "ZsPdJPxHVlEK",
   "metadata": {
    "id": "ZsPdJPxHVlEK"
   },
   "source": [
    "# Maitinaining history in conversation"
   ]
  },
  {
   "cell_type": "markdown",
   "id": "7f079bcc-4c41-43b9-aa9c-b5acb8dc6031",
   "metadata": {
    "id": "7f079bcc-4c41-43b9-aa9c-b5acb8dc6031"
   },
   "source": [
    "**We need a retriever which maintains the chat_history and will create one standalone question from the history and use it as a system message**\n",
    "\n",
    "**Observe the below code and understan how we are creating history aware retriever**\n",
    "\n",
    "**Execute the below code**"
   ]
  },
  {
   "cell_type": "code",
   "execution_count": 35,
   "id": "ae6e2267",
   "metadata": {
    "id": "ae6e2267"
   },
   "outputs": [],
   "source": [
    "from langchain.chains import create_history_aware_retriever\n",
    "from langchain_core.prompts import MessagesPlaceholder\n",
    "\n",
    "contextualize_q_prompt =  \"\"\"Given above  chat history and the below  latest user question\n",
    "    which might reference context in the chat history,\n",
    "    formulate a standalone question which can be understood\n",
    "    without the chat history. Do NOT answer the question,\n",
    "    just reformulate it if needed and otherwise return it as is.\n",
    "    Below is the latest  question:\n",
    "\n",
    "    {input}\n",
    "    \"\"\"\n",
    "\n",
    "\n",
    "contextualize_q_prompt = ChatPromptTemplate.from_messages(\n",
    "    [\n",
    "       # (\"system\", contextualize_q_system_prompt),\n",
    "        MessagesPlaceholder(\"chat_history\"),\n",
    "        (\"human\", f\"\"\"{contextualize_q_prompt}\"\"\" ),\n",
    "\n",
    "    ]\n",
    ")\n",
    "history_aware_retriever = create_history_aware_retriever(\n",
    "    llm, retriever, contextualize_q_prompt\n",
    ")\n",
    "\n",
    "result=history_aware_retriever.invoke(\n",
    "    {\n",
    "    \"chat_history\":chat_history,\n",
    "    \"input\" : \"\"\"Can you elaborate about those points\n",
    "                and give me response as bullet points in different lines\"\"\"\n",
    "\n",
    ")\n",
    "\n",
    "# result\n",
    "#history_aware_retriever.invoke({\"input\":\"What is Task Decomposition?\"})\n",
    "#history_aware_retriever.invoke({\"input\":\"how can we achieve it?\"})"
   ]
  },
  {
   "cell_type": "markdown",
   "id": "06428da4-e750-4103-8cb3-5c9f17507c19",
   "metadata": {
    "id": "06428da4-e750-4103-8cb3-5c9f17507c19"
   },
   "source": [
    "**Observe the below code and understand how we are using history_aware_retriever to create a retrieval chain.**\n",
    "\n",
    "**Also Observe that we have added chat_history variable in the prompt template**\n",
    "\n",
    "**Execute the below code**"
   ]
  },
  {
   "cell_type": "code",
   "execution_count": 36,
   "id": "0ec4ed32",
   "metadata": {
    "id": "0ec4ed32"
   },
   "outputs": [],
   "source": [
    "from langchain.chains import create_retrieval_chain\n",
    "from langchain.chains.combine_documents import create_stuff_documents_chain\n",
    "\n",
    "\n",
    "\n",
    "\n",
    "qa_prompt = ChatPromptTemplate.from_messages(\n",
    "    [\n",
    "        (\"system\", (\n",
    "                        \"\"\"You are an assistant for question-answering tasks.\n",
    "                        \"Answer this question using the provided context only.\n",
    "                        If you dont know the answer, just say 'I dont know'\n",
    "                        {context}\"\"\"\n",
    "                    )),\n",
    "        MessagesPlaceholder(\"chat_history\"),\n",
    "        (\"human\", \"{input}\"),\n",
    "    ]\n",
    ")\n",
    "\n",
    "\n",
    "question_answer_chain = create_stuff_documents_chain(llm, qa_prompt)\n",
    "\n",
    "contextual_rag_chain = create_retrieval_chain(history_aware_retriever, question_answer_chain)\n"
   ]
  },
  {
   "cell_type": "markdown",
   "id": "b9ae064c",
   "metadata": {
    "id": "b9ae064c"
   },
   "source": [
    "![conversational_rag.png](data:image/png;base64,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)\n"
   ]
  },
  {
   "cell_type": "markdown",
   "id": "8cf8da50-a1a3-4610-8063-2370e43a00e7",
   "metadata": {
    "id": "8cf8da50-a1a3-4610-8063-2370e43a00e7"
   },
   "source": [
    "**Below code is managing the chat history manually.**\n",
    "\n",
    "**Understand the below code and execute it**"
   ]
  },
  {
   "cell_type": "code",
   "execution_count": 38,
   "id": "b7107b8b",
   "metadata": {
    "colab": {
     "base_uri": "https://localhost:8080/"
    },
    "executionInfo": {
     "elapsed": 7016,
     "status": "ok",
     "timestamp": 1730708583577,
     "user": {
      "displayName": "SivaPrasad Valluru",
      "userId": "03440549206981602615"
     },
     "user_tz": -330
    },
    "id": "b7107b8b",
    "outputId": "406a160e-a522-43a2-a108-8eb360a92a5a"
   },
   "outputs": [
    {
     "name": "stdout",
     "output_type": "stream",
     "text": [
      "Give me the policy names related to employee attendance , punctuality and conflict of interest. \n",
      "    Give me only names as list\n",
      "1. General Attendance  \n",
      "2. Tardiness  \n",
      "3. Breaks  \n",
      "Can you elaborate about those points and give me response as bullet points in different lines\n",
      "- **General Attendance**: The company maintains normal working hours of 8 a.m. to 5 p.m., which may vary depending on work location and job responsibilities. Employees must notify a supervisor in advance of any tardiness or absenteeism, and chronic absenteeism may lead to disciplinary action.\n",
      "\n",
      "- **Tardiness**: Employees are expected to arrive on time and ready for work. Arriving 5 minutes after the scheduled time is considered tardy.\n",
      "\n",
      "- **Breaks**: (No details provided in the context regarding breaks; I cannot elaborate.)\n"
     ]
    }
   ],
   "source": [
    "from langchain_core.messages import AIMessage, HumanMessage\n",
    "\n",
    "chat_history = []\n",
    "\n",
    "\n",
    "\n",
    "\n",
    "question = \"\"\"Give me the policy names related to employee attendance , punctuality and conflict of interest.\n",
    "    Give me only names as list\"\"\"\n",
    "print(question)\n",
    "ai_msg_1 = contextual_rag_chain.invoke({\"input\": question, \"chat_history\": chat_history})\n",
    "print(ai_msg_1[\"answer\"])\n",
    "\n",
    "chat_history.extend(\n",
    "    [\n",
    "        HumanMessage(content=question),\n",
    "        AIMessage(content=ai_msg_1[\"answer\"]),\n",
    "    ]\n",
    ")\n",
    "\n",
    "second_question = \"Can you elaborate about those points and give me response as bullet points in different lines\"\n",
    "print(second_question)\n",
    "ai_msg_2 = contextual_rag_chain.invoke({\"input\": second_question, \"chat_history\": chat_history})\n",
    "\n",
    "print(ai_msg_2[\"answer\"])"
   ]
  },
  {
   "cell_type": "markdown",
   "id": "f1af5a34-ba6c-4a42-9eb2-199632d39f15",
   "metadata": {
    "id": "f1af5a34-ba6c-4a42-9eb2-199632d39f15"
   },
   "source": [
    "**Below code uses RunnableWithMessageHistory to maintain history automatically based on session_id**\n",
    "\n",
    "**Understand the below code and execute it**"
   ]
  },
  {
   "cell_type": "code",
   "execution_count": 39,
   "id": "36c7d585",
   "metadata": {
    "id": "36c7d585"
   },
   "outputs": [],
   "source": [
    "from langchain_community.chat_message_histories import ChatMessageHistory\n",
    "from langchain_core.chat_history import BaseChatMessageHistory\n",
    "from langchain_core.runnables.history import RunnableWithMessageHistory\n",
    "\n",
    "store = {}\n",
    "\n",
    "\n",
    "def get_session_history(session_id: str) -> BaseChatMessageHistory:\n",
    "    if session_id not in store:\n",
    "        store[session_id] = ChatMessageHistory()\n",
    "    return store[session_id]\n",
    "\n",
    "\n",
    "conversational_rag_chain = RunnableWithMessageHistory(\n",
    "    contextual_rag_chain,\n",
    "    get_session_history,\n",
    "    input_messages_key=\"input\",\n",
    "    history_messages_key=\"chat_history\",\n",
    "    output_messages_key=\"answer\",\n",
    ")"
   ]
  },
  {
   "cell_type": "markdown",
   "id": "0ed96bd3-7914-4b69-9112-4430e5efbcfa",
   "metadata": {
    "id": "0ed96bd3-7914-4b69-9112-4430e5efbcfa"
   },
   "source": [
    "**Invoke the chain 2 times with same session id and observe that the chain remembers the previous messages in the conversation**\n",
    "\n"
   ]
  },
  {
   "cell_type": "code",
   "execution_count": 40,
   "id": "dd0d23fe",
   "metadata": {
    "colab": {
     "base_uri": "https://localhost:8080/",
     "height": 107
    },
    "executionInfo": {
     "elapsed": 2319,
     "status": "ok",
     "timestamp": 1730708655176,
     "user": {
      "displayName": "SivaPrasad Valluru",
      "userId": "03440549206981602615"
     },
     "user_tz": -330
    },
    "id": "dd0d23fe",
    "outputId": "4911ea22-baf4-469f-9836-231677fd3801"
   },
   "outputs": [
    {
     "name": "stdout",
     "output_type": "stream",
     "text": [
      "The policies included about employee attendance and punctuality are:\n",
      "\n",
      "1. General Attendance\n",
      "2. Tardiness\n"
     ]
    }
   ],
   "source": [
    "response=conversational_rag_chain.invoke(\n",
    "    {\"input\": \"What policies does the handbook include about employee attendance and punctuality? Just give ploicy names\"},\n",
    "    config={\n",
    "        \"configurable\": {\"session_id\": \"abc1235\"}\n",
    "    },  # constructs a key \"abc123\" in `store`.\n",
    ")\n",
    "print(response[\"answer\"])"
   ]
  },
  {
   "cell_type": "code",
   "execution_count": 41,
   "id": "7659602a",
   "metadata": {
    "colab": {
     "base_uri": "https://localhost:8080/",
     "height": 125
    },
    "executionInfo": {
     "elapsed": 3519,
     "status": "ok",
     "timestamp": 1730708668164,
     "user": {
      "displayName": "SivaPrasad Valluru",
      "userId": "03440549206981602615"
     },
     "user_tz": -330
    },
    "id": "7659602a",
    "outputId": "1e143777-b460-4bcd-9f99-ae456224ea51"
   },
   "outputs": [
    {
     "name": "stdout",
     "output_type": "stream",
     "text": [
      "- **General Attendance**: \n",
      "  - Employees are expected to adhere to normal working hours, typically from 8 a.m. to 5 p.m. \n",
      "  - Work hours may vary based on location and job responsibilities.\n",
      "  - Supervisors will communicate individual work schedules to employees.\n",
      "  - Employees should notify supervisors in advance if they are going to be late or absent.\n",
      "  - Chronic absenteeism may lead to disciplinary action.\n",
      "  - Employees must inform supervisors before leaving early; unauthorized departures may result in disciplinary action.\n",
      "\n",
      "- **Tardiness**: \n",
      "  - Employees are expected to arrive on time and ready for work.\n",
      "  - Arriving 5 minutes after the scheduled arrival time is considered tardy.\n"
     ]
    }
   ],
   "source": [
    "response= conversational_rag_chain.invoke(\n",
    "    {\"input\": \"Can you elaborate about those points and give me response as bullet points in different lines\"},\n",
    "    config={\"configurable\": {\"session_id\": \"abc1235\"}},\n",
    ")\n",
    "\n",
    "print(response[\"answer\"])"
   ]
  },
  {
   "cell_type": "markdown",
   "id": "7a74384e-b4d6-4f71-9ddc-06439e586d62",
   "metadata": {
    "id": "7a74384e-b4d6-4f71-9ddc-06439e586d62"
   },
   "source": [
    "**Run the below code to see all the messages in the chat history**"
   ]
  },
  {
   "cell_type": "code",
   "execution_count": 42,
   "id": "a9717e65",
   "metadata": {
    "colab": {
     "base_uri": "https://localhost:8080/"
    },
    "executionInfo": {
     "elapsed": 413,
     "status": "ok",
     "timestamp": 1730708723542,
     "user": {
      "displayName": "SivaPrasad Valluru",
      "userId": "03440549206981602615"
     },
     "user_tz": -330
    },
    "id": "a9717e65",
    "outputId": "7cf0ec18-e59d-4c56-a166-130e0212b612"
   },
   "outputs": [
    {
     "name": "stdout",
     "output_type": "stream",
     "text": [
      "User: What policies does the handbook include about employee attendance and punctuality? Just give ploicy names\n",
      "\n",
      "AI: The policies included about employee attendance and punctuality are:\n",
      "\n",
      "1. General Attendance\n",
      "2. Tardiness\n",
      "\n",
      "User: Can you elaborate about those points and give me response as bullet points in different lines\n",
      "\n",
      "AI: - **General Attendance**: \n",
      "  - Employees are expected to adhere to normal working hours, typically from 8 a.m. to 5 p.m. \n",
      "  - Work hours may vary based on location and job responsibilities.\n",
      "  - Supervisors will communicate individual work schedules to employees.\n",
      "  - Employees should notify supervisors in advance if they are going to be late or absent.\n",
      "  - Chronic absenteeism may lead to disciplinary action.\n",
      "  - Employees must inform supervisors before leaving early; unauthorized departures may result in disciplinary action.\n",
      "\n",
      "- **Tardiness**: \n",
      "  - Employees are expected to arrive on time and ready for work.\n",
      "  - Arriving 5 minutes after the scheduled arrival time is considered tardy.\n",
      "\n"
     ]
    }
   ],
   "source": [
    "for message in store[\"abc1235\"].messages:\n",
    "    if isinstance(message, AIMessage):\n",
    "        prefix = \"AI\"\n",
    "    else:\n",
    "        prefix = \"User\"\n",
    "\n",
    "    print(f\"{prefix}: {message.content}\\n\")"
   ]
  }
 ],
 "metadata": {
  "colab": {
   "provenance": []
  },
  "kernelspec": {
   "display_name": ".venv",
   "language": "python",
   "name": "python3"
  },
  "language_info": {
   "codemirror_mode": {
    "name": "ipython",
    "version": 3
   },
   "file_extension": ".py",
   "mimetype": "text/x-python",
   "name": "python",
   "nbconvert_exporter": "python",
   "pygments_lexer": "ipython3",
   "version": "3.12.9"
  }
 },
 "nbformat": 4,
 "nbformat_minor": 5
}
